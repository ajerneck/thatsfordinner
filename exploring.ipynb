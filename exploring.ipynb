{
 "cells": [
  {
   "cell_type": "markdown",
   "metadata": {
    "collapsed": true,
    "tags": [
     "worksheet-0"
    ]
   },
   "source": [
    "# Imports and configuration."
   ]
  },
  {
   "cell_type": "code",
   "execution_count": 134,
   "metadata": {
    "collapsed": false,
    "tags": [
     "worksheet-0"
    ]
   },
   "outputs": [],
   "source": [
    "%matplotlib inline"
   ]
  },
  {
   "cell_type": "code",
   "execution_count": 135,
   "metadata": {
    "collapsed": false,
    "tags": [
     "worksheet-0"
    ]
   },
   "outputs": [],
   "source": [
    "import lda\n",
    "import numpy as np\n",
    "import matplotlib\n",
    "import matplotlib.pyplot as plt\n",
    "import pandas as pd\n",
    "import psycopg2\n",
    "import seaborn as sns\n",
    "from sklearn.feature_extraction.text import CountVectorizer\n",
    "from sklearn.feature_extraction import text\n",
    "\n",
    "import common\n",
    "\n",
    "import functions as f\n",
    "\n"
   ]
  },
  {
   "cell_type": "code",
   "execution_count": 136,
   "metadata": {
    "collapsed": false,
    "tags": [
     "worksheet-0"
    ]
   },
   "outputs": [],
   "source": [
    "matplotlib.style.use('ggplot')"
   ]
  },
  {
   "cell_type": "markdown",
   "metadata": {
    "collapsed": true,
    "tags": [
     "worksheet-0"
    ]
   },
   "source": [
    "# Load data"
   ]
  },
  {
   "cell_type": "code",
   "execution_count": 137,
   "metadata": {
    "collapsed": false,
    "tags": [
     "worksheet-0"
    ]
   },
   "outputs": [
    {
     "name": "stdout",
     "output_type": "stream",
     "text": [
      "\n",
      "Loaded 16539 records in total\n"
     ]
    },
    {
     "name": "stdout",
     "output_type": "stream",
     "text": [
      "Loaded 4506 records from epicurious.com\n",
      "Loaded 12033 records from allrecipes.com"
     ]
    }
   ],
   "source": [
    "con = common.make_engine()\n",
    "\n",
    "df_ep = pd.read_sql_table('recipes_recipe', con)\n",
    "df_ep = df_ep[['title','ingredient_txt','url','image']]\n",
    "df_ep['source'] = 'epicurious.com'\n",
    "print('Loaded %s records from epicurious.com' % df_ep.shape[0])\n",
    "\n",
    "df_ar = pd.read_sql_table('allrecipes', con)\n",
    "df_ar = df_ar[['data-name','ingredients','url','data-imageurl']]\n",
    "df_ar.columns = ['title','ingredient_txt','url','image']\n",
    "df_ar['source'] = 'allrecipes.com'\n",
    "\n",
    "df_ar = df_ar.drop_duplicates('url')\n",
    "df_ar.reset_index()\n",
    "\n",
    "print('Loaded %s records from allrecipes.com' % df_ar.shape[0])\n",
    "\n",
    "df = pd.concat([df_ep, df_ar], ignore_index=True)\n",
    "\n",
    "print('Loaded %s records in total' % df.shape[0])\n",
    "\n",
    "## TODO: fix unicode here.\n"
   ]
  },
  {
   "cell_type": "markdown",
   "metadata": {
    "collapsed": true,
    "tags": [
     "worksheet-0"
    ]
   },
   "source": [
    "## Examining and cleaning data"
   ]
  },
  {
   "cell_type": "code",
   "execution_count": 138,
   "metadata": {
    "collapsed": false,
    "tags": [
     "worksheet-0"
    ]
   },
   "outputs": [
    {
     "data": {
      "text/plain": [
       "<matplotlib.figure.Figure at 0x7fd86331ef90>"
      ]
     },
     "metadata": {},
     "output_type": "display_data"
    },
    {
     "name": "stdout",
     "output_type": "stream",
     "text": [
      "count    16526.000000\n",
      "mean       296.671366\n",
      "std        127.103774\n",
      "min         23.000000\n",
      "25%        206.000000\n",
      "50%        280.000000\n",
      "75%        371.000000\n",
      "max       1087.000000\n",
      "Name: ingredient_txt, dtype: float64\n"
     ]
    }
   ],
   "source": [
    "df = df[df['ingredient_txt'].str.len() > 20]\n",
    "print df['ingredient_txt'].str.len().describe()\n",
    "df['ingredient_txt'].str.len().plot(kind='hist').set_title('Ingredients character count')\n",
    "df = df.reset_index()\n",
    "\n",
    "\n"
   ]
  },
  {
   "cell_type": "code",
   "execution_count": 139,
   "metadata": {
    "collapsed": false,
    "tags": [
     "worksheet-0"
    ]
   },
   "outputs": [],
   "source": [
    "## clean up quoting.\n",
    "pattern = \"[\\\"\\']\"\n",
    "for k in ['title', 'ingredient_txt', 'url', 'image']:\n",
    "    df[k] = df[k].str.replace(pattern, '')\n",
    "\n",
    "## formatting ingredients.\n",
    "df['ingredient_txt'] = df['ingredient_txt'].str.replace('\\n',' ')\n"
   ]
  },
  {
   "cell_type": "code",
   "execution_count": 140,
   "metadata": {
    "collapsed": false,
    "tags": [
     "worksheet-0"
    ]
   },
   "outputs": [
    {
     "data": {
      "text/plain": [
       "<matplotlib.figure.Figure at 0x7fd86315b3d0>"
      ]
     },
     "metadata": {},
     "output_type": "display_data"
    },
    {
     "data": {
      "text/plain": [
       "<matplotlib.axes._subplots.AxesSubplot at 0x7fd862af2d10>"
      ]
     },
     "execution_count": 140,
     "metadata": {},
     "output_type": "execute_result"
    }
   ],
   "source": [
    "# Extract features\n",
    "vectorizer = CountVectorizer(\n",
    "             stop_words='english'\n",
    "           , ngram_range=(1, 2)\n",
    "           , token_pattern='[A-Za-z]+'\n",
    "           , min_df = 10\n",
    "           , max_df = 0.25\n",
    ")\n",
    "\n",
    "features = vectorizer.fit_transform(df.ingredient_txt)\n",
    "## features is a document x term matrix.\n",
    "\n",
    "wc = f.feature_counts(vectorizer, features)\n",
    "\n",
    "wc.sort('count').tail(25).plot('word','count', kind='bar')\n"
   ]
  },
  {
   "cell_type": "code",
   "execution_count": 141,
   "metadata": {
    "collapsed": false,
    "tags": [
     "worksheet-0"
    ]
   },
   "outputs": [
    {
     "name": "stdout",
     "output_type": "stream",
     "text": [
      "Finished running model\n"
     ]
    }
   ],
   "source": [
    "m = lda.LDA(n_topics=40, random_state=0, n_iter=200)\n",
    "m.fit(features)\n",
    "print('Finished running model')\n"
   ]
  },
  {
   "cell_type": "markdown",
   "metadata": {
    "collapsed": true,
    "tags": [
     "worksheet-0"
    ]
   },
   "source": [
    "# Evaluating the model.\n",
    "## Convergence"
   ]
  },
  {
   "cell_type": "code",
   "execution_count": 142,
   "metadata": {
    "collapsed": false,
    "tags": [
     "worksheet-0"
    ]
   },
   "outputs": [
    {
     "data": {
      "text/plain": [
       "<matplotlib.figure.Figure at 0x7fd872a43e90>"
      ]
     },
     "metadata": {},
     "output_type": "display_data"
    },
    {
     "data": {
      "text/plain": [
       "<matplotlib.text.Text at 0x7fd86316db90>"
      ]
     },
     "execution_count": 142,
     "metadata": {},
     "output_type": "execute_result"
    }
   ],
   "source": [
    "plt.plot(m.loglikelihoods_, '-')\n",
    "plt.title('Loglikelihood')\n"
   ]
  },
  {
   "cell_type": "markdown",
   "metadata": {
    "collapsed": true,
    "tags": [
     "worksheet-0"
    ]
   },
   "source": [
    "# Assessing topics"
   ]
  },
  {
   "cell_type": "code",
   "execution_count": 143,
   "metadata": {
    "collapsed": false,
    "tags": [
     "worksheet-0"
    ]
   },
   "outputs": [],
   "source": [
    "## Extracting topic data.\n",
    "\n",
    "## most probable words by topic.\n",
    "## TODO: check if these are properly sorted within each topic.\n",
    "w = f.most_probable_words(m, vectorizer.get_feature_names(), 10)\n",
    "\n",
    "## most probable documents by topic.\n",
    "# np.apply_along_axis(lambda i: df.iloc[i]['title'], 1, doc_ids)\n",
    "\n",
    "doc_ids = np.argsort(m.doc_topic_, axis=0)[-4:-1,:].T\n",
    "\n",
    "doc_probs = np.sort(m.doc_topic_, axis=0)[-4:-1,:].T\n",
    "\n",
    "\n"
   ]
  },
  {
   "cell_type": "code",
   "execution_count": 144,
   "metadata": {
    "collapsed": false,
    "tags": [
     "worksheet-0"
    ]
   },
   "outputs": [],
   "source": [
    "## TODO: store one set of results for each run.\n",
    "\n",
    "\n",
    "## massage document ids and probabilities into form suitable for database.\n",
    "di = pd.DataFrame(doc_ids)\n",
    "di['topic'] = di.index\n",
    "di = pd.melt(di, id_vars='topic')\n",
    "di.columns = ['topic','rank','recipe_key']\n",
    "\n",
    "dp = pd.DataFrame(doc_probs)\n",
    "dp['topic'] = dp.index\n",
    "dp = pd.melt(dp, id_vars='topic')\n",
    "dp.columns = ['topic','rank','prob']\n",
    "\n",
    "dd = pd.merge(di, dp)\n",
    "dd.to_sql('doc_prob', con, if_exists='replace')\n",
    "\n",
    "# store recipes\n",
    "df['key'] = df.index\n",
    "df.to_sql('clean_recipes', con, if_exists='replace')\n",
    "\n",
    "# store words\n",
    "w.columns = ['rank','topic','word','prob']\n",
    "w.to_sql('word_probs', con, if_exists='replace')\n"
   ]
  },
  {
   "cell_type": "code",
   "execution_count": 145,
   "metadata": {
    "collapsed": false,
    "tags": [
     "worksheet-0"
    ]
   },
   "outputs": [
    {
     "name": "stdout",
     "output_type": "stream",
     "text": [
      "\n",
      "topic: 39\n",
      "                        title      prob\n",
      "19           Kung Pao Chicken  0.805000\n",
      "81  Japanese Broiled Mackerel  0.809677\n",
      "49         Sesame Seared Tuna  0.820455\n"
     ]
    },
    {
     "name": "stdout",
     "output_type": "stream",
     "text": [
      "\n",
      "                                 title      prob\n",
      "18  Calamari with Roasted Tomato Sauce  0.504545\n",
      "95            Mediterranean Fried Rice  0.544068\n",
      "58                     Pasta Siciliano  0.555357\n",
      "topic: 27\n",
      "                             title      prob\n",
      "114  Simple Classic Roasted Turkey  0.478947\n",
      "104          Cube Steak with Gravy  0.503846\n",
      "90         Venison Salisbury Steak  0.551667\n",
      "topic: 28\n",
      "                          title      prob\n",
      "3            Green Banana Shake  0.641667\n",
      "7  Raspberry Lemon Splash Shake  0.658621\n",
      "6              Hot Vanilla Chai  0.736667\n",
      "topic: 29\n",
      "                                                title      prob\n",
      "86                                   Orange Salmon II  0.569565\n",
      "72  Sweet Dijon Basa Swai Fish (or a fish of your ...  0.636667\n",
      "54                         Lemon-Orange Orange Roughy  0.671429\n",
      "topic: 30\n",
      "                             title      prob\n",
      "26         Charred Tomatillo Salsa  0.771795\n",
      "8   Thai Celery Salad with Peanuts  0.801818\n",
      "11           Tomatillo Salsa Verde  0.813514\n",
      "topic: 31\n",
      "                                                title      prob\n",
      "1                     Simple Garlic Confit with Herbs  0.568750\n",
      "0   Herby Black Rice Salad with Radishes and Ricot...  0.569565\n",
      "80                                     Sauerbraten IV  0.595313\n",
      "topic: 32\n",
      "                            title      prob\n",
      "88   Tasty Grilled Hoisin Chicken  0.561111\n",
      "118        Salsa Simmered Chicken  0.589655\n",
      "73         Rachael\\u0027s Chicken  0.604000\n",
      "topic: 33\n",
      "                                                title      prob\n",
      "12          Grilled Steak with Parsley-Parmesan Salad  0.694872\n",
      "2         Hobo Pack Potatoes with Rosemary and Garlic  0.745714\n",
      "32  Double Rack of Pork with Burnt Orange-Caramel ...  0.802500\n",
      "topic: 34\n",
      "                          title    prob\n",
      "52       One Pot Tuna Casserole  0.8500\n",
      "93   Fern\\u0027s Tuna Casserole  0.8525\n",
      "65  Easy Weeknight Tuna Pot Pie  0.8620\n",
      "topic: 35\n",
      "                                             title      prob\n",
      "96                          Grilled Cheese De Mayo  0.766667\n",
      "74  Amy\\u0027s Triple Decker Turkey Bacon Sandwich  0.770000\n",
      "61                                             BLT  0.822727\n",
      "topic: 36\n",
      "                                 title      prob\n",
      "77                         Pastachutta  0.717857\n",
      "66   Penne with Pancetta and Mushrooms  0.746809\n",
      "112         Whole Wheat Pasta Marinara  0.752778\n",
      "topic: 37\n",
      "                           title      prob\n",
      "106  Bethany\\u0027s Frito(R) Pie  0.755000\n",
      "4               Tortilla Pillows  0.777273\n",
      "97           3 Cheese Enchiladas  0.824194\n",
      "topic: 38\n",
      "                                 title      prob\n",
      "101                Smoked Herb Chicken  0.589655\n",
      "53                 The Best Clam Sauce  0.639394\n",
      "50   Scott Ure\\u0027s Clams And Garlic  0.669697"
     ]
    },
    {
     "name": "stdout",
     "output_type": "stream",
     "text": [
      "\n",
      "                              title      prob\n",
      "108            Marsha\\u0027s Garoni  0.656522\n",
      "48   Three Packet Slow Cooker Roast  0.702000\n",
      "102             Onion Ranch Burgers  0.703333\n",
      "topic: 14\n",
      "                  title      prob\n",
      "22   Blue Crab Beignets  0.360714\n",
      "16  Arugula Salsa Verde  0.360937\n",
      "79      Filipino Lumpia  0.391667\n",
      "topic: 15\n",
      "                   title      prob\n",
      "59    Quiche Lorraine II  0.592308\n",
      "64        Crab Quiche II  0.592308\n",
      "91  Chicken Pecan Quiche  0.597872\n",
      "topic: 16\n",
      "                                                title      prob\n",
      "25       Chocolate-Dipped Salted Caramel Marshmallows  0.765278\n",
      "34  Maple-Gingerbread Layer Cake with Salted Maple...  0.811538\n",
      "5                        Bourbon-Vanilla Marshmallows  0.816279\n",
      "topic: 17\n",
      "                  title      prob\n",
      "30       Peach Prosecco  0.783333\n",
      "37        Ipanema Punch  0.786486\n",
      "17  Corpse Reviver 3000  0.794737\n",
      "topic: 18\n",
      "                                title      prob\n",
      "78          Rajma (Kidney Bean Curry)  0.743299\n",
      "43  Indian Chicken Curry (Murgh Kari)  0.753608\n",
      "55           Indian Dahl with Spinach  0.762000\n",
      "topic: 19\n",
      "                                title      prob\n",
      "38                     Baby Back Ribs  0.721429\n",
      "44  My Kid\\u0027s Favorite Pork Chops  0.734615\n",
      "41    Sarge\\u0027s EZ Pulled Pork BBQ  0.777273\n",
      "topic: 20\n",
      "                          title      prob\n",
      "47             Salmon Patties I  0.640909\n",
      "63     The Perfect Basic Burger  0.640909\n",
      "40  Fast and Friendly Meatballs  0.656522\n",
      "topic: 21\n",
      "                                               title      prob\n",
      "23               Pea, Asparagus, and Fava Bean Salad  0.383951\n",
      "28                           Scallops à La Provençal  0.427941\n",
      "9   Fava Bean and Pea Salad with Poppy Seed Dressing  0.428000\n",
      "topic: 22\n",
      "                         title      prob\n",
      "87       Kimbop (Korean Sushi)  0.540000\n",
      "69  Cucumber and Avocado Sushi  0.592308\n",
      "10        Chopstick Ready Rice  0.610000\n",
      "topic: 23\n",
      "                                              title      prob\n",
      "92  Bourbon Apple Cider and Honey Glazed Pork Chops  0.745714\n",
      "42                           Apple Butter Pork Loin  0.771795\n",
      "67                          Savory Apple Pork Chops  0.794737\n",
      "topic: 24\n",
      "                                title      prob\n",
      "20  Zucchini-Wrapped Halibut Scallops  0.675000\n",
      "56                  Rump Roast Au Jus  0.720513\n",
      "68   Whole Chicken Slow Cooker Recipe  0.752778\n",
      "topic: 25\n",
      "                   title      prob\n",
      "13    Great British Fool  0.443750\n",
      "83      Noodles Romanoff  0.444118\n",
      "60  Easy Beef Strogonoff  0.444186\n",
      "topic: 26"
     ]
    },
    {
     "name": "stdout",
     "output_type": "stream",
     "text": [
      "topic: 0\n",
      "                                                title      prob\n",
      "14  Poached Seckel Pear with Pomegranate, Cabrales...  0.522917\n",
      "24                                 Thiebaud Pink Cake  0.531579\n",
      "35                     Mushroom Goat Cheese Pan Sauce  0.531579\n",
      "topic: 1\n",
      "                                     title      prob\n",
      "29                              Bún Bò Hue  0.452500\n",
      "103  Classic Smoked Sausage \\u0026 Peppers  0.474545\n",
      "113                             Dinengdeng  0.526190\n",
      "topic: 2\n",
      "                                    title      prob\n",
      "111                     Cretons de Quebec  0.459091\n",
      "70         Roasted Garlic Flat Iron Steak  0.478947\n",
      "115  Coffee-Crusted Beef Tenderloin Steak  0.515385\n",
      "topic: 3\n",
      "                             title      prob\n",
      "110  Pork Tenderloin (Gluten-Free)  0.565625\n",
      "82             Roasted Sherry Duck  0.583871\n",
      "45     Mediterranean Lemon Chicken  0.604000\n",
      "topic: 4\n",
      "                                                title      prob\n",
      "94                              Manicotti Pancakes II  0.700000\n",
      "33  Witchs Finger Bread Sticks with Maple Mustard Dip  0.703333\n",
      "21                           Fried Chicken with Gravy  0.724000\n",
      "topic: 5\n",
      "                                          title      prob\n",
      "31                       Fruit and Nut Pancakes  0.816667\n",
      "27   Coconut Macaroon Sandwiches with Lime Curd  0.821212\n",
      "116                        Joyce\\u0027s Granola  0.823077\n",
      "topic: 6\n",
      "                         title      prob\n",
      "107  Hard-Boiled Egg Casserole  0.425000\n",
      "62       Steamed Lobster Tails  0.435714\n",
      "75    Zucchini and Pecan Saute  0.505556\n",
      "topic: 7\n",
      "                                        title      prob\n",
      "15            Kale Pesto with Toasted Walnuts  0.567391\n",
      "117                  Caprese-Stuffed Zucchini  0.577273\n",
      "36   Fresh Herb, Grapefruit, and Fennel Salad  0.627500\n",
      "topic: 8\n",
      "                                        title      prob\n",
      "71      Spicy Coconut and Lime Grilled Shrimp  0.638636\n",
      "98  Garlic, Cilantro, and Lime Sauteed Shrimp  0.669697\n",
      "51                  Spicy Lime Grilled Shrimp  0.684000\n",
      "topic: 9\n",
      "                     title      prob\n",
      "99           Messy Burgers  0.432143\n",
      "39  Cabbage Roll Casserole  0.460000\n",
      "57    Best Ever Meatloaf I  0.467857\n",
      "topic: 10\n",
      "                        title      prob\n",
      "100               Pizzaghetti  0.823077\n",
      "105  Campfire Pepperoni Pizza  0.830435\n",
      "89            Ravioli Lasagna  0.872222\n",
      "topic: 11\n",
      "                        title      prob\n",
      "109                      Tava  0.608929\n",
      "84   Superb Sausage Casserole  0.634694\n",
      "76     Quinoa Stuffed Peppers  0.674138\n",
      "topic: 12\n",
      "                                 title      prob\n",
      "46               Chili Dog Casserole I  0.522222\n",
      "85              Easy, Crunchy Hot Dogs  0.542308\n",
      "119  Honey Mustard BBQ Pork Medallions  0.580769\n",
      "topic: 13"
     ]
    }
   ],
   "source": [
    "xx = pd.merge(df, dd, left_on='key', right_on='recipe_key', how='right')\n",
    "for n, g in xx.groupby('topic'):\n",
    "    print 'topic: %s' % n\n",
    "    print g[['title','prob']].sort('prob').to_string()"
   ]
  },
  {
   "cell_type": "code",
   "execution_count": 146,
   "metadata": {
    "collapsed": false,
    "tags": [
     "worksheet-0"
    ]
   },
   "outputs": [
    {
     "name": "stdout",
     "output_type": "stream",
     "text": [
      "\n",
      "======================================================================\n",
      "topic: 38\n",
      "documents:\n",
      " Scott Ure\\u0027s Clams And Garlic   0.669697\n",
      "               The Best Clam Sauce  0.6393939\n",
      "               Smoked Herb Chicken  0.5896552\n",
      "1 (4 pound) whole chicken 3 tablespoons butter 1 tablespoon chopped fresh parsley 1 tablespoon chopped fresh oregano 1 tablespoon chopped fresh basil 1 tablespoon fresh chives, finely chopped-----1 (16 ounce) package dry linguini 1 onion, chopped 6 cloves garlic, chopped 3 tablespoons olive oil 4 (6.5 ounce) cans minced clams 1/2 cup butter salt and pepper to taste 2 tablespoons dry white wine-----50 small clams in shell, scrubbed 2 tablespoons extra virgin olive oil 6 cloves garlic, minced 1 cup white wine 2 tablespoons butter 1/2 cup chopped fresh parsley\n",
      "----------------------------------------------------------------------\n",
      " parsley  white   wine  fresh parsley  white wine    dry  minced  tablespoons chopped  tablespoon chopped\n",
      "   0.045  0.042  0.041          0.038       0.035  0.029   0.026                0.025               0.023\n",
      "======================================================================\n",
      "topic: 39\n",
      "documents:\n",
      "        Sesame Seared Tuna  0.8204545\n",
      " Japanese Broiled Mackerel  0.8096774\n",
      "          Kung Pao Chicken      0.805\n",
      " 1 tablespoon soy sauce 2 teaspoons Chinese rice wine or dry sherry 1 1/2 teaspoons cornstarch -----4 mackerel fillets 1/4 cup soy sauce 1/4 cup mirin (Japanese sweet wine) 1 tablespoon white sugar 1/2 tablespoon grated fresh ginger root-----1/4 cup soy sauce 1 tablespoon mirin (Japanese sweet wine) 1 tablespoon honey 2 tablespoons sesame oil 1 tablespoon rice wine vinegar 4 (6 ounce) tuna steaks 1/2 cup sesame seeds wasabi paste 1 tablespoon olive oil\n",
      "----------------------------------------------------------------------\n",
      " soy sauce  minced  ginger  sesame  sugar  teaspoons  fresh ginger  cup soy  sauce tablespoons\n",
      "     0.040   0.022   0.020   0.020  0.016      0.014         0.013    0.012              0.012\n",
      "======================================================================\n"
     ]
    },
    {
     "name": "stdout",
     "output_type": "stream",
     "text": [
      "\n",
      "======================================================================\n",
      "topic: 34\n",
      "documents:\n",
      " Easy Weeknight Tuna Pot Pie   0.862\n",
      "  Fern\\u0027s Tuna Casserole  0.8525\n",
      "      One Pot Tuna Casserole    0.85\n",
      "1 (16 ounce) package egg noodles 1 (10 ounce) package frozen green peas, thawed 1/4 cup butter 1 (10.75 ounce) can  condensed cream of mushroom soup 1 (6 ounce) can tuna, drained 1/4 cup milk 1 cup shredded Cheddar cheese-----1/2 (8 ounce) package egg noodles 1 (10.75 ounce) can  condensed cream of mushroom soup 3/4 cup whole milk 1 (6 ounce) can tuna 2 slices processed cheese food (such as Velveeta®) 1/2 cup crushed potato chips, or as needed-----2 tablespoons butter 1 small onion, diced 2 (6 ounce) cans tuna, drained 1 (10 ounce) package frozen mixed vegetables 1 (10.75 ounce) can  condensed cream of mushroom soup 1/2 cup shredded Cheddar cheese 1 (8 ounce) package refrigerated crescent rolls\n",
      "----------------------------------------------------------------------\n",
      " condensed  cream  ounce condensed  condensed cream  mushroom  mushroom soup  ounce package  package  cream mushroom\n",
      "     0.038  0.035            0.028            0.028     0.021          0.020          0.020    0.019           0.019\n",
      "======================================================================\n",
      "topic: 35\n",
      "documents:\n",
      "                                            BLT  0.8227273\n",
      " Amy\\u0027s Triple Decker Turkey Bacon Sandwich       0.77\n",
      "                         Grilled Cheese De Mayo  0.7666667\n",
      "1 tablespoon mayonnaise, divided 2 slices white bread 2 slices American cheese 1 slice pepperjack cheese-----2 slices white bread 1/4 cup mayonnaise 3 lettuce leaves 1 tomato, thinly sliced 3 slices turkey bacon 3 slices Cheddar cheese-----4 slices bacon 2 leaves lettuce 2 slices tomato 2 slices bread, toasted 1 tablespoon mayonnaise\n",
      "----------------------------------------------------------------------\n",
      " bacon  bread  slices bacon  split  mayonnaise    ham   inch  cooked  inch slices\n",
      " 0.042  0.036         0.018  0.014       0.012  0.012  0.012   0.011        0.010\n",
      "======================================================================\n",
      "topic: 36\n",
      "documents:\n",
      "        Whole Wheat Pasta Marinara  0.7527778\n",
      " Penne with Pancetta and Mushrooms  0.7468085\n",
      "                       Pastachutta  0.7178571\n",
      "1 (16 ounce) package spaghetti 1/4 cup butter 4 cloves garlic, thinly sliced 1 (8 ounce) package fresh mushrooms, sliced 1 onion, chopped salt and pepper to taste-----1 (12 ounce) package penne pasta 1 (3 ounce) package pancetta bacon, diced 2 tablespoons butter 1 (10 ounce) package sliced mushrooms 1 tablespoon minced garlic 1/2 cup heavy cream 1/4 teaspoon Italian seasoning 1/4 cup grated Parmesan cheese, or to taste-----1 pound whole-wheat spaghetti 1 (14.5 ounce) can peeled and diced tomatoes 1 small onion, chopped 2 cloves garlic, pressed 1/2 pound sliced mushrooms 1 (15 ounce) can tomato sauce 3 tablespoons Italian seasoning\n",
      "----------------------------------------------------------------------\n",
      " package  ounce package  tomatoes  diced  ounces  italian  cloves  cloves garlic  pepper taste\n",
      "   0.028          0.027     0.026  0.019   0.019    0.019   0.019          0.017         0.016\n",
      "======================================================================\n",
      "topic: 37\n",
      "documents:\n",
      "         3 Cheese Enchiladas  0.8241935\n",
      "            Tortilla Pillows  0.7772727\n",
      " Bethany\\u0027s Frito(R) Pie      0.755\n",
      "3 cups corn chips (such as Fritos®) 1 cup shredded Cheddar cheese 3/4 cup chopped onion 2 1/2 cups prepared chili----- 2 8-inch whole wheat tortillas 1/2 cup refried beans 1/4 cup shredded cheddar or mexican blend cheese -----1 (8 ounce) package cream cheese, softened 2 cups prepared salsa 2 green onions, chopped 2 cups shredded Cheddar cheese 2 cups shredded Monterey Jack cheese 12 (8 inch) flour tortillas 1/2 cup shredded Cheddar cheese 1/2 cup shredded Monterey Jack cheese 1 cup salsa, or as desired 2 green onions, chopped\n",
      "----------------------------------------------------------------------\n",
      " cheddar  cheddar cheese  cup shredded  shredded cheddar   corn  tortillas  green  cups shredded   jack\n",
      "   0.044           0.042         0.029             0.026  0.020      0.020  0.018          0.018  0.015"
     ]
    },
    {
     "name": "stdout",
     "output_type": "stream",
     "text": [
      "\n",
      "======================================================================\n",
      "topic: 30\n",
      "documents:\n",
      "          Tomatillo Salsa Verde  0.8135135\n",
      " Thai Celery Salad with Peanuts  0.8018182\n",
      "        Charred Tomatillo Salsa  0.7717949\n",
      " 1/2 pound tomatillos, husked, rinsed, patted dry 1/2 large white onion, cut into 8 wedges 1 jalapeño or serrano chile, halved, seeded 2 tablespoons (or more) fresh lime juice Kosher salt ----- 3 tablespoons vegetable oil 2 tablespoons fresh lime juice 2 teaspoons fish sauce 6 celery stalks, thinly sliced on a diagonal 3 thinly sliced scallions 1 thinly sliced red chile, such as Fresno 1 cup fresh cilantro leaves with tender stems 1/4 cup chopped roasted, salted peanuts ----- 1 pound quartered rinsed husked tomatillos 1/2 coarsely chopped medium onion 1 smashed garlic clove 1 coarsely chopped serrano chile (seeds removed if desired) 1/4 cup fresh cilantro leaves with tender stems Salt \n",
      "----------------------------------------------------------------------\n",
      " thinly  thinly sliced  removed  peeled  kosher  kosher salt  coarsely  leaves  cilantro\n",
      "  0.017          0.016    0.015   0.015   0.014        0.013     0.013   0.013     0.012\n",
      "======================================================================\n",
      "topic: 31\n",
      "documents:\n",
      "                                    Sauerbraten IV  0.5953125\n",
      " Herby Black Rice Salad with Radishes and Ricot...  0.5695652\n",
      "                   Simple Garlic Confit with Herbs    0.56875\n",
      " 9–10 heads of garlic (about 3 cups cloves) 9–10 sprigs of thyme or another woody herb like rosemary  3 cups olive oil ----- 1/4 cup olive oil 2 tablespoons Sherry vinegar or red wine vinegar Kosher salt, freshly ground pepper -----1 1/2 cups red wine vinegar 1/2 cup dry red wine 2 onions, sliced 2 carrots, sliced 1 bay leaf 1/8 teaspoon whole allspice 3 whole cloves 1 tablespoon black peppercorns 1 tablespoon salt 4 pounds rump roast 1/2 cup butter 1 tablespoon vegetable oil 5 tablespoons all-purpose flour 1 tablespoon white sugar 2/3 cup crushed gingersnap cookies\n",
      "----------------------------------------------------------------------\n",
      "   red  vinegar  red wine    bay  wine vinegar  cloves  leaves  white  sprigs\n",
      " 0.041    0.036     0.031  0.031         0.027   0.025   0.023  0.021   0.018\n",
      "======================================================================\n",
      "topic: 32\n",
      "documents:\n",
      "       Rachael\\u0027s Chicken      0.604\n",
      "       Salsa Simmered Chicken  0.5896552\n",
      " Tasty Grilled Hoisin Chicken  0.5611111\n",
      "1 (7.5 ounce) jar hoisin sauce 4 bone-in chicken breast halves 4 chicken thighs-----6 skinless, boneless chicken breast halves salt and ground black pepper to taste 2 tablespoons olive oil 1 (15 ounce) jar mild picante salsa 1 (14 ounce) can chicken broth-----2 skinless, boneless chicken breast halves 1/4 cup butter 1/2 teaspoon dried thyme 1 (14.5 ounce) can chicken broth\n",
      "----------------------------------------------------------------------\n",
      " boneless  skinless  breast  chicken breast  boneless chicken  skinless boneless  halves  breast halves  halves cut\n",
      "    0.082     0.082   0.076           0.072             0.069              0.068   0.064          0.061       0.013\n",
      "======================================================================\n",
      "topic: 33\n",
      "documents:\n",
      " Double Rack of Pork with Burnt Orange-Caramel ...     0.8025\n",
      "       Hobo Pack Potatoes with Rosemary and Garlic  0.7457143\n",
      "         Grilled Steak with Parsley-Parmesan Salad  0.6948718\n",
      " 1 1/2 pounds flatiron steak 3 tablespoons olive oil, divided, plus more Kosher salt, freshly ground pepper 2 cups fresh flat-leaf parsley leaves 2 ounces Parmesan, shaved 1 tablespoon fresh lemon juice ----- 2 pounds small potatoes (such as baby Yukon Gold, about 1 1/2 inches wide) 2 garlic cloves, smashed 2 small rosemary sprigs 1/4 cup olive oil 1 1/2 teaspoons kosher salt 1/2 teaspoon freshly ground black pepper ----- 4 1/2 tablespoons olive oil 3 tablespoons chopped fresh sage 3 tablespoons chopped fresh thyme 2 1/2 tablespoons kosher salt 1 1/2 tablespoons freshly ground black pepper 2 6-bone racks of pork (about 8 pounds total), chine bone removed, fat trimmed to 1/4 thickness, rib bones frenched 4 large oranges \n",
      "----------------------------------------------------------------------\n",
      " freshly ground  kosher  kosher salt  salt freshly   plus  divided  teaspoon freshly  ground pepper  ounces\n",
      "          0.050   0.041        0.040         0.024  0.020    0.015             0.014          0.013   0.012"
     ]
    },
    {
     "name": "stdout",
     "output_type": "stream",
     "text": [
      "\n",
      "======================================================================\n",
      "topic: 26\n",
      "documents:\n",
      "                    Pasta Siciliano  0.5553571\n",
      "           Mediterranean Fried Rice  0.5440678\n",
      " Calamari with Roasted Tomato Sauce  0.5045455\n",
      " 2 cups whole peeled tomatoes 2 cloves garlic, chopped 2 tablespoons fine sea salt 2 tablespoons crushed red pepper -----2 tablespoons olive oil 1 clove garlic, minced 1 1/2 cups cooked rice 1 (10 ounce) package frozen chopped spinach, thawed and drained 1 (6 ounce) jar marinated artichoke hearts, drained and quartered 1 (4 ounce) jar roasted red peppers, drained and chopped 1/2 cup crumbled feta cheese with herbs-----1 (16 ounce) package uncooked farfalle pasta 1/4 cup olive oil 3 cloves chopped garlic 1 teaspoon crushed red pepper flakes 2 tablespoons lemon juice 1/2 cup pine nuts 1 (2.25 ounce) can sliced black olives 1/2 cup chopped sun-dried tomatoes 1 cup crumbled feta cheese salt and pepper to taste\n",
      "----------------------------------------------------------------------\n",
      " red pepper  flakes  pepper flakes  crushed  crushed red  drained  crumbled  olives  teaspoon crushed\n",
      "      0.053   0.053          0.046    0.038        0.027    0.022     0.020   0.019             0.018\n",
      "======================================================================\n",
      "topic: 27\n",
      "documents:\n",
      "       Venison Salisbury Steak  0.5516667\n",
      "         Cube Steak with Gravy  0.5038462\n",
      " Simple Classic Roasted Turkey  0.4789474\n",
      "1 (10 pound) whole turkey, neck and giblets optional salt and ground black pepper to taste 1/3 cup water, or as needed-----1/4 cup flour 1/4 cup cornstarch 1 teaspoon ground black pepper 1/2 teaspoon salt 6 cube steaks 2 tablespoons butter, or as needed 1 cup milk, or to taste salt and ground black pepper to taste-----1/4 cup oil 1 pound venison, cut into cubes 1 (16 ounce) package buttery round crackers, crushed fine 1/4 teaspoon garlic powder, or to taste onion salt, or to taste salt and pepper to taste 2 cubes beef bouillon 1 cup boiling water 1 egg 1 medium onion, sliced 1 (4.5 ounce) can sliced mushrooms 1 tablespoon cornstarch 1/4 cup cold water\n",
      "----------------------------------------------------------------------\n",
      " vegetable  vegetable oil  needed  pepper taste  cup water  tablespoon vegetable  optional  tablespoons vegetable  bouillon\n",
      "     0.060          0.053   0.040         0.032      0.027                 0.019     0.018                  0.018     0.016\n",
      "======================================================================\n",
      "topic: 28\n",
      "documents:\n",
      "             Hot Vanilla Chai  0.7366667\n",
      " Raspberry Lemon Splash Shake  0.6586207\n",
      "           Green Banana Shake  0.6416667\n",
      " 1 packet Classic French Vanilla Flavor CARNATION BREAKFAST ESSENTIALS Complete Nutritional Drink 1 cup ice cubes 1 cup prepared green tea, chilled * 1/2 frozen banana ** ----- 1 packet Classic French Vanilla Flavor CARNATION BREAKFAST ESSENTIALS® Complete Nutritional Drink 1 cup raspberries 8 oz. container lemon yogurt ----- 1 packet No Sugar Added Classic French Vanilla Flavor CARNATION BREAKFAST ESSENTIALS® Complete Nutritional Drink 1 chai tea bag \n",
      "----------------------------------------------------------------------\n",
      " peeled   inch  large  potatoes  cut inch  cubes  chunks  inch cubes  pounds\n",
      "  0.050  0.047  0.037     0.036     0.034  0.031   0.018       0.017   0.016\n",
      "======================================================================\n",
      "topic: 29\n",
      "documents:\n",
      "                        Lemon-Orange Orange Roughy  0.6714286\n",
      " Sweet Dijon Basa Swai Fish (or a fish of your ...  0.6366667\n",
      "                                  Orange Salmon II  0.5695652\n",
      "2 (6 ounce) fillets salmon, skin removed 2 1/2 cups orange juice 3 sprigs fresh dill weed-----1/4 cup honey 3 tablespoons mayonnaise 2 tablespoons olive oil 2 tablespoons whole-grain Dijon mustard 1 tablespoon lemon juice 4 (4 ounce) fillets swai fish-----1 tablespoon olive oil 4 (4 ounce) fillets orange roughy 1 orange, juiced 1 lemon, juiced 1/2 teaspoon lemon pepper\n",
      "----------------------------------------------------------------------\n",
      " mustard  dijon  lemon  dijon mustard  salmon  mayonnaise   dill  pepper taste  ounce fillets\n",
      "   0.039  0.034  0.033          0.031   0.028       0.018  0.017         0.016          0.015"
     ]
    },
    {
     "name": "stdout",
     "output_type": "stream",
     "text": [
      "\n",
      "======================================================================\n",
      "topic: 22\n",
      "documents:\n",
      "       Chopstick Ready Rice       0.61\n",
      " Cucumber and Avocado Sushi  0.5923077\n",
      "      Kimbop (Korean Sushi)       0.54\n",
      "1 cup uncooked glutinous white rice (sushi rice) 1 1/2 cups water 1 tablespoon sesame oil salt, to taste 2 eggs, beaten 4 sheets sushi nori (dry seaweed) 1 cucumber, cut into thin strips 1 carrot, cut into thin strips 4 slices American processed cheese, cut into thin strips 4 slices cooked ham, cut into thin strips 2 teaspoons sesame oil-----1 1/4 cups water 1 cup uncooked glutinous white rice (sushi rice) 3 tablespoons rice vinegar 1 pinch salt 4 sheets nori (dry seaweed) 1/2 cucumber, sliced into thin strips 1 avocado - peeled, pitted and sliced----- 2 cups shortgrain white rice 2 cups water \n",
      "----------------------------------------------------------------------\n",
      " strips  water    cut  white  uncooked  cups water  white rice  cut strips  grain\n",
      "  0.053  0.043  0.035  0.035     0.029       0.028       0.027       0.026  0.019\n",
      "======================================================================\n",
      "topic: 23\n",
      "documents:\n",
      "                         Savory Apple Pork Chops  0.7947368\n",
      "                          Apple Butter Pork Loin  0.7717949\n",
      " Bourbon Apple Cider and Honey Glazed Pork Chops  0.7457143\n",
      "2 cups apple cider 1/2 cup honey 1/4 cup apple cider vinegar 2 tablespoons brown sugar 1/3 cup whiskey (such as Jack Daniels®) 3 tablespoons whiskey (such as Jack Daniels®) 4 thick center-cut pork chops-----2 (2 pound) boneless pork loin roast seasoning salt to taste 2 cups apple juice 1/2 cup apple butter 1/4 cup brown sugar 2 tablespoons water 1/4 teaspoon ground cinnamon 1/4 teaspoon ground cloves-----4 pork chops salt and pepper to taste 2 apples, sliced thin 1/4 cup ketchup 3 tablespoons brown sugar\n",
      "----------------------------------------------------------------------\n",
      " brown  brown sugar   pork  vinegar  apple  white  chops  cider  pork chops\n",
      " 0.045        0.043  0.037    0.028  0.022  0.022  0.020  0.015       0.015\n",
      "======================================================================\n",
      "topic: 24\n",
      "documents:\n",
      "  Whole Chicken Slow Cooker Recipe  0.7527778\n",
      "                 Rump Roast Au Jus  0.7205128\n",
      " Zucchini-Wrapped Halibut Scallops      0.675\n",
      " 1 teaspoon smoked paprika 1 teaspoon ground cumin -----1 tablespoon ground black pepper 1 tablespoon paprika 2 teaspoons chili powder 1/2 teaspoon celery salt 1/2 teaspoon ground cayenne pepper 1/2 teaspoon garlic powder 1/4 teaspoon mustard powder 1 (4 pound) rump roast 1/2 cup water-----4 teaspoons salt, or to taste 2 teaspoons paprika 1 teaspoon cayenne pepper 1 teaspoon onion powder 1 teaspoon ground thyme 1 teaspoon ground white pepper 1/2 teaspoon garlic powder 1/2 teaspoon ground black pepper 1 whole whole chicken\n",
      "----------------------------------------------------------------------\n",
      " garlic powder  teaspoons  powder teaspoon  teaspoon garlic  paprika  teaspoon ground  salt teaspoon  pepper teaspoon  cayenne\n",
      "         0.055      0.045            0.043            0.038    0.036            0.031          0.025            0.025    0.021\n",
      "======================================================================\n",
      "topic: 25\n",
      "documents:\n",
      " Easy Beef Strogonoff   0.444186\n",
      "     Noodles Romanoff  0.4441176\n",
      "   Great British Fool    0.44375\n",
      " 1 cup heavy whipping cream 1 tablespoon confectioners sugar 1 cup fruit compote  -----1 (8 ounce) package egg noodles 2 cups sour cream 1/2 cup grated Parmesan cheese, divided 1 tablespoon chopped fresh chives 1/2 teaspoon salt 1/8 teaspoon ground black pepper 2 tablespoons butter-----1 pound ground beef 1/2 teaspoon garlic powder 1/2 teaspoon salt 1/2 teaspoon ground black pepper 1 cube beef bouillon 1 medium onion, chopped 8 ounces fresh mushrooms, sliced 1 pint sour cream 4 ounces egg noodles, cooked and drained\n",
      "----------------------------------------------------------------------\n",
      "  sour  sour cream  heavy  heavy cream  cup sour  cup heavy  cream cup  ounces  cream cheese\n",
      " 0.054       0.053  0.047        0.035     0.028      0.027      0.026   0.020         0.019"
     ]
    },
    {
     "name": "stdout",
     "output_type": "stream",
     "text": [
      "\n",
      "======================================================================\n",
      "topic: 18\n",
      "documents:\n",
      "          Indian Dahl with Spinach      0.762\n",
      " Indian Chicken Curry (Murgh Kari)  0.7536082\n",
      "         Rajma (Kidney Bean Curry)   0.743299\n",
      "2 cups dry red kidney beans 1 large onion, chopped 4 cloves garlic, chopped 1 (2 inch) piece fresh ginger root, chopped 2 tablespoons vegetable oil 2 teaspoons ghee (clarified butter) 2 dried red chile peppers, broken into pieces 1 teaspoon cumin seeds 6 whole cloves 1 teaspoon ground turmeric 1 teaspoon ground cumin 1 teaspoon ground coriander 2 tomatoes, chopped 2 cups water 1 teaspoon white sugar salt to taste 2 teaspoons garam masala 1 teaspoon ground red pepper 1/4 cup cilantro leaves, chopped-----2 pounds skinless, boneless chicken breast halves 2 teaspoons salt 1/2 cup cooking oil 1 1/2 cups chopped onion 1 tablespoon minced garlic 1 1/2 teaspoons minced fresh ginger root 1 tablespoon curry powder 1 teaspoon ground cumin 1 teaspoon ground turmeric 1 teaspoon ground coriander 1 teaspoon cayenne pepper 1 tablespoon water 1 (15 ounce) can crushed tomatoes 1 cup plain yogurt 1 tablespoon chopped fresh cilantro 1 teaspoon salt 1/2 cup water 1 teaspoon garam masala 1 tablespoon chopped fresh cilantro 1 tablespoon fresh lemon juice-----1 1/2 cups red lentils 3 1/2 cups water 1/2 teaspoon salt 1/2 teaspoon ground turmeric 1/2 teaspoon chili powder 1 pound spinach, rinsed and chopped 2 tablespoons butter 1 onion, chopped 1 teaspoon ground cumin 1 teaspoon mustard seed 1 teaspoon garam masala 1/2 cup coconut milk\n",
      "----------------------------------------------------------------------\n",
      " teaspoons  cumin  cloves  ginger  curry  ground cumin  paste  powder  cinnamon\n",
      "     0.022  0.022   0.018   0.018  0.017         0.017  0.016   0.014     0.013\n",
      "======================================================================\n",
      "topic: 19\n",
      "documents:\n",
      "   Sarge\\u0027s EZ Pulled Pork BBQ  0.7772727\n",
      " My Kid\\u0027s Favorite Pork Chops  0.7346154\n",
      "                    Baby Back Ribs  0.7214286\n",
      "2 pounds pork baby back ribs 1 (18 ounce) bottle barbecue sauce-----6 pork chops 2 tablespoons steak seasoning 1 (12 fluid ounce) can or bottle beer 1 (18 ounce) bottle barbeque sauce 2 onions, sliced-----1 (5 pound) pork butt roast salt and pepper to taste 1 (14 ounce) can beef broth 1/4 cup brewed coffee\n",
      "----------------------------------------------------------------------\n",
      " worcestershire sauce  worcestershire  pounds  steak  roast  fluid  bottle   beer  sauce teaspoon\n",
      "                0.043           0.043   0.034  0.024  0.023  0.015   0.013  0.013           0.012\n",
      "======================================================================\n",
      "topic: 20\n",
      "documents:\n",
      " Fast and Friendly Meatballs  0.6565217\n",
      "    The Perfect Basic Burger  0.6409091\n",
      "            Salmon Patties I  0.6409091\n",
      "1 (14.75 ounce) can canned salmon 1 egg 1/4 cup chopped onion 1/2 cup seasoned dry bread crumbs 1 tablespoon olive oil-----1 egg 1/2 teaspoon salt 1/2 teaspoon ground black pepper 1 pound ground beef 1/2 cup fine dry bread crumbs-----2 tablespoons olive oil 1 (20 ounce) package ground turkey 1 egg, beaten 1/3 cup Italian seasoned bread crumbs\n",
      "----------------------------------------------------------------------\n",
      " crumbs  bread crumbs    egg    dry  beaten  italian  dry bread  seasoned  seasoning\n",
      "  0.067         0.062  0.036  0.028   0.023    0.023      0.023     0.021      0.020\n",
      "======================================================================\n",
      "topic: 21\n",
      "documents:\n",
      " Fava Bean and Pea Salad with Poppy Seed Dressing      0.428\n",
      "                          Scallops à La Provençal  0.4279412\n",
      "              Pea, Asparagus, and Fava Bean Salad  0.3839506\n",
      " 3 tablespoons extra-virgin olive oil 1 tablespoon finely grated Pecorino or Parmesan 1 tablespoon (or more) fresh lemon juice Kosher salt, freshly ground pepper 2 cups fresh fava beans (from about 2 pounds pods) or frozen fava beans, thawed 2 bunches asparagus, trimmed, stalks peeled if thick 1 cup shelled fresh peas (from about 1 pound pods) or frozen peas, thawed 1/2 cup vegetable oil 1 shallot, thinly sliced 4 slices bacon, cooked and crumbled ----- 5 cups cherry tomatoes 2 1/2 tablespoons chopped garlic, divided 5 teaspoons chopped fresh thyme, divided 5 teaspoons olive oil, divided 1/2 teaspoon salt, divided 1/2 teaspoon freshly ground black pepper, divided Vegetable oil cooking spray 2 cups fresh corn 1 pound sea scallops 2 teaspoons balsamic vinegar 3 tablespoons chopped fresh herbs such as parsley, basil, chives or a combination, divided 2 cups arugula ----- 2 cups shelled fava beans (from about 2 pounds pods) or frozen fava beans, thawed Kosher salt 2 cups shelled fresh peas (from about 2 pounds pods) or frozen peas, thawed 1/3 cup sour cream 1 1/2 ounces fresh goat cheese, crumbled 2 tablespoons (or more) buttermilk or whole milk 1 tablespoon fresh lemon juice Freshly ground black pepper 2 heads of Bibb lettuce, leaves separated (about 8 cups) 4 cups pea shoots (tendrils) 1 teaspoon poppy seeds \n",
      "----------------------------------------------------------------------\n",
      " thinly  thinly sliced  frozen  cooking  oil divided  spray  cooking spray  ounces  divided cup\n",
      "  0.081          0.080   0.029    0.024        0.022  0.021          0.021   0.019        0.018"
     ]
    },
    {
     "name": "stdout",
     "output_type": "stream",
     "text": [
      "\n",
      " 1/2 small shallot, finely chopped 6 ounces fresh blue or other lump crabmeat, picked over 1/3 cup mascarpone 1 tablespoon finely chopped fresh chives Kosher salt ----- 2 plum tomatoes, finely chopped (optional) Finely grated zest of 1 small lemon 1 garlic clove, finely chopped 3 cups arugula leaves, finely chopped 1/4 cup coarse fresh breadcrumbs 1 tablespoon finely chopped capers 1 tablespoon red wine vinegar 3/4 cup extra-virgin olive oil plus more 1/4 cup finely grated Parmesan -----1 lumpia wrappers 1 pound ground beef 1/2 pound ground pork 1/3 cup finely chopped onion 1/3 cup finely chopped green bell pepper 1/3 cup finely chopped carrot 1 quart oil for frying\n",
      "----------------------------------------------------------------------\n",
      " finely chopped  cup finely  balsamic  onion finely  balsamic vinegar  vinegar  chopped fresh  tablespoons finely  grated\n",
      "          0.151       0.040     0.027         0.026             0.025    0.024          0.023               0.018   0.017\n",
      "======================================================================\n",
      "topic: 15\n",
      "documents:\n",
      " Chicken Pecan Quiche  0.5978723\n",
      "       Crab Quiche II  0.5923077\n",
      "   Quiche Lorraine II  0.5923077\n",
      "1 (9 inch) deep dish pie crust 2 eggs, beaten 1/2 cup milk 1/2 cup mayonnaise 1 teaspoon cornstarch 1 1/2 cups shredded Swiss cheese 1/2 pound imitation crabmeat 1 pinch ground black pepper-----1 recipe pastry for a 9 inch single crust pie 6 slices bacon 1 onion, sliced 3 eggs, beaten 1 1/2 cups milk 1/4 teaspoon salt 1 1/2 cups shredded Swiss cheese 1 tablespoon all-purpose flour-----1 cup chopped, cooked chicken 1 cup shredded Swiss cheese 1/4 cup chopped onion 1 tablespoon all-purpose flour 1/2 cup chopped pecans 1 (9 inch) unbaked deep-dish pastry shell 2 eggs, beaten 1 cup 2% milk 1/2 teaspoon brown mustard\n",
      "----------------------------------------------------------------------\n",
      " beaten  eggs beaten  shredded   milk  cooked   inch    pie  diced  teaspoon salt\n",
      "  0.048        0.025     0.024  0.023   0.020  0.018  0.018  0.017          0.015\n",
      "======================================================================\n",
      "topic: 16\n",
      "documents:\n",
      "                      Bourbon-Vanilla Marshmallows  0.8162791\n",
      " Maple-Gingerbread Layer Cake with Salted Maple...  0.8115385\n",
      "      Chocolate-Dipped Salted Caramel Marshmallows  0.7652778\n",
      " Vegetable oil for brushing pan About 1 cup confectioners sugar for coating pan and marshmallows \t\t 4 (1/4-ounce) envelopes powdered unflavored gelatin 1 1/2 cups granulated sugar 1 cup light corn syrup 1 teaspoon fine sea salt 1 tablespoon pure vanilla extract About 6 ounces bittersweet chocolate, finely chopped  1 1/2 tablespoons vegetable shortening, preferably trans-fat-free Flaky sea salt, such as Maldon, for garnish ----- 3/4 cup pecan halves, toasted 1/4 cup pure maple syrup (preferably Grade B) Coarse kosher salt ----- 3 vanilla beans, split lengthwise About 1 cup confectioners sugar for making vanilla sugar  1 tablespoon bourbon Vegetable oil for brushing pan 3 (1/4-ounce) envelopes powdered unflavored gelatin 1 1/2 cups granulated sugar 1 cup light corn syrup 1/4 teaspoon salt \n",
      "----------------------------------------------------------------------\n",
      " unsalted  unsalted butter   plus  ounces  kosher  kosher salt  temperature  room temperature   room\n",
      "    0.032            0.028  0.020   0.017   0.016        0.016        0.015             0.015  0.015\n",
      "======================================================================\n",
      "topic: 17\n",
      "documents:\n",
      " Corpse Reviver 3000  0.7947368\n",
      "       Ipanema Punch  0.7864865\n",
      "      Peach Prosecco  0.7833333\n",
      " 1 ounce vodka 1 ounce peach liqueur  1 ounce Prosecco 1/2 ounce lemon juice  1/2 ounce peach nectar\t\t\t\t\t  2 dashes Fee Brothers peach bitters (optional) ----- 1/2 cup Cointreau 2 cups light rum 3 ounces crème de banane 1 cup pink grapefruit juice 2 cups fresh orange juice 1/2 cup fresh lime juice 1 cup pineapple juice 36 frozen whole strawberries or raspberries 3 to 4 cups ginger ale ----- 3/4 ounce Tenneyson Absinthe Royale or other blanche absinthe 3/4 ounce St-Germain elderflower liqueur 3/4 ounce orange liqueuer (we used Paulas Texas Orange; Cointreau also works well) 3/4 ounce freshly squeezed lemon juice Orange coin, for garnish \n",
      "----------------------------------------------------------------------\n",
      " lemon  lemon juice  orange  fresh lemon   lime   zest  lime juice  juice cup  grated\n",
      " 0.086        0.062   0.032        0.029  0.025  0.024       0.021      0.019   0.017"
     ]
    },
    {
     "name": "stdout",
     "output_type": "stream",
     "text": [
      "\n",
      "======================================================================\n",
      "topic: 11\n",
      "documents:\n",
      "   Quinoa Stuffed Peppers  0.6741379\n",
      " Superb Sausage Casserole  0.6346939\n",
      "                     Tava  0.6089286\n",
      "2 pounds beef stew meat, cut into 1/2 inch pieces 1 small red onion, diced 1 medium green bell pepper, seeded and diced 2 fresh tomatoes, diced 1 green chile pepper, seeded and diced (optional) 1/2 teaspoon chile paste-----6 links pork sausage 1 large red bell pepper, chopped 1 large orange bell pepper, chopped 1 large yellow bell pepper, chopped 1 large onion, diced 1/2 cup ketchup 3/4 cup hot water salt and pepper to taste-----1 cup quinoa, rinsed and drained 2 cups water 2 tablespoons olive oil 1 small onion, diced 2 cloves garlic, minced 1 zucchini, diced 1 small eggplant, diced 1 tomato, diced 1 cup tomato sauce salt and ground black pepper to taste 6 bell peppers, tops cut off and seeded 1 cup shredded mozzarella cheese, or more to taste\n",
      "----------------------------------------------------------------------\n",
      " bell pepper  diced  green    red  green bell  red bell  pepper chopped  yellow  cup chopped\n",
      "       0.063  0.053  0.051  0.037       0.036     0.029           0.019   0.018        0.018\n",
      "======================================================================\n",
      "topic: 12\n",
      "documents:\n",
      " Honey Mustard BBQ Pork Medallions  0.5807692\n",
      "            Easy, Crunchy Hot Dogs  0.5423077\n",
      "             Chili Dog Casserole I  0.5222222\n",
      "8 hot dog buns 8 hot dogs 1 (15 ounce) can chili 1/4 cup chopped onion 1 tablespoon prepared mustard 2 cups shredded Cheddar cheese-----1/2 cup ketchup 1/4 cup prepared yellow mustard 1 cup cornflake crumbs 1 (16 ounce) package all-beef hot dogs-----1 Smithfield® Mesquite Seasoned Loin Filet 2 tablespoons honey 2 tablespoons stone ground mustard 1 1/2 cups corn flake cereal, slightly crushed 2 tablespoons olive oil\n",
      "----------------------------------------------------------------------\n",
      " mustard  prepared  honey  pepper sauce  hot pepper  crushed  yellow  crackers  cup honey\n",
      "   0.046     0.036  0.028         0.024       0.024    0.019   0.018     0.015      0.015\n",
      "======================================================================\n",
      "topic: 13\n",
      "documents:\n",
      "            Onion Ranch Burgers  0.7033333\n",
      " Three Packet Slow Cooker Roast      0.702\n",
      "           Marsha\\u0027s Garoni  0.6565217\n",
      "2 slices bologna 1 (7.25 ounce) package macaroni and cheese mix  1 (.75 ounce) packet dry brown gravy mix-----1 cup water 1 (.7 ounce) package dry Italian-style salad dressing mix 1 (1 ounce) package ranch dressing mix 1 (.75 ounce) packet dry brown gravy mix 1 (3 pound) boneless beef chuck roast-----2 pounds ground beef 3/4 cup water 1 (1 ounce) package ranch dressing mix 1 (1 ounce) package dry onion soup mix\n",
      "----------------------------------------------------------------------\n",
      " beans  drained  package  ounce package  rinsed    dry  dressing  seasoning  beans drained\n",
      " 0.042    0.041    0.035          0.032   0.025  0.024     0.018      0.016          0.014\n",
      "======================================================================\n",
      "topic: 14\n",
      "documents:\n",
      "     Filipino Lumpia  0.3916667\n",
      " Arugula Salsa Verde  0.3609375\n",
      "  Blue Crab Beignets  0.3607143"
     ]
    },
    {
     "name": "stdout",
     "output_type": "stream",
     "text": [
      "\n",
      "======================================================================\n",
      "topic: 7\n",
      "documents:\n",
      " Fresh Herb, Grapefruit, and Fennel Salad     0.6275\n",
      "                 Caprese-Stuffed Zucchini  0.5772727\n",
      "          Kale Pesto with Toasted Walnuts  0.5673913\n",
      " 2 cups packed torn kale leaves, stems removed 1 cup packed fresh basil leaves 1 teaspoon sea salt 1/4 cup extra virgin olive oil 1/4 cup toasted walnuts 4 cloves garlic, chopped 1/2 cup grated Parmesan cheese -----2 large zucchinis, halved lengthwise and seeded sea salt to taste freshly ground black pepper to taste extra-virgin olive oil, or to taste 2 (1/2 inch thick) slices eggplant 1 cup cherry tomatoes, quartered 1 clove garlic, minced 1 cup fresh basil leaves, divided 1 teaspoon sea salt 1/2 teaspoon ground black pepper 3 tablespoons extra-virgin olive oil, plus more for drizzling 1 tablespoon balsamic vinegar----- 1 large ruby-red grapefruit or 3 blood oranges 2 small fresh fennel bulbs, trimmed, halved vertically, sliced paper-thin 1 cup fresh Italian parsley leaves 1/4 cup fresh mint leaves Extra-virgin olive oil Sea salt flakes \n",
      "----------------------------------------------------------------------\n",
      " virgin  extra virgin  virgin olive  leaves  tablespoons extra  tomatoes  basil    sea  sea salt\n",
      "  0.052         0.052         0.051   0.031              0.021     0.018  0.018  0.018     0.017\n",
      "======================================================================\n",
      "topic: 8\n",
      "documents:\n",
      "                 Spicy Lime Grilled Shrimp      0.684\n",
      " Garlic, Cilantro, and Lime Sauteed Shrimp   0.669697\n",
      "     Spicy Coconut and Lime Grilled Shrimp  0.6386364\n",
      "2 jalapeno peppers, seeded 1 lime, zested and juiced 2 garlic cloves 1/3 cup chopped fresh cilantro 1/3 cup shredded coconut 1/4 cup olive oil 1/4 cup soy sauce 1 pound uncooked medium shrimp, peeled and deveined skewers-----2 teaspoons olive oil 1 onion, chopped 6 cloves garlic, crushed salt and ground black pepper to taste 2 pounds shrimp, peeled and deveined 1/2 cup chopped fresh cilantro 1/2 lime, juiced, or more to taste-----3 tablespoons Cajun seasoning (such as Emerils Essence®) 1 lime, juiced 1 tablespoon vegetable oil 1 pound peeled and deveined medium shrimp (30-40 per pound)\n",
      "----------------------------------------------------------------------\n",
      " minced  shrimp  cilantro  deveined  peeled deveined  fresh cilantro  seeded  chopped fresh  shrimp peeled\n",
      "  0.033   0.028     0.025     0.022            0.020           0.020   0.019          0.019          0.016\n",
      "======================================================================\n",
      "topic: 9\n",
      "documents:\n",
      "   Best Ever Meatloaf I  0.4678571\n",
      " Cabbage Roll Casserole       0.46\n",
      "          Messy Burgers  0.4321429\n",
      "1 1/2 pounds ground chuck 1/2 teaspoon garlic pepper, or to taste 1/4 cup diced onion 2 tablespoons butter 4 slices American cheese 4 hamburger buns, split-----2 pounds ground beef 1 cup chopped onion 1 (29 ounce) can tomato sauce 3 1/2 pounds chopped cabbage 1 cup uncooked white rice 1 teaspoon salt 2 (14 ounce) cans beef broth-----1 1/2 pounds lean ground beef 1 cup tomato juice 3/4 cup rolled oats 1 egg 1/4 cup chopped onion 1/2 teaspoon salt 1/4 teaspoon ground black pepper\n",
      "----------------------------------------------------------------------\n",
      " ground beef  pound ground   lean  pounds  lean ground  tomato  pounds ground  yogurt  pound lean\n",
      "       0.083         0.045  0.037   0.034        0.032   0.031          0.024   0.019       0.019\n",
      "======================================================================\n",
      "topic: 10\n",
      "documents:\n",
      "          Ravioli Lasagna  0.8722222\n",
      " Campfire Pepperoni Pizza  0.8304348\n",
      "              Pizzaghetti  0.8230769\n",
      "1 (16 ounce) package spaghetti 1 (28 ounce) jar spaghetti sauce 1 (6 ounce) package sliced pepperoni 1 (6 ounce) can sliced black olives 1 (8 ounce) package sliced fresh mushrooms 8 ounces shredded mozzarella cheese-----1 pound refrigerated pizza dough 1/4 cup pizza sauce 1/2 cup shredded mozzarella cheese 1/2 cup sliced pepperoni-----2 cups ricotta cheese 1 (10 ounce) package frozen chopped spinach - thawed, drained and squeezed dry 1 1/2 cups grated Romano cheese 2 eggs salt and pepper to taste 1/4 cup spaghetti sauce 1 (25 ounce) package frozen cheese ravioli 1/2 cup spaghetti sauce 1/2 cup grated Romano cheese\n",
      "----------------------------------------------------------------------\n",
      " mozzarella  package  mozzarella cheese  ounce package  shredded mozzarella  frozen  cheese cup  spinach  parmesan\n",
      "      0.035    0.034              0.034          0.032                0.025   0.018       0.017    0.017     0.017"
     ]
    },
    {
     "name": "stdout",
     "output_type": "stream",
     "text": [
      "\n",
      "2 cups rice-bread crumbs (such as PaneRiso™) 1/2 cup olive oil 1 teaspoon dried oregano 1 teaspoon dried basil 1 teaspoon dried rosemary 1 teaspoon garlic powder 2 pork tenderloins-----1 (4 pound) frozen duck 6 tablespoons olive oil 2 cups dry sherry 3 teaspoons dried oregano 3 teaspoons dried rosemary 3 teaspoons dried basil-----1 lemon 2 teaspoons dried oregano 3 cloves garlic, minced 1 tablespoon olive oil 1/4 teaspoon salt 1/4 teaspoon ground black pepper 6 chicken legs\n",
      "----------------------------------------------------------------------\n",
      " teaspoon dried  oregano  dried oregano  teaspoons  dried basil  thyme  basil  dried thyme  minced\n",
      "          0.090    0.049          0.040      0.027        0.024  0.024  0.024        0.022   0.022\n",
      "======================================================================\n",
      "topic: 4\n",
      "documents:\n",
      "                          Fried Chicken with Gravy      0.724\n",
      " Witchs Finger Bread Sticks with Maple Mustard Dip  0.7033333\n",
      "                             Manicotti Pancakes II        0.7\n",
      "3 eggs 1 cup milk 1 cup all-purpose flour----- 1 1/2 cups warm water (105°F to 115°F) 1 tablespoon sugar 1 (1/4-ounce) package active dry yeast 4 cups all-purpose flour 1 1/2 teaspoons salt ----- One 3- to 3 1/2-pound broiler-fryer, cut up for frying (see Note above) 2 teaspoons salt 1/4 teaspoon black pepper 3/4 cup unsifted all-purpose flour Vegetable oil for frying or lard, if you can get it (Mrs. McCollum used lard) 1 tablespoon water \n",
      "----------------------------------------------------------------------\n",
      " purpose flour  purpose  cup purpose  tablespoons purpose  teaspoon salt   milk  frying  vegetable  flour cup\n",
      "         0.095    0.095        0.039                0.027          0.025  0.023   0.020      0.020      0.019\n",
      "======================================================================\n",
      "topic: 5\n",
      "documents:\n",
      "                       Joyce\\u0027s Granola  0.8230769\n",
      " Coconut Macaroon Sandwiches with Lime Curd  0.8212121\n",
      "                     Fruit and Nut Pancakes  0.8166667\n",
      " 1 cup whole-wheat flour  1/2 cup rolled oats  1/4 cup sliced almonds, crushed walnuts or crushed pecans  2 teaspoons baking powder  1/2 teaspoon cinnamon 2 medium bananas  1 cup nonfat or almond milk  1 egg  1 teaspoon almond extract  1 cup mixed frozen berries  Vegetable oil cooking spray ----- 1 (14-ounce) bag (5 1/3 cups) sweetened flaked coconut 1/2 cup sugar 1/2 cup all-purpose flour 1/4 teaspoon salt 4 large egg whites 1/4 teaspoon pure almond extract -----4 cups rolled oats 1 cup wheat germ 1/2 cup flax seed meal 1/2 cup sliced almonds 1/2 cup walnuts 1 teaspoon ground cinnamon 5 tablespoons unsweetened applesauce 2 tablespoons agave nectar 3 tablespoons (blank) sugar-free pancake syrup\n",
      "----------------------------------------------------------------------\n",
      " flour    egg  large  powder  extract  teaspoons  vanilla extract  baking powder   milk\n",
      " 0.026  0.026  0.025   0.023    0.022      0.022            0.020          0.017  0.017\n",
      "======================================================================\n",
      "topic: 6\n",
      "documents:\n",
      "  Zucchini and Pecan Saute  0.5055556\n",
      "     Steamed Lobster Tails  0.4357143\n",
      " Hard-Boiled Egg Casserole      0.425\n",
      "8 hard-boiled eggs, peeled and halved 1/4 cup butter 1/4 cup all-purpose flour 2 cups half-and-half 1/2 teaspoon salt 1/4 teaspoon ground black pepper 1/4 teaspoon garlic powder 1/4 teaspoon dry mustard 1 cup shredded Gruyere cheese 1/2 cup freshly grated Parmesan cheese-----1 tablespoon sea salt 4 (6 ounce) lobster tails 1/2 cup butter, melted-----3 tablespoons butter 1/3 cup chopped pecans 1 pound fresh zucchini, sliced 1 tablespoon grated Parmesan cheese\n",
      "----------------------------------------------------------------------\n",
      " parmesan  parmesan cheese  grated parmesan   half  cup grated  melted  butter melted  tablespoons butter  nutmeg\n",
      "    0.059            0.054            0.053  0.043       0.037   0.036          0.025               0.020   0.020"
     ]
    },
    {
     "name": "stdout",
     "output_type": "stream",
     "text": [
      "======================================================================\n",
      "topic: 0\n",
      "documents:\n",
      "                    Mushroom Goat Cheese Pan Sauce  0.5315789\n",
      "                                Thiebaud Pink Cake  0.5315789\n",
      " Poached Seckel Pear with Pomegranate, Cabrales...  0.5229167\n",
      " 3 cups (750 g/26.4 oz) whole milk 1 cup plus 1 Tbsp (250 g/8.8 oz) heavy cream 3 Tbsp plus 1 tsp (20 g/0.7 oz) Szechuan peppercorns 8 1/2 large (160 g/5.6 oz) egg yolks 3/4 cup plus 2 Tbsp (180 g/6.3 oz) granulated sugar ----- 1/2 pound (227 g) fresh strawberries 1/2 cup (4.3 oz / 120 g) water 1/4 cup (1.8 oz / 50 g) sugar ----- 1/4 cup canned low-sodium chicken broth 1/4 cup full-bodied red wine \n",
      "----------------------------------------------------------------------\n",
      " broth  chicken broth  celery    low      g  stock  sodium  cups chicken  cup chicken\n",
      " 0.055          0.041   0.032  0.026  0.023  0.018   0.018         0.016        0.016\n",
      "======================================================================\n",
      "topic: 1\n",
      "documents:\n",
      "                            Dinengdeng  0.5261905\n",
      " Classic Smoked Sausage \\u0026 Peppers  0.4745455\n",
      "                            Bún Bò Hue     0.4525\n",
      " 2 pounds oxtail, cut into 2- to 3-inch pieces (ask your butcher to do this) 2 pounds beef shank bones, cut into 2- to 3-inch pieces (ask your butcher to do this) 2 pounds pork neck bones 2 pounds beef marrowbones, cut into 2- to 3-inch pieces (ask your butcher to do this) 1 pound beef brisket 8 lemongrass stalks -----1 (14 ounce) package Hillshire Farm® Smoked Sausage, diagonally cut into 1/4-inch slices 2 tablespoons olive oil 1 cup onion, cut into 1-inch pieces 2 cups red and green peppers, cut into 1-inch pieces 1/2 teaspoon dried oregano 1/2 cup grated Parmesan cheese (optional)-----2 (8 ounce) fillets milkfish (bangus) 1 tomato, quartered 1 onion, chopped 2 tablespoons shrimp paste (bagoong) 1 cup water salt and pepper to taste 1/2 pound long beans, cut into bite-size pieces 1/2 pound zucchini, cut into bite-size pieces 1/2 pound fresh okra\n",
      "----------------------------------------------------------------------\n",
      " pieces   inch  inch pieces  cut inch  cut pieces   size   bite  chicken  bite size\n",
      "  0.123  0.057        0.045     0.043       0.031  0.023  0.022    0.022      0.018\n",
      "======================================================================\n",
      "topic: 2\n",
      "documents:\n",
      " Coffee-Crusted Beef Tenderloin Steak  0.5153846\n",
      "       Roasted Garlic Flat Iron Steak  0.4789474\n",
      "                    Cretons de Quebec  0.4590909\n",
      "1 pound pork sausage 2 cups milk 1 chopped onion 1 clove garlic, minced 1 teaspoon mixed spice salt and pepper to taste-----15 cloves garlic 1 tablespoon olive oil 1/2 cup olive oil 4 (8 ounce) flat iron steaks salt and ground black pepper to taste-----1/4 cup finely ground espresso beans 3 tablespoons brown sugar 2 teaspoons ground cinnamon 1 pinch ground cayenne pepper salt and ground black pepper to taste 2 (6 ounce) beef tenderloin steaks 1 tablespoon canola oil\n",
      "----------------------------------------------------------------------\n",
      " pinch  clove  clove garlic  pepper taste  garlic minced  pinch ground  salt ground  canola  pinch salt\n",
      " 0.080  0.050         0.049         0.048          0.046         0.017        0.016   0.015       0.015\n",
      "======================================================================\n",
      "topic: 3\n",
      "documents:\n",
      "   Mediterranean Lemon Chicken     0.604\n",
      "           Roasted Sherry Duck  0.583871\n",
      " Pork Tenderloin (Gluten-Free)  0.565625"
     ]
    }
   ],
   "source": [
    "\n",
    "print('='*70)\n",
    "for t in range(m.n_topics):\n",
    "    print('topic: %s' % t)\n",
    "    print('documents:')\n",
    "    print pd.DataFrame([df.iloc[doc_ids[t,:]]['title'].values, doc_probs[t,:]]).T.sort(1, ascending=False).to_string(header=False, index=False)\n",
    "#    print('\\n'.join(df.iloc[doc_ids[t,:]]['title']))\n",
    "    print('-----'.join(df.iloc[doc_ids[t,:]]['ingredient_txt']))\n",
    "    print('-'*70)\n",
    "    print w[w['topic']==t][['word','prob']].sort('prob', ascending=False).T.to_string(index=False, header=False, float_format=lambda x: '% 4.3f' % x)\n",
    "    print('='*70)\n",
    "\n"
   ]
  },
  {
   "cell_type": "code",
   "execution_count": 146,
   "metadata": {
    "collapsed": false,
    "tags": [
     "worksheet-0"
    ]
   },
   "outputs": [],
   "source": []
  }
 ],
 "metadata": {},
 "nbformat": 4,
 "nbformat_minor": 0
}
