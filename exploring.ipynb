{
 "cells": [
  {
   "cell_type": "markdown",
   "metadata": {
    "collapsed": true,
    "tags": [
     "worksheet-0"
    ]
   },
   "source": [
    "# Imports and configuration."
   ]
  },
  {
   "cell_type": "code",
   "execution_count": 1,
   "metadata": {
    "collapsed": false,
    "tags": [
     "worksheet-0"
    ]
   },
   "outputs": [],
   "source": [
    "%matplotlib inline"
   ]
  },
  {
   "cell_type": "code",
   "execution_count": 9,
   "metadata": {
    "collapsed": false,
    "tags": [
     "worksheet-0"
    ]
   },
   "outputs": [],
   "source": [
    "import lda\n",
    "import numpy as np\n",
    "import matplotlib\n",
    "import matplotlib.pyplot as plt\n",
    "import pandas as pd\n",
    "import psycopg2\n",
    "import seaborn as sns\n",
    "from sklearn.feature_extraction.text import CountVectorizer\n",
    "from sklearn.feature_extraction import text\n",
    "\n",
    "\n",
    "import functions as f"
   ]
  },
  {
   "cell_type": "code",
   "execution_count": 3,
   "metadata": {
    "collapsed": false,
    "tags": [
     "worksheet-0"
    ]
   },
   "outputs": [],
   "source": [
    "matplotlib.style.use('ggplot')"
   ]
  },
  {
   "cell_type": "markdown",
   "metadata": {
    "collapsed": true,
    "tags": [
     "worksheet-0"
    ]
   },
   "source": [
    "# Load data"
   ]
  },
  {
   "cell_type": "code",
   "execution_count": 6,
   "metadata": {
    "collapsed": false,
    "tags": [
     "worksheet-0"
    ]
   },
   "outputs": [
    {
     "name": "stdout",
     "output_type": "stream",
     "text": [
      "Loaded 4506 records\n"
     ]
    }
   ],
   "source": [
    "con = psycopg2.connect(\"host='localhost' dbname='explore' user='explore' password='Ln2bOYAVCG6utNUSaSZaIVMH'\")\n",
    "cursor = con.cursor()\n",
    "\n",
    "cursor.execute('select category, count(*) from recipes_recipe group by category')\n",
    "\n",
    "df = pd.read_sql_query('select * from recipes_recipe', con=con)\n",
    "print('Loaded %s records' % df.shape[0])\n"
   ]
  },
  {
   "cell_type": "markdown",
   "metadata": {
    "collapsed": true,
    "tags": [
     "worksheet-0"
    ]
   },
   "source": [
    "# Run model"
   ]
  },
  {
   "cell_type": "code",
   "execution_count": 11,
   "metadata": {
    "collapsed": false,
    "tags": [
     "worksheet-0"
    ]
   },
   "outputs": [
    {
     "data": {
      "text/plain": [
       "<lda.lda.LDA instance at 0x7f17f51b6560>"
      ]
     },
     "execution_count": 11,
     "metadata": {},
     "output_type": "execute_result"
    },
    {
     "name": "stderr",
     "output_type": "stream",
     "text": [
      "WARNING:lda:all zero row in document-term matrix found\n"
     ]
    }
   ],
   "source": [
    "vectorizer = CountVectorizer(stop_words='english',\n",
    "                                 ngram_range=(1, 1),\n",
    "                                 token_pattern='[A-Za-z]+')\n",
    "features = vectorizer.fit_transform(df.ingredient_txt)\n",
    "## features is a document x term matrix.\n",
    "\n",
    "wc = f.feature_counts(vectorizer, features)\n",
    "m = lda.LDA(n_topics=40, random_state=0, n_iter=100)\n",
    "m.fit(features)\n"
   ]
  },
  {
   "cell_type": "markdown",
   "metadata": {
    "collapsed": true,
    "tags": [
     "worksheet-0"
    ]
   },
   "source": [
    "# Evaluating the model.\n",
    "## Convergence"
   ]
  },
  {
   "cell_type": "code",
   "execution_count": 31,
   "metadata": {
    "collapsed": false,
    "tags": [
     "worksheet-0"
    ]
   },
   "outputs": [
    {
     "data": {
      "text/plain": [
       "<matplotlib.figure.Figure at 0x7f17f5a98350>"
      ]
     },
     "metadata": {},
     "output_type": "display_data"
    },
    {
     "data": {
      "text/plain": [
       "<matplotlib.text.Text at 0x7f17f524b990>"
      ]
     },
     "execution_count": 31,
     "metadata": {},
     "output_type": "execute_result"
    }
   ],
   "source": [
    "plt.plot(m.loglikelihoods_, '-')\n",
    "plt.title('Loglikelihood')\n"
   ]
  },
  {
   "cell_type": "markdown",
   "metadata": {
    "collapsed": true,
    "tags": [
     "worksheet-0"
    ]
   },
   "source": [
    "# Assessing topics"
   ]
  },
  {
   "cell_type": "code",
   "execution_count": 128,
   "metadata": {
    "collapsed": false,
    "tags": [
     "worksheet-0"
    ]
   },
   "outputs": [
    {
     "name": "stdout",
     "output_type": "stream",
     "text": [
      "topic: 0\n",
      "lime, tablespoon, plus, sugar, lemon, tablespoons, cups, juice, cup\n",
      "----------------------------------------------------------------------\n",
      "topic: 1\n",
      "pinch, sea, water, lb, cup, ml, tsp, oz, tbsp\n",
      "----------------------------------------------------------------------\n",
      "topic: 2\n",
      "fresh, garlic, medium, celery, white, broth, cup, chicken, cups\n",
      "----------------------------------------------------------------------\n",
      "topic: 3\n",
      "powder, butter, cups, purpose, large, sugar, baking, flour, cup\n",
      "----------------------------------------------------------------------\n",
      "topic: 4\n",
      "french, breakfast, free, taste, fat, needed, goya, s, milk\n",
      "----------------------------------------------------------------------\n",
      "topic: 5\n",
      "salt, cups, heavy, egg, vanilla, large, teaspoon, cream, sugar\n",
      "----------------------------------------------------------------------\n",
      "topic: 6\n",
      "ice, syrup, lime, fresh, garnish, lemon, cups, juice, ounce\n",
      "----------------------------------------------------------------------\n",
      "topic: 7\n",
      "sliced, low, rice, oil, broth, mushrooms, ounces, cups, cup\n",
      "----------------------------------------------------------------------\n",
      "topic: 8\n",
      "finely, cup, unsalted, grated, pepper, butter, salt, ground, tablespoons\n",
      "----------------------------------------------------------------------\n",
      "topic: 9\n",
      "teaspoons, tablespoons, egg, salt, cup, large, purpose, plus, cups\n",
      "----------------------------------------------------------------------\n",
      "topic: 10\n",
      "chopped, bunch, garlic, thinly, removed, sliced, cup, stems, fresh\n",
      "----------------------------------------------------------------------\n",
      "topic: 11\n",
      "pound, beans, green, trimmed, frozen, peas, cups, ounces, cup\n",
      "----------------------------------------------------------------------\n",
      "topic: 12\n",
      "beans, tomatoes, medium, bell, drained, onion, pepper, ounce, chopped\n",
      "----------------------------------------------------------------------\n",
      "topic: 13\n",
      "eggs, sliced, grated, cheddar, crumbled, shredded, cups, ounces, cup\n",
      "----------------------------------------------------------------------\n",
      "topic: 14\n",
      "boneless, trimmed, bone, inch, seeds, pound, beef, pounds, teaspoons\n",
      "----------------------------------------------------------------------\n",
      "topic: 15\n",
      "pastry, butter, package, large, peeled, pitted, ounce, thawed, ripe\n",
      "----------------------------------------------------------------------\n",
      "topic: 16\n",
      "freshly, teaspoons, tablespoons, black, kosher, crushed, salt, ground, teaspoon\n",
      "----------------------------------------------------------------------\n",
      "topic: 17\n",
      "golden, dark, light, cinnamon, packed, brown, sugar, teaspoon, ground\n",
      "----------------------------------------------------------------------\n",
      "topic: 18\n",
      "lengthwise, small, pieces, medium, large, halved, pound, inch, peeled\n",
      "----------------------------------------------------------------------\n",
      "topic: 19\n",
      "medium, pound, slices, large, peeled, pieces, pounds, potatoes, inch\n",
      "----------------------------------------------------------------------\n",
      "topic: 20\n",
      "teaspoon, grams, pieces, salt, stick, cup, cut, tablespoons, unsalted\n",
      "----------------------------------------------------------------------\n",
      "topic: 21\n",
      "maple, toasted, syrup, salt, cups, raw, almonds, seeds, teaspoon\n",
      "----------------------------------------------------------------------\n",
      "topic: 22\n",
      "syrup, water, powder, sugar, tablespoons, unsweetened, cups, milk, coconut\n",
      "----------------------------------------------------------------------\n",
      "topic: 23\n",
      "cups, tablespoons, unsalted, butter, sugar, cream, chopped, chocolate, ounces\n",
      "----------------------------------------------------------------------\n",
      "topic: 24\n",
      "roughly, garlic, red, onion, cups, coarsely, fresh, finely, cup\n",
      "----------------------------------------------------------------------\n",
      "topic: 25\n",
      "cooking, plain, teaspoons, divided, yogurt, spray, vegetable, oil, teaspoon\n",
      "----------------------------------------------------------------------\n",
      "topic: 26\n",
      "tablespoons, seeded, juice, cilantro, corn, diced, lime, chopped, fresh\n",
      "----------------------------------------------------------------------\n",
      "topic: 27\n",
      "small, divided, halved, fresh, fennel, chopped, plus, cup, thinly\n",
      "----------------------------------------------------------------------\n",
      "topic: 28\n",
      "dijon, wine, olive, oil, chopped, vinegar, mustard, cup, tablespoons\n",
      "----------------------------------------------------------------------\n",
      "topic: 29\n",
      "tablespoon, cup, garlic, chopped, virgin, fresh, olive, extra, tablespoons\n",
      "----------------------------------------------------------------------\n",
      "topic: 30\n",
      "teaspoons, tablespoons, olive, oil, freshly, black, salt, pepper, ground\n",
      "----------------------------------------------------------------------\n",
      "topic: 31\n",
      "cut, inch, country, sliced, tablespoons, pound, smoked, ounces, bread\n",
      "----------------------------------------------------------------------\n",
      "topic: 32\n",
      "sprigs, fresh, ground, kosher, pepper, cup, salt, tablespoons, olive\n",
      "----------------------------------------------------------------------\n",
      "topic: 33\n",
      "sliced, cups, salt, white, pieces, cider, cup, apple, tablespoons\n",
      "----------------------------------------------------------------------\n",
      "topic: 34\n",
      "tablespoon, parsley, grated, juice, tablespoons, cup, lemon, finely, chopped\n",
      "----------------------------------------------------------------------\n",
      "topic: 35\n",
      "vegetable, peeled, rice, sugar, cup, ginger, teaspoons, tablespoon, sauce\n",
      "----------------------------------------------------------------------\n",
      "topic: 36\n",
      "fresh, tablespoon, lemon, juice, zest, finely, grated, teaspoon, orange\n",
      "----------------------------------------------------------------------\n",
      "topic: 37\n",
      "white, toasted, sesame, oil, teaspoon, tablespoon, thinly, sliced, tablespoons\n",
      "----------------------------------------------------------------------\n",
      "topic: 38\n",
      "tablespoons, freshly, ground, sea, oil, pepper, divided, thinly, salt\n",
      "----------------------------------------------------------------------\n",
      "topic: 39\n",
      "tablespoons, extra, teaspoon, pepper, parmesan, grated, oil, ounces, cup\n",
      "----------------------------------------------------------------------\n"
     ]
    }
   ],
   "source": [
    "## Extracting topic data.\n",
    "reload(f)\n",
    "\n",
    "## most probable words by topic.\n",
    "w = f.most_probable_words(m, vectorizer.get_feature_names(), 10)\n",
    "\n",
    "## most probable documents by topic.\n",
    "np.apply_along_axis(lambda i: df.iloc[i]['title'], 1, doc_ids)\n",
    "\n",
    "doc_ids = np.argsort(m.doc_topic_, axis=0)[-4:-1,:].T\n",
    "\n",
    "for t in range(m.n_topics):\n",
    "    print('topic: %s' % t)\n",
    "    print(', '.join(w[w['label']==t]['word']))\n",
    "    print('documents:')\n",
    "    print(', '.join(df.iloc[doc_ids[t,:]]['title'])\n",
    "    print('-'*70)\n",
    "\n",
    "\n"
   ]
  }
 ],
 "metadata": {},
 "nbformat": 4,
 "nbformat_minor": 0
}
