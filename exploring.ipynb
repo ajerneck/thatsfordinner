{
 "cells": [
  {
   "cell_type": "markdown",
   "metadata": {
    "collapsed": true,
    "tags": [
     "worksheet-0"
    ]
   },
   "source": [
    "# Imports and configuration."
   ]
  },
  {
   "cell_type": "code",
   "execution_count": 747,
   "metadata": {
    "collapsed": false,
    "tags": [
     "worksheet-0"
    ]
   },
   "outputs": [],
   "source": [
    "%matplotlib inline"
   ]
  },
  {
   "cell_type": "code",
   "execution_count": 748,
   "metadata": {
    "collapsed": false,
    "tags": [
     "worksheet-0"
    ]
   },
   "outputs": [],
   "source": [
    "import lda\n",
    "import numpy as np\n",
    "import matplotlib\n",
    "import matplotlib.pyplot as plt\n",
    "import pandas as pd\n",
    "import psycopg2\n",
    "import seaborn as sns\n",
    "from sklearn.feature_extraction.text import CountVectorizer\n",
    "from sklearn.feature_extraction import text\n",
    "\n",
    "import common\n",
    "\n",
    "import functions as f\n",
    "\n"
   ]
  },
  {
   "cell_type": "code",
   "execution_count": 749,
   "metadata": {
    "collapsed": false,
    "tags": [
     "worksheet-0"
    ]
   },
   "outputs": [],
   "source": [
    "matplotlib.style.use('ggplot')"
   ]
  },
  {
   "cell_type": "markdown",
   "metadata": {
    "collapsed": true,
    "tags": [
     "worksheet-0"
    ]
   },
   "source": [
    "# Load data"
   ]
  },
  {
   "cell_type": "code",
   "execution_count": 750,
   "metadata": {
    "collapsed": false,
    "tags": [
     "worksheet-0"
    ]
   },
   "outputs": [
    {
     "name": "stdout",
     "output_type": "stream",
     "text": [
      "\n",
      "Loaded 17227 records in total\n"
     ]
    },
    {
     "name": "stdout",
     "output_type": "stream",
     "text": [
      "Loaded 4506 records from epicurious.com\n",
      "Loaded 12721 records from allrecipes.com"
     ]
    }
   ],
   "source": [
    "con = common.make_engine()\n",
    "\n",
    "df_ep = pd.read_sql_table('recipes_recipe', con)\n",
    "df_ep = df_ep[['title','ingredient_txt','url','image']]\n",
    "df_ep['source'] = 'epicurious.com'\n",
    "print('Loaded %s records from epicurious.com' % df_ep.shape[0])\n",
    "\n",
    "df_ar = pd.read_sql_table('allrecipes', con)\n",
    "df_ar = df_ar[['data-name','ingredients','url','data-imageurl']]\n",
    "df_ar.columns = ['title','ingredient_txt','url','image']\n",
    "df_ar['source'] = 'allrecipes.com'\n",
    "\n",
    "print('Loaded %s records from allrecipes.com' % df_ar.shape[0])\n",
    "\n",
    "df = pd.concat([df_ep, df_ar], ignore_index=True)\n",
    "\n",
    "print('Loaded %s records in total' % df.shape[0])\n",
    "\n",
    "## TODO: fix unicode here.\n"
   ]
  },
  {
   "cell_type": "markdown",
   "metadata": {
    "collapsed": true,
    "tags": [
     "worksheet-0"
    ]
   },
   "source": [
    "## Examining and cleaning data"
   ]
  },
  {
   "cell_type": "code",
   "execution_count": 751,
   "metadata": {
    "collapsed": false,
    "tags": [
     "worksheet-0"
    ]
   },
   "outputs": [
    {
     "data": {
      "text/plain": [
       "<matplotlib.figure.Figure at 0x7fd054baf5d0>"
      ]
     },
     "metadata": {},
     "output_type": "display_data"
    },
    {
     "name": "stdout",
     "output_type": "stream",
     "text": [
      "count    17214.000000\n",
      "mean       297.450854\n",
      "std        127.100378\n",
      "min         23.000000\n",
      "25%        206.000000\n",
      "50%        281.000000\n",
      "75%        372.000000\n",
      "max       1087.000000\n",
      "Name: ingredient_txt, dtype: float64\n"
     ]
    }
   ],
   "source": [
    "df = df[df['ingredient_txt'].str.len() > 20]\n",
    "print df['ingredient_txt'].str.len().describe()\n",
    "df['ingredient_txt'].str.len().plot(kind='hist').set_title('Ingredients character count')\n",
    "df = df.reset_index()\n",
    "\n",
    "\n"
   ]
  },
  {
   "cell_type": "code",
   "execution_count": 752,
   "metadata": {
    "collapsed": false,
    "tags": [
     "worksheet-0"
    ]
   },
   "outputs": [],
   "source": [
    "## clean up quoting.\n",
    "pattern = \"[\\\"\\']\"\n",
    "for k in ['title', 'ingredient_txt', 'url', 'image']:\n",
    "    df[k] = df[k].str.replace(pattern, '')\n",
    "\n",
    "## formatting ingredients.\n",
    "df['ingredient_txt'] = df['ingredient_txt'].str.replace('\\n',' ')\n"
   ]
  },
  {
   "cell_type": "code",
   "execution_count": 753,
   "metadata": {
    "collapsed": false,
    "tags": [
     "worksheet-0"
    ]
   },
   "outputs": [
    {
     "data": {
      "text/plain": [
       "<matplotlib.figure.Figure at 0x7fd05ed2c150>"
      ]
     },
     "metadata": {},
     "output_type": "display_data"
    },
    {
     "data": {
      "text/plain": [
       "<matplotlib.axes._subplots.AxesSubplot at 0x7fd051ea0ad0>"
      ]
     },
     "execution_count": 753,
     "metadata": {},
     "output_type": "execute_result"
    }
   ],
   "source": [
    "# Extract features\n",
    "vectorizer = CountVectorizer(\n",
    "             stop_words='english'\n",
    "           , ngram_range=(1, 2)\n",
    "           , token_pattern='[A-Za-z]+'\n",
    "           , min_df = 10\n",
    "           , max_df = 0.25\n",
    ")\n",
    "\n",
    "features = vectorizer.fit_transform(df.ingredient_txt)\n",
    "## features is a document x term matrix.\n",
    "\n",
    "wc = f.feature_counts(vectorizer, features)\n",
    "\n",
    "wc.sort('count').tail(25).plot('word','count', kind='bar')\n"
   ]
  },
  {
   "cell_type": "code",
   "execution_count": 754,
   "metadata": {
    "collapsed": false,
    "tags": [
     "worksheet-0"
    ]
   },
   "outputs": [
    {
     "name": "stdout",
     "output_type": "stream",
     "text": [
      "Finished running model\n"
     ]
    }
   ],
   "source": [
    "m = lda.LDA(n_topics=40, random_state=0, n_iter=200)\n",
    "m.fit(features)\n",
    "print('Finished running model')\n"
   ]
  },
  {
   "cell_type": "markdown",
   "metadata": {
    "collapsed": true,
    "tags": [
     "worksheet-0"
    ]
   },
   "source": [
    "# Evaluating the model.\n",
    "## Convergence"
   ]
  },
  {
   "cell_type": "code",
   "execution_count": 755,
   "metadata": {
    "collapsed": false,
    "tags": [
     "worksheet-0"
    ]
   },
   "outputs": [
    {
     "data": {
      "text/plain": [
       "<matplotlib.figure.Figure at 0x7fd05491b510>"
      ]
     },
     "metadata": {},
     "output_type": "display_data"
    },
    {
     "data": {
      "text/plain": [
       "<matplotlib.text.Text at 0x7fd051ce6890>"
      ]
     },
     "execution_count": 755,
     "metadata": {},
     "output_type": "execute_result"
    }
   ],
   "source": [
    "plt.plot(m.loglikelihoods_, '-')\n",
    "plt.title('Loglikelihood')\n"
   ]
  },
  {
   "cell_type": "markdown",
   "metadata": {
    "collapsed": true,
    "tags": [
     "worksheet-0"
    ]
   },
   "source": [
    "# Assessing topics"
   ]
  },
  {
   "cell_type": "code",
   "execution_count": 756,
   "metadata": {
    "collapsed": false,
    "tags": [
     "worksheet-0"
    ]
   },
   "outputs": [],
   "source": [
    "## Extracting topic data.\n",
    "\n",
    "## most probable words by topic.\n",
    "## TODO: check if these are properly sorted within each topic.\n",
    "w = f.most_probable_words(m, vectorizer.get_feature_names(), 10)\n",
    "\n",
    "## most probable documents by topic.\n",
    "# np.apply_along_axis(lambda i: df.iloc[i]['title'], 1, doc_ids)\n",
    "\n",
    "doc_ids = np.argsort(m.doc_topic_, axis=0)[-4:-1,:].T\n",
    "\n",
    "doc_probs = np.sort(m.doc_topic_, axis=0)[-4:-1,:].T\n",
    "\n",
    "\n"
   ]
  },
  {
   "cell_type": "code",
   "execution_count": 757,
   "metadata": {
    "collapsed": false,
    "tags": [
     "worksheet-0"
    ]
   },
   "outputs": [],
   "source": [
    "## TODO: store one set of results for each run.\n",
    "\n",
    "\n",
    "## massage document ids and probabilities into form suitable for database.\n",
    "di = pd.DataFrame(doc_ids)\n",
    "di['topic'] = di.index\n",
    "di = pd.melt(di, id_vars='topic')\n",
    "di.columns = ['topic','rank','recipe_key']\n",
    "\n",
    "dp = pd.DataFrame(doc_probs)\n",
    "dp['topic'] = dp.index\n",
    "dp = pd.melt(dp, id_vars='topic')\n",
    "dp.columns = ['topic','rank','prob']\n",
    "\n",
    "dd = pd.merge(di, dp)\n",
    "dd.to_sql('doc_prob', con, if_exists='replace')\n",
    "\n",
    "# store recipes\n",
    "df['key'] = df.index\n",
    "df.to_sql('clean_recipes', con, if_exists='replace')\n",
    "\n",
    "# store words\n",
    "w.columns = ['rank','topic','word','prob']\n",
    "w.to_sql('word_probs', con, if_exists='replace')\n"
   ]
  },
  {
   "cell_type": "code",
   "execution_count": 758,
   "metadata": {
    "collapsed": false,
    "tags": [
     "worksheet-0"
    ]
   },
   "outputs": [
    {
     "name": "stdout",
     "output_type": "stream",
     "text": [
      "\n",
      "topic: 31\n",
      "                                      title      prob\n",
      "24           Mushroom Goat Cheese Pan Sauce  0.394444\n",
      "5                        24th Street Spritz  0.406667\n",
      "109  Curried Scallops with Angel Hair Pasta  0.407813\n",
      "topic: 32\n",
      "                          title      prob\n",
      "30  Fast and Friendly Meatballs  0.656522\n",
      "48     The Perfect Basic Burger  0.686364\n",
      "88             Grilled Kingfish  0.740000\n",
      "topic: 33\n",
      "                                             title      prob\n",
      "1   Crispy Jerusalem Artichokes with Aged Balsamic  0.700000\n",
      "12    Frascatelli with Pecorino and Mustard Greens  0.719565\n",
      "15           Shellfish and Potatoes à la Marinière  0.751087\n",
      "topic: 34\n",
      "                 title      prob\n",
      "96    Spicy Baked Tofu  0.660526\n",
      "31  Asian Beef Skewers  0.685366\n",
      "61  Garlic Ginger Tofu  0.717857\n",
      "topic: 35\n",
      "                                            title      prob\n",
      "77                               Rich Cheese Pie   0.597297\n",
      "56  Mom\\u0027s Easy Creamed Chipped Beef on Toast  0.633333\n",
      "78                               Rich Cheese Pie   0.651351\n",
      "topic: 36\n",
      "                                     title      prob\n",
      "105                         Summer Sausage  0.676087\n",
      "46   Flat Iron Steak with Three Pepper Rub  0.695918\n",
      "59        Whole Chicken Slow Cooker Recipe  0.717143\n",
      "topic: 37\n",
      "                                    title      prob\n",
      "113  Louise\\u0027s Herbed Beef Tenderloin  0.613889\n",
      "69                    Roasted Sherry Duck  0.616129\n",
      "115    Mom Schroer\\u0027s Beef Tenderloin  0.630233\n",
      "topic: 38\n",
      "                   title      prob\n",
      "47  Bowties and Broccoli  0.725000\n",
      "51  Penne with Mushrooms  0.729545\n",
      "37   The Best Clam Sauce  0.760606\n",
      "topic: 39\n",
      "                                 title      prob\n",
      "10                    BBQ Beef Brisket  0.610000\n",
      "25                 The Ultimate Burger  0.645455\n",
      "53  Catherine\\u0027s Sirloin Tip Roast  0.656522\n"
     ]
    },
    {
     "name": "stdout",
     "output_type": "stream",
     "text": [
      "\n",
      "topic: 18\n",
      "                 title      prob\n",
      "50  Mango Salsa Salmon  0.617949\n",
      "82     Onion Spaghetti  0.645238\n",
      "81     Onion Spaghetti  0.669048\n",
      "topic: 19\n",
      "                           title      prob\n",
      "40       Quick Brownbag Burritos  0.784375\n",
      "39             Mexican Casserole  0.789286\n",
      "90  Super-Simple Dorito(R) Tacos  0.789362\n",
      "topic: 20\n",
      "                      title      prob\n",
      "62            Chicken Voila  0.560465\n",
      "86  Salt and Pepper Chicken  0.569565\n",
      "87  Salt and Pepper Chicken  0.569565\n",
      "topic: 21\n",
      "                          title      prob\n",
      "66         Roast Pork Loin Chop  0.576190\n",
      "100  Easy Tangy Pork Loin Chops  0.624138\n",
      "101  Easy Tangy Pork Loin Chops  0.624138\n",
      "topic: 22\n",
      "                                            title      prob\n",
      "21                             Limoncello Sparkle  0.623077\n",
      "19                            Campari-Orange Pops  0.636842\n",
      "27  Mackerel with Cauliflower Couscous and Tahini  0.700000\n",
      "topic: 23\n",
      "                                    title      prob\n",
      "107  Pineapple, Black Beans, and Couscous  0.515385\n",
      "108  Pineapple, Black Beans, and Couscous  0.515385\n",
      "117                      Fruit Glazed Ham  0.524000\n",
      "topic: 24\n",
      "                                    title      prob\n",
      "83       Bangaladumpa (Potato) Upma Koora  0.570968\n",
      "92                          Cabbage Koora  0.584722\n",
      "93  Bengaladumpa Vepudu (Potato Stir-Fry)  0.618333\n",
      "topic: 25\n",
      "                                        title      prob\n",
      "70                     Sausage Steamed Dinner  0.804225\n",
      "65  Chef John\\u0027s Corned Beef and Cabbage   0.841071\n",
      "45          Irish Boiled Dinner (Corned Beef)  0.851515\n",
      "topic: 26\n",
      "                                             title      prob\n",
      "6                Very Chocolaty Chocolate Brownies  0.871014\n",
      "18                               Marshmallow Sauce  0.877083\n",
      "20  Grandad Danners Favorite Peanut Butter Cookies  0.880220\n",
      "topic: 27\n",
      "                               title      prob\n",
      "94                     Fake Sukiyaki  0.362000\n",
      "106  Apple Cinnamon Brie Quesadillas  0.368293\n",
      "49     Squash and Zucchini Casserole  0.402857\n",
      "topic: 28\n",
      "                                   title      prob\n",
      "112  Porcupine Meatballs in Tomato Sauce  0.522222\n",
      "54                         Chili Burgers  0.587500\n",
      "104                   Beer Basted Rabbit  0.606667\n",
      "topic: 29\n",
      "                                      title      prob\n",
      "118  Jamaican-Seasoned Sauteed Swai Fillets  0.671429\n",
      "67           Foil Barbecued Trout with Wine  0.708824\n",
      "38               Lemon-Orange Orange Roughy  0.766667\n",
      "topic: 30\n",
      "                                   title      prob\n",
      "71  Quick Chicken and Stuffing Casserole  0.555172\n",
      "36        Mild Cheesy Chicken Enchiladas  0.555263\n",
      "76               Green Turkey and Cheese  0.595455"
     ]
    },
    {
     "name": "stdout",
     "output_type": "stream",
     "text": [
      "\n",
      "topic: 5\n",
      "                                        title      prob\n",
      "55               Moist Garlic Roasted Chicken  0.623810\n",
      "114                  Peri Peri Chicken Livers  0.644000\n",
      "73   The Attention-Hungry Turkey of Moistness  0.719048\n",
      "topic: 6\n",
      "             title      prob\n",
      "91      Pluto Pups  0.850943\n",
      "0   No-Knead Bread  0.855882\n",
      "17         Qatayef  0.855882\n",
      "topic: 7\n",
      "                                   title      prob\n",
      "22  Apple Torte with Breadcrumb-Hazelnut  0.578788\n",
      "35                   Oven Baked BBQ Ribs  0.593182\n",
      "79         Slow Cooker Potluck Spareribs  0.594444\n",
      "topic: 8\n",
      "                                          title      prob\n",
      "111  Spence\\u0027s Secret Thai Red Shrimp Curry  0.529213\n",
      "7            Red Curry of Lobster and Pineapple  0.553125\n",
      "60                        Shrimp Red Thai Curry  0.577500\n",
      "topic: 9\n",
      "                                     title      prob\n",
      "80                  Grilled Cheese De Mayo  0.766667\n",
      "85  Turkey Sandwiches with Cranberry Sauce  0.775000\n",
      "44                                     BLT  0.777273\n",
      "topic: 10\n",
      "                          title      prob\n",
      "102        Marsha\\u0027s Garoni  0.743478\n",
      "75   Fern\\u0027s Tuna Casserole  0.802500\n",
      "33            Pot Roast in Foil  0.811538\n",
      "topic: 11\n",
      "                                   title      prob\n",
      "43  Cornish Game Hens with Rice Stuffing  0.592308\n",
      "3                   Chopstick Ready Rice  0.610000\n",
      "57                  Easy Oven Brown Rice  0.652941\n",
      "topic: 12\n",
      "                    title      prob\n",
      "74        Bulgogi Burgers  0.633333\n",
      "11   Gochujang-Date Sauce  0.640909\n",
      "103       Salmon Yakitori  0.659375\n",
      "topic: 13\n",
      "                       title      prob\n",
      "68  Baked Hot Dog Sandwiches  0.548485\n",
      "9           Russian Dressing  0.550980\n",
      "32     Chili Dog Casserole I  0.633333\n",
      "topic: 14\n",
      "                             title      prob\n",
      "89   Italian Broccoli Rabe Grinder  0.467442\n",
      "34  Broccoli and Sausage Cavatelli  0.490244\n",
      "52    Spicy Stuffed Chicken Thighs  0.492453\n",
      "topic: 15\n",
      "                                                title      prob\n",
      "23  Quick-Brined Grilled Pork Chops with Treviso a...  0.727500\n",
      "14  Nectarine and Blue Cheese Salad with Plum Vina...  0.751667\n",
      "28  Arugula, Grape, and Almond Salad with Saba Vin...  0.756140\n",
      "topic: 16\n",
      "                                title      prob\n",
      "29              Spinach-Cheese Swirls  0.492727\n",
      "13       Chocolate Peanut Butter Cups  0.522222\n",
      "42  Mark\\u0027s English Sausage Rolls  0.559259\n",
      "topic: 17\n",
      "                                      title      prob\n",
      "84   Spinach Manicotti with Italian Sausage  0.793023\n",
      "63                   Slow Cooker Lasagna II  0.793750\n",
      "110                   Easy Passover Lasagna  0.796552"
     ]
    },
    {
     "name": "stdout",
     "output_type": "stream",
     "text": [
      "topic: 0\n",
      "                                         title      prob\n",
      "99                      No Bean Veggie Burgers  0.472549\n",
      "8   Red, White, and Blue Potato and Beet Chips  0.488571\n",
      "26                                    Po-Tacos  0.512500\n",
      "topic: 1\n",
      "                           title      prob\n",
      "97  Lamb Merguez Sausage Patties  0.615909\n",
      "98  Lamb Merguez Sausage Patties  0.615909\n",
      "58    Middle Eastern Turkey Dogs  0.628125\n",
      "topic: 2\n",
      "                                    title      prob\n",
      "41                Chicken Kabobs Mexicana  0.517188\n",
      "95  Classic Smoked Sausage \\u0026 Peppers  0.519643\n",
      "64                         Chicken Kabobs  0.542000\n",
      "topic: 3\n",
      "                                      title      prob\n",
      "2   Charred Romaine with Tomatillo Dressing  0.820455\n",
      "16                         Watermelon Sugar  0.831034\n",
      "4                     Tomatillo Salsa Verde  0.840541\n",
      "topic: 4\n",
      "                                        title      prob\n",
      "119                          Mushroom Sliders  0.551667\n",
      "116                          Mushroom Sliders  0.568333\n",
      "72   Angry Bird Bar-B-Cue Chicken and Sausage  0.583636"
     ]
    }
   ],
   "source": [
    "xx = pd.merge(df, dd, left_on='key', right_on='recipe_key', how='right')\n",
    "for n, g in xx.groupby('topic'):\n",
    "    print 'topic: %s' % n\n",
    "    print g[['title','prob']].sort('prob').to_string()"
   ]
  },
  {
   "cell_type": "code",
   "execution_count": 759,
   "metadata": {
    "collapsed": false,
    "tags": [
     "worksheet-0"
    ]
   },
   "outputs": [
    {
     "name": "stdout",
     "output_type": "stream",
     "text": [
      "\n",
      "======================================================================\n",
      "topic: 37\n",
      "documents:\n",
      "   Mom Schroer\\u0027s Beef Tenderloin  0.6302326\n",
      "                  Roasted Sherry Duck   0.616129\n",
      " Louise\\u0027s Herbed Beef Tenderloin  0.6138889\n",
      "1 (3 pound) beef tenderloin; 2 teaspoons olive oil; 2 cloves garlic, minced; 2 teaspoons dried basil; 1 1/2 teaspoons dried rosemary, crushed; 1 teaspoon sea salt; fresh ground black pepper to taste-----1 (4 pound) frozen duck; 6 tablespoons olive oil; 2 cups dry sherry; 3 teaspoons dried oregano; 3 teaspoons dried rosemary; 3 teaspoons dried basil-----3 tablespoons olive oil; 1 tablespoon lemon juice; 2 cloves garlic, minced; 2 teaspoons salt; 1 1/2 teaspoons dried oregano; 1 1/2 teaspoons dried basil; 1 teaspoon dried rosemary; 1/8 teaspoon ground black pepper; 6 pounds beef tenderloin\n",
      "----------------------------------------------------------------------\n",
      " teaspoon dried  oregano  dried oregano  minced  thyme  parsley  teaspoons  dried basil  basil\n",
      "          0.077    0.040          0.034   0.029  0.026    0.022      0.021        0.021  0.020\n",
      "======================================================================\n",
      "topic: 38\n",
      "documents:\n",
      "  The Best Clam Sauce  0.7606061\n",
      " Penne with Mushrooms  0.7295455\n",
      " Bowties and Broccoli      0.725\n",
      "1 pound dry farfalle (bow tie) pasta; 4 cups broccoli florets; 1/4 cup olive oil; 4 cloves garlic, sliced; 1 cup grated Pecorino Romano cheese; salt to taste; ground black pepper to taste-----1 (8 ounce) package dry penne pasta; 1/4 cup olive oil; 1 clove garlic, finely chopped; 1 pound button mushrooms, sliced; salt and freshly ground black pepper to taste; 1 tablespoon butter; 1 1/2 teaspoons chopped fresh parsley; 1/4 cup grated Parmesan cheese-----1 (16 ounce) package dry linguini; 1 onion, chopped; 6 cloves garlic, chopped; 3 tablespoons olive oil; 4 (6.5 ounce) cans minced clams; 1/2 cup butter; salt and pepper to taste; 2 tablespoons dry white wine\n",
      "----------------------------------------------------------------------\n",
      " parmesan  parmesan cheese  grated parmesan  pasta  cup grated  package  ounce package  pepper taste   wine\n",
      "    0.037            0.034            0.033  0.030       0.023    0.023          0.023         0.020  0.018\n",
      "======================================================================\n",
      "topic: 39\n",
      "documents:\n",
      " Catherine\\u0027s Sirloin Tip Roast  0.6565217\n",
      "                The Ultimate Burger  0.6454545\n",
      "                   BBQ Beef Brisket       0.61\n",
      "; 1 (12-pound) whole beef brisket; 2 cups BBQ Beef Coffee Cure; -----; 2 1/2 pounds skirt steak or sirloin flap steak; -----3 pounds beef sirloin tip roast; 4 cloves garlic, peeled and halved; 1 teaspoon coarsely ground black pepper\n",
      "----------------------------------------------------------------------\n",
      " steak  pounds   wine  red wine  pounds beef  sirloin   ribs  cloves  bottle\n",
      " 0.039   0.039  0.021     0.017        0.017    0.014  0.014   0.014   0.013\n",
      "======================================================================\n"
     ]
    },
    {
     "name": "stdout",
     "output_type": "stream",
     "text": [
      "\n",
      "======================================================================\n",
      "topic: 33\n",
      "documents:\n",
      "          Shellfish and Potatoes à la Marinière   0.751087\n",
      "   Frascatelli with Pecorino and Mustard Greens  0.7195652\n",
      " Crispy Jerusalem Artichokes with Aged Balsamic        0.7\n",
      "; 2 tablespoons olive oil; 2 pounds small Jerusalem artichokes (sunchokes), scrubbed, quartered; Kosher salt, freshly ground pepper; 4 sprigs rosemary; 1/4 cup (1/2 stick) unsalted butter; 3 tablespoons aged balsamic vinegar; -----; 2 cups semolina flour (pasta flour); Kosher salt; 1/4 cup (1/2 stick) unsalted butter; 1 bunch mustard greens (about 6 ounces), center ribs and stems removed, leaves torn into pieces (about 6 cups); Freshly ground black pepper; 1/4 cup grated Pecorino or Parmesan; -----; 1 1/4 pounds small new or baby Yukon Gold potatoes; 1 tablespoon kosher salt plus more; 2 tablespoons olive oil; 1 fennel bulb, trimmed, diced; 2 shallots, finely chopped; 4 garlic cloves, finely chopped; 3/4 cup dry white wine; 1 pound littleneck clams, scrubbed; 1 pound mussels, scrubbed, debearded; 1 pound cockles or small Manila clams, scrubbed; 6-8 razor clams, scrubbed (optional); 1 cup (packed) flat-leaf parsley leaves, coarsely chopped, plus whole leaves for garnish; 1 1/2 tablespoons unsalted butter; Freshly ground black pepper; \n",
      "----------------------------------------------------------------------\n",
      " freshly ground  kosher  kosher salt  salt freshly   plus  large  teaspoon freshly  garlic cloves  white\n",
      "          0.041   0.038        0.038         0.020  0.020  0.015             0.013          0.013  0.012\n",
      "======================================================================\n",
      "topic: 34\n",
      "documents:\n",
      " Garlic Ginger Tofu  0.7178571\n",
      " Asian Beef Skewers  0.6853659\n",
      "   Spicy Baked Tofu  0.6605263\n",
      "1 serving cooking spray; 1 (12 ounce) package tofu; 2 tablespoons Japanese low-sodium soy sauce; 2 tablespoons Asian chili sauce; 2 tablespoons minced fresh ginger root; 1 1/2 tablespoons hoisin sauce-----3 tablespoons hoisin sauce; 3 tablespoons sherry; 1/4 cup soy sauce; 1 teaspoon barbeque sauce; 2 green onions, chopped; 2 cloves garlic, minced; 1 tablespoon minced fresh ginger root; 1 1/2 pounds flank steak; skewers-----3 tablespoons canola oil; 2 teaspoons minced garlic; 2 teaspoons minced fresh ginger root; 1 lime; 1 tablespoon tamari, or to taste; 2 pounds firm tofu\n",
      "----------------------------------------------------------------------\n",
      " fresh ginger  ginger  garlic minced  cloves  minced fresh  minced garlic    soy  cloves garlic  soy sauce\n",
      "        0.027   0.027          0.027   0.022         0.020          0.019  0.019          0.019      0.018\n",
      "======================================================================\n",
      "topic: 35\n",
      "documents:\n",
      "                              Rich Cheese Pie   0.6513514\n",
      " Mom\\u0027s Easy Creamed Chipped Beef on Toast  0.6333333\n",
      "                              Rich Cheese Pie   0.5972973\n",
      "1 1/2 cups shredded Cheddar cheese; 4 eggs; 1 cup heavy cream; 1 cup milk; 3 drops hot sauce; 1/4 teaspoon salt; 1/4 teaspoon pepper; 1/4 teaspoon paprika; 1 (9 inch) unbaked pie crust-----5 cups milk; 3/4 cup all-purpose flour; 1/2 teaspoon salt; 1/4 teaspoon ground black pepper; 1/2 cup butter; 12 ounces beef lunch meat (such as Carl Buddig ®); 16 slices bread, toasted-----1 1/2 cups shredded Cheddar cheese; 4 eggs; 1 cup heavy cream; 1 cup milk; 3 drops hot sauce; 1/4 teaspoon salt; 1/4 teaspoon pepper; 1/4 teaspoon paprika; 1 (9 inch) unbaked pie crust\n",
      "----------------------------------------------------------------------\n",
      " heavy   milk  heavy cream  flour  purpose  cup heavy  purpose flour   half  tablespoons butter\n",
      " 0.041  0.037        0.030  0.026    0.024      0.024          0.023  0.022               0.020\n",
      "======================================================================\n",
      "topic: 36\n",
      "documents:\n",
      "      Whole Chicken Slow Cooker Recipe  0.7171429\n",
      " Flat Iron Steak with Three Pepper Rub  0.6959184\n",
      "                        Summer Sausage   0.676087\n",
      "1 pound ground venison; 1 pound pork sausage; 1 1/2 teaspoons mustard powder; 1 teaspoon mustard seed; 2 teaspoons liquid smoke flavoring; 1 1/2 teaspoons garlic powder; 1 1/2 teaspoons onion salt; 1 1/2 teaspoons meat tenderizer; 1/4 cup water, or as needed-----1 tablespoon smoked paprika; 2 teaspoons salt; 1 teaspoon brown sugar; 2 teaspoons chili powder; 1 teaspoon chipotle chile powder; 1/2 teaspoon ground black pepper; 1/2 teaspoon garlic powder; 1/2 teaspoon onion powder; 1/2 teaspoon ground cumin; 2 pounds flat iron steaks-----4 teaspoons salt, or to taste; 2 teaspoons paprika; 1 teaspoon cayenne pepper; 1 teaspoon onion powder; 1 teaspoon ground thyme; 1 teaspoon ground white pepper; 1/2 teaspoon garlic powder; 1/2 teaspoon ground black pepper; 1 whole whole chicken\n",
      "----------------------------------------------------------------------\n",
      " garlic powder  teaspoons  powder teaspoon  teaspoon garlic  paprika  teaspoon ground  salt teaspoon  pepper teaspoon  cayenne\n",
      "         0.059      0.046            0.046            0.041    0.038            0.026          0.024            0.023    0.021"
     ]
    },
    {
     "name": "stdout",
     "output_type": "stream",
     "text": [
      "\n",
      "======================================================================\n",
      "topic: 29\n",
      "documents:\n",
      "             Lemon-Orange Orange Roughy  0.7666667\n",
      "         Foil Barbecued Trout with Wine  0.7088235\n",
      " Jamaican-Seasoned Sauteed Swai Fillets  0.6714286\n",
      "1 tablespoon olive oil; 2 tablespoons butter; 1 tablespoon Jamaican jerk seasoning; 1 teaspoon salt; 5 (3 ounce) fillets swai fish-----2 trout, cleaned and head removed; 1/4 cup dry white wine; 2 tablespoons butter, melted; 1 tablespoon lemon juice; 2 tablespoons chopped fresh parsley; salt and pepper to taste-----1 tablespoon olive oil; 4 (4 ounce) fillets orange roughy; 1 orange, juiced; 1 lemon, juiced; 1/2 teaspoon lemon pepper\n",
      "----------------------------------------------------------------------\n",
      " juice  fillets  lemon juice  juiced  pepper taste  salmon   lime  white  chopped fresh\n",
      " 0.045    0.037        0.023   0.022         0.020   0.019  0.017  0.012          0.012\n",
      "======================================================================\n",
      "topic: 30\n",
      "documents:\n",
      "              Green Turkey and Cheese  0.5954545\n",
      "       Mild Cheesy Chicken Enchiladas  0.5552632\n",
      " Quick Chicken and Stuffing Casserole  0.5551724\n",
      "3 cups prepared stuffing; 2 cups cubed cooked chicken; 2 cups broccoli florets; 1 (12 ounce) jar chicken gravy; 1 cup shredded Cheddar cheese, divided-----2 cups cubed, cooked chicken meat; 1/4 cup chopped onion; 4 cups shredded Cheddar cheese; 1 cup sour cream; 8 (8 inch) flour tortillas; 1 1/2 cups chopped tomatoes; 1/2 cup black olives-----1 pound spinach, washed and chopped; 1 1/2 cups cooked turkey, cubed; 10 ounces shredded Cheddar cheese\n",
      "----------------------------------------------------------------------\n",
      " cheddar  cheddar cheese  cream   sour  sour cream  cooked  shredded cheddar  cup shredded  cup sour\n",
      "   0.058           0.055  0.053  0.038       0.037   0.036             0.032         0.031     0.020\n",
      "======================================================================\n",
      "topic: 31\n",
      "documents:\n",
      " Curried Scallops with Angel Hair Pasta  0.4078125\n",
      "                     24th Street Spritz  0.4066667\n",
      "         Mushroom Goat Cheese Pan Sauce  0.3944444\n",
      "; 1/4 cup canned low-sodium chicken broth; 1/4 cup full-bodied red wine; -----; 4 celery stalks, chopped; 1 cup sugar; 1/4 cup celery seeds; -----2 ounces whole-wheat angel hair pasta; 1 teaspoon extra-virgin olive oil; 1 onion, chopped; 1 teaspoon curry powder; 1/4 cup fat free, low-sodium chicken broth ; 1/4 cup evaporated skim milk; 2 teaspoons low-sodium tomato paste; 10 ounces fresh scallops; 1/4 cup fat free, low-sodium chicken broth \n",
      "----------------------------------------------------------------------\n",
      " broth  finely chopped  chicken broth    fat    low  sodium  stock  cup finely  cups chicken\n",
      " 0.066           0.065          0.043  0.026  0.025   0.023  0.019       0.016         0.016\n",
      "======================================================================\n",
      "topic: 32\n",
      "documents:\n",
      "            Grilled Kingfish       0.74\n",
      "    The Perfect Basic Burger  0.6863636\n",
      " Fast and Friendly Meatballs  0.6565217\n",
      "2 tablespoons olive oil; 1 (20 ounce) package ground turkey; 1 egg, beaten; 1/3 cup Italian seasoned bread crumbs-----1 egg; 1/2 teaspoon salt; 1/2 teaspoon ground black pepper; 1 pound ground beef; 1/2 cup fine dry bread crumbs-----2 pounds whole kingfish, gutted and washed; 2 cups Italian-style salad dressing\n",
      "----------------------------------------------------------------------\n",
      " crumbs  bread crumbs  beaten    egg   eggs    dry  eggs beaten  dry bread  italian\n",
      "  0.059         0.056   0.049  0.038  0.030  0.025        0.020      0.019    0.018"
     ]
    },
    {
     "name": "stdout",
     "output_type": "stream",
     "text": [
      "\n",
      "======================================================================\n",
      "topic: 25\n",
      "documents:\n",
      "         Irish Boiled Dinner (Corned Beef)  0.8515152\n",
      " Chef John\\u0027s Corned Beef and Cabbage   0.8410714\n",
      "                    Sausage Steamed Dinner  0.8042254\n",
      "2 1/2 pounds smoked sausage; 2 pounds ham hocks; 4 large potatoes, peeled and cut into large chunks; 1 rutabaga, peeled and cut into large chunks; 6 turnips, peeled and cut into large chunks; 6 carrots, peeled and cut into large chunks; 2 onions, cut into large chunks; 1 large head cabbage, quartered; 1 teaspoon salt, or to taste; 1/2 teaspoon ground black pepper, or to taste; 1 quart water-----1 (4 pound) corned beef brisket with spice packet; 3 quarts water; 1 onion, quartered; 3 carrots, cut into large chunks; 3 stalks celery, cut into 2-inch pieces; 1 teaspoon salt; 2 pounds red potatoes, halved; 1 small head cabbage, cut into eighths-----1 (5 1/2 pound) corned beef brisket; 2 large onions; 15 small white (Irish) potatoes; 10 carrots, cut into 1 inch pieces; 2 heads cabbage, cored and cut into wedges\n",
      "----------------------------------------------------------------------\n",
      " pieces  peeled  large   inch  cut pieces  inch pieces  cut inch    bay  carrots\n",
      "  0.062   0.030  0.029  0.025       0.022        0.021     0.020  0.017    0.016\n",
      "======================================================================\n",
      "topic: 26\n",
      "documents:\n",
      " Grandad Danners Favorite Peanut Butter Cookies  0.8802198\n",
      "                              Marshmallow Sauce  0.8770833\n",
      "              Very Chocolaty Chocolate Brownies  0.8710145\n",
      "; 8 oz/225 g high-quality semisweet chocolate; 1/2/120 ml cup melted coconut oil (see notes below); 3 tbsp ground chia seeds; 3/4 cup/180 ml espresso or strong black coffee (regular or decaffeinated), at room temperature; 1 1/4 cups/250 g packed light brown sugar; 1 tsp pure vanilla extract; 3/4 cup/105 g whole-wheat pastry flour; 1/2 tsp salt; 1/4 tsp baking soda; 2/3 cup/75 g chopped walnuts; -----; 3/4 cup light corn syrup; 1/2 cup granulated sugar; 3/4 teaspoon pure vanilla extract; 2 large egg whites, at room temperature; 1/4 teaspoon cream of tartar; Pinch of kosher salt; 1/2 teaspoon pure vanilla extract; -----; 1 1/4 cups unbleached all-purpose flour; 1/2 teaspoon baking soda ; 1/2 teaspoon baking powder ; 1/2 teaspoon fine salt; 8 tablespoons (1 stick) unsalted butter, at room temperature; 3/4 cup smooth peanut butter, at room temperature; 1/2 cup firmly packed dark brown sugar; 1/2 cup firmly packed light brown sugar; 1 organic large egg, at room temperature; 1 teaspoon vanilla extract ; 1 cup peanut butter chips; 1/4 cup granulated sugar (optional); \n",
      "----------------------------------------------------------------------\n",
      " unsalted  unsalted butter  large  vanilla   plus      g  kosher  extract  temperature\n",
      "    0.021            0.019  0.017    0.015  0.015  0.012   0.012    0.012        0.011\n",
      "======================================================================\n",
      "topic: 27\n",
      "documents:\n",
      "   Squash and Zucchini Casserole  0.4028571\n",
      " Apple Cinnamon Brie Quesadillas  0.3682927\n",
      "                   Fake Sukiyaki      0.362\n",
      "1/2 pound thinly sliced roast beef, cut into strips; 1 bunch fresh spinach, rinsed and stemmed; 12 ounces fresh button mushrooms, halved; 1 (10.75 ounce) can  beef stock, divided; 1/2 cup thinly sliced onion; 3 tablespoons sake, or to taste; 3 tablespoons soy sauce, or to taste-----1 1/2 teaspoons butter, divided; 2 (12 inch) flour tortillas; 6 ounces Brie cheese, rind removed and cheese thinly sliced; 1 sweet-tart apple, such as Fugi or Gala, thinly sliced; 1 tablespoon brown sugar; 1/4 teaspoon ground cinnamon-----2 medium yellow squash; 2 large zucchini; 1 Vidalia onions, thinly sliced; 2 large tomatoes, sliced; 2 cups grated Romano cheese; 1/2 cup butter, divided; salt and pepper to taste\n",
      "----------------------------------------------------------------------\n",
      " thinly  thinly sliced  oil divided  ounces  divided cup  onion thinly  mushrooms  sliced cup  divided tablespoons\n",
      "  0.116          0.115        0.029   0.024        0.021         0.016      0.014       0.013                0.013\n",
      "======================================================================\n",
      "topic: 28\n",
      "documents:\n",
      "                  Beer Basted Rabbit  0.6066667\n",
      "                       Chili Burgers     0.5875\n",
      " Porcupine Meatballs in Tomato Sauce  0.5222222\n",
      "1 pound ground beef; 1 cup instant rice; 1 white onion, chopped; 1 egg; 1 (28 ounce) can tomato sauce; 28 fluid ounces water-----1 1/2 pounds ground beef; 1/2 pound Italian sausage; 1/3 cup tomato-based chili sauce; salt and pepper to taste-----3 pounds rabbit meat; 2 tablespoons garlic salt; 2 (12 fluid ounce) cans beer\n",
      "----------------------------------------------------------------------\n",
      " ground beef  pound ground  pounds   lean  lean ground  tomato  pounds ground  onion chopped  fluid\n",
      "       0.083         0.040   0.038  0.037        0.032   0.030          0.023          0.022  0.020"
     ]
    },
    {
     "name": "stdout",
     "output_type": "stream",
     "text": [
      "\n",
      "======================================================================\n",
      "topic: 21\n",
      "documents:\n",
      " Easy Tangy Pork Loin Chops  0.6241379\n",
      " Easy Tangy Pork Loin Chops  0.6241379\n",
      "       Roast Pork Loin Chop  0.5761905\n",
      "4 thick cut pork chops; salt and pepper to taste; 1 large onion, peeled and sliced; 1 cup water-----2 tablespoons canola oil; 1 1/2 pounds pork tenderloin, sliced 1 1/2 inch thick; 1 cup ketchup; 1 cup cola-flavored carbonated beverage (such as Coca-Cola®); ground black pepper to taste-----2 tablespoons canola oil; 1 1/2 pounds pork tenderloin, sliced 1 1/2 inch thick; 1 cup ketchup; 1 cup cola-flavored carbonated beverage (such as Coca-Cola®); ground black pepper to taste\n",
      "----------------------------------------------------------------------\n",
      " boneless  chops  roast  pepper taste  pork chops  vegetable oil  vegetable  boneless pork  pounds\n",
      "    0.035  0.033  0.032         0.028       0.025          0.024      0.023          0.022   0.021\n",
      "======================================================================\n",
      "topic: 22\n",
      "documents:\n",
      " Mackerel with Cauliflower Couscous and Tahini        0.7\n",
      "                           Campari-Orange Pops  0.6368421\n",
      "                            Limoncello Sparkle  0.6230769\n",
      "; 1 ounce limoncello (an Italian lemon liqueur); 1/2 ounce Cointreau; Champagne ; Long lemon peel, for garnish; -----; 1/3 cup sugar; 1 3/4 cups fresh orange juice; 1/3 cup Campari; 1/4 cup fresh lemon juice; -----; 1 garlic clove, finely grated; 1/4 cup tahini; 2 tablespoons fresh lemon juice; 2 tablespoons olive oil; Kosher salt; \n",
      "----------------------------------------------------------------------\n",
      " juice  lemon juice  finely  parsley  grated  fresh lemon  chopped fresh   zest  orange\n",
      " 0.059        0.046   0.044    0.032   0.030        0.029          0.029  0.026   0.021\n",
      "======================================================================\n",
      "topic: 23\n",
      "documents:\n",
      "                     Fruit Glazed Ham      0.524\n",
      " Pineapple, Black Beans, and Couscous  0.5153846\n",
      " Pineapple, Black Beans, and Couscous  0.5153846\n",
      "1/2 cup water; 1 (15 ounce) can pineapple chunks, drained (juice reserved); 1 cup couscous ; 1 (15 ounce) can black beans, rinsed and drained; 1/3 cup warm water; 2 tablespoons taco seasoning mix-----1/2 cup water; 1 (15 ounce) can pineapple chunks, drained (juice reserved); 1 cup couscous ; 1 (15 ounce) can black beans, rinsed and drained; 1/3 cup warm water; 2 tablespoons taco seasoning mix-----4 pounds thick ham slices; 1 (8 ounce) can pineapple tidbits, drained; 1 (11 ounce) can mandarin oranges, drained; 1 (10 ounce) jar Crosse & Blackwell® Premium Ham Glaze\n",
      "----------------------------------------------------------------------\n",
      " beans   cans  rinsed  ounce cans  drained cup  drained ounce    jar  ounce sliced  beans drained\n",
      " 0.039  0.025   0.024       0.023        0.018          0.017  0.014         0.014          0.013\n",
      "======================================================================\n",
      "topic: 24\n",
      "documents:\n",
      " Bengaladumpa Vepudu (Potato Stir-Fry)  0.6183333\n",
      "                         Cabbage Koora  0.5847222\n",
      "      Bangaladumpa (Potato) Upma Koora  0.5709677\n",
      "1 pound potatoes; 2 tablespoons cooking oil; 1 tablespoon skinned split black lentils (urad dal); 1 teaspoon split Bengal gram (chana dal); 1 teaspoon mustard seed; 2 dried red chile peppers, broken into pieces; 1 pinch asafoetida powder; 1 cup chopped onion; 3 green chile peppers, sliced into thin rings; 1 sprig fresh curry leaves; 1/2 teaspoon ground turmeric; 1/2 teaspoon ground red pepper; 1 tablespoon minced fresh ginger root; salt to taste; 2 tablespoons fresh lime juice, or to taste; 2 tablespoons chopped fresh cilantro-----3 tablespoons cooking oil; 2 dried red chile peppers, broken into pieces; 1 tablespoon skinned split black lentils (urad dal); 1 teaspoon split Bengal gram (chana dal); 1 teaspoon mustard seed; 1 sprig fresh curry leaves; 1 pinch asafoetida powder; 4 green chile peppers, minced; 1 head cabbage, finely chopped; 1/4 cup frozen peas (optional); salt to taste; 1/4 cup grated coconut-----1/4 cup cooking oil; 4 dried red chile peppers; 1 tablespoon cumin seeds; 2 teaspoons skinned split black lentils (urad dal); 1/2 teaspoon mustard seeds; 1 sprig fresh curry leaves; 1 pound potatoes, peeled and cubed; salt to taste; 1/2 teaspoon ground red pepper; 1/2 teaspoon ground cumin\n",
      "----------------------------------------------------------------------\n",
      " dried  crumbled  spinach  leaves   feta  feta cheese  tomatoes  olives  crumbled feta\n",
      " 0.029     0.025    0.023   0.020  0.020        0.016     0.016   0.013          0.013"
     ]
    },
    {
     "name": "stdout",
     "output_type": "stream",
     "text": [
      "\n",
      "======================================================================\n",
      "topic: 17\n",
      "documents:\n",
      "                  Easy Passover Lasagna  0.7965517\n",
      "                 Slow Cooker Lasagna II    0.79375\n",
      " Spinach Manicotti with Italian Sausage  0.7930233\n",
      "1 (9 ounce) bag fresh spinach; 1 pound bulk Italian sausage; 1 (24 ounce) carton small curd cottage cheese; 1 (12 ounce) package shredded mozzarella cheese, divided; 12 manicotti shells; 2 (24 ounce) jars spaghetti sauce-----1 (16 ounce) package lasagna noodles; 1 pound lean ground beef; 1 1/2 (26 ounce) jars spaghetti sauce; 2 cups shredded mozzarella cheese; 1/2 cup grated Parmesan cheese; 1 (8 ounce) container ricotta cheese; 2 eggs; 2 cups shredded mozzarella cheese-----28 ounces ricotta cheese; 3 eggs; 8 matzah sheets, or more as needed; 3 (32 ounce) jars marinara sauce (such as Classico® Tomato and Basil); 2 (16 ounce) packages shredded mozzarella cheese\n",
      "----------------------------------------------------------------------\n",
      " mozzarella  mozzarella cheese  package  ounce package  shredded mozzarella  parmesan  parmesan cheese  grated  cheese cup\n",
      "      0.039              0.037    0.031          0.028                0.027     0.022            0.022   0.022       0.019\n",
      "======================================================================\n",
      "topic: 18\n",
      "documents:\n",
      "    Onion Spaghetti  0.6690476\n",
      "    Onion Spaghetti  0.6452381\n",
      " Mango Salsa Salmon  0.6179487\n",
      "4 (6 ounce) salmon steaks; 3 tablespoons olive oil; 1 large red onion, diced; 2 cloves garlic, peeled and minced; 2 tomatoes, diced; 1 sprig fresh cilantro, chopped; 2 mangos - peeled, seeded, and diced-----2 tablespoons olive oil; 4 large onions, sliced; 2 cloves garlic, crushed; 1 tablespoon tomato paste; 1 (14.5 ounce) can whole peeled tomatoes; 1 teaspoon salt; 1/2 teaspoon freshly ground black pepper; 1 tablespoon chopped fresh basil; 1/4 cup water; 1 pound spaghetti-----2 tablespoons olive oil; 4 large onions, sliced; 2 cloves garlic, crushed; 1 tablespoon tomato paste; 1 (14.5 ounce) can whole peeled tomatoes; 1 teaspoon salt; 1/2 teaspoon freshly ground black pepper; 1 tablespoon chopped fresh basil; 1/4 cup water; 1 pound spaghetti\n",
      "----------------------------------------------------------------------\n",
      " diced  minced  tomato  cloves garlic  cloves  garlic minced  diced tomatoes  paste  seeded\n",
      " 0.051   0.033   0.032          0.025   0.025          0.021           0.020  0.016   0.014\n",
      "======================================================================\n",
      "topic: 19\n",
      "documents:\n",
      " Super-Simple Dorito(R) Tacos  0.7893617\n",
      "            Mexican Casserole  0.7892857\n",
      "      Quick Brownbag Burritos   0.784375\n",
      "1 (15 ounce) can black beans; 1 cup salsa; 1 tablespoon ground cumin; 1 tablespoon chili powder; 8 (10 inch) flour tortillas; 1 cup shredded Monterey Jack cheese-----1 (16 ounce) can refried beans; 3/4 onion, diced; 5 (10 inch) flour tortillas; 1 cup salsa; 2 cups shredded Cheddar or Colby Jack cheese-----1 pound ground beef; 1 envelope taco seasoning mix; 1 (10 ounce) can diced tomatoes with green chile peppers; 1 (15 ounce) can ranch-style beans; 1 (14.5 ounce) package nacho-flavor tortilla chips; 3/4 cup shredded Mexican cheese blend, divided\n",
      "----------------------------------------------------------------------\n",
      "  corn  tortillas  green   jack   inch  ounce package  diced  salsa  jack cheese\n",
      " 0.023      0.023  0.018  0.016  0.016          0.015  0.015  0.015        0.015\n",
      "======================================================================\n",
      "topic: 20\n",
      "documents:\n",
      " Salt and Pepper Chicken  0.5695652\n",
      " Salt and Pepper Chicken  0.5695652\n",
      "           Chicken Voila  0.5604651\n",
      "4 skinless, boneless chicken breast halves - cut into bite-size pieces; salt and pepper to taste; 2 cloves garlic, minced; 1/2 cup all-purpose flour; 1 tablespoon vegetable oil; 1 tablespoon butter; 1 (14.5 ounce) can chicken broth-----1 tablespoon vegetable oil; 4 skinless, boneless chicken breast halves; 1 tablespoon salt; 1 tablespoon ground black pepper; 1 cup milk-----1 tablespoon vegetable oil; 4 skinless, boneless chicken breast halves; 1 tablespoon salt; 1 tablespoon ground black pepper; 1 cup milk\n",
      "----------------------------------------------------------------------\n",
      " boneless  breast  chicken breast  boneless chicken  skinless boneless  halves  breast halves   bite    cut\n",
      "    0.083   0.077           0.073             0.070              0.069   0.065          0.062  0.016  0.015"
     ]
    },
    {
     "name": "stdout",
     "output_type": "stream",
     "text": [
      "\n",
      "======================================================================\n",
      "topic: 13\n",
      "documents:\n",
      "    Chili Dog Casserole I  0.6333333\n",
      "         Russian Dressing  0.5509804\n",
      " Baked Hot Dog Sandwiches  0.5484848\n",
      "8 hot dogs, chopped; 2/3 cup shredded Cheddar cheese; 3 tablespoons pickle relish; 3 tablespoons ketchup; 2 teaspoons prepared mustard; 3 tablespoons chopped onion; 8 hot dog buns-----; 1 tablespoon finely chopped onion ; 1 cup purchased or homemade mayonnaise; 1/4 cup ketchup-style chili sauce or ketchup; 4 teaspoons bottled (regular; not packed in beet juice) horseradish, or to taste; 1 teaspoon hot sauce, preferably Franks Red Hot Sauce; 1 teaspoon Worcestershire sauce; 1/4 teaspoon sweet paprika; Fine sea salt; -----8 hot dog buns; 8 hot dogs; 1 (15 ounce) can chili; 1/4 cup chopped onion; 1 tablespoon prepared mustard; 2 cups shredded Cheddar cheese\n",
      "----------------------------------------------------------------------\n",
      " worcestershire sauce  worcestershire    hot  dijon  dijon mustard  prepared  teaspoons  pepper sauce  ketchup\n",
      "                0.048           0.048  0.037  0.028          0.026     0.024      0.020         0.017    0.017\n",
      "======================================================================\n",
      "topic: 14\n",
      "documents:\n",
      "   Spicy Stuffed Chicken Thighs  0.4924528\n",
      " Broccoli and Sausage Cavatelli  0.4902439\n",
      "  Italian Broccoli Rabe Grinder  0.4674419\n",
      "1/2 cup extra-virgin olive oil; 5 cloves garlic, minced; 1 teaspoon crushed red pepper flakes; 1/2 cup diced pepperoni; 2 bunches broccoli rabe, trimmed; salt, to taste; 4 hard Italian rolls, split; 8 slices provolone cheese-----1 pound spicy Italian sausage; 1/2 cup olive oil; 4 cloves garlic, minced; 1 (16 ounce) package cavatelli pasta; 1 (16 ounce) package frozen broccoli; 1/2 teaspoon crushed red pepper flakes; 1/4 cup grated Parmesan cheese-----10 boneless, skinless chicken thighs; 5 hot Italian sausage links, casings removed; 1 green bell pepper, diced; 1 onion, diced (optional); 8 ounces canned diced tomatoes, with juices; 1 tablespoon Italian seasoning; 1 teaspoon crushed red pepper flakes\n",
      "----------------------------------------------------------------------\n",
      " red pepper  flakes  crushed  pepper flakes  seasoning  crushed red  italian  teaspoon crushed  sausage\n",
      "      0.061   0.059    0.052          0.052      0.043        0.030    0.027             0.020    0.019\n",
      "======================================================================\n",
      "topic: 15\n",
      "documents:\n",
      " Arugula, Grape, and Almond Salad with Saba Vin...  0.7561404\n",
      " Nectarine and Blue Cheese Salad with Plum Vina...  0.7516667\n",
      " Quick-Brined Grilled Pork Chops with Treviso a...     0.7275\n",
      "; 3 tablespoons coarse kosher salt; 1 1/2 tablespoons sugar; 4 3/4- to 1-inch-thick pork rib chops; 1 head of Treviso radicchio; 1 head of Belgian endive; 3 tablespoons (about) extra-virgin olive oil; 3/4 cup balsamic vinegar; 1 tablespoon butter; Chopped fresh Italian parsley; -----; 2 black plums, halved, pitted, chopped; 1/2 cup extra-virgin olive oil; 4 teaspoons ume plum vinegar or red wine vinegar; Kosher salt, freshly ground pepper; 12 cups (lightly packed) mixed greens (such as arugula and frisée); 4 nectarines or peaches, halved, pitted, cut into eighths; 8 ounces firm blue cheese, such as Cabrales, sliced; 1/2 cup almonds, preferably Marcona; -----; 1/2 pound seedless red or purple grapes; 1 tablespoon minced shallot; 1 tablespoon (or more) Sherry vinegar; 1/4 teaspoon kosher salt plus more for seasoning; 1/4 cup extra-virgin olive oil; 1 tablespoon saba or aged balsamic vinegar plus more for drizzling; Freshly ground black pepper; 1/2 pound arugula (about 8 cups); 1/4 pound Roncal, Manchego, or Pecorino cheese, shaved with a peeler; 3/4 cup salted, roasted Marcona almonds, coarsely chopped; \n",
      "----------------------------------------------------------------------\n",
      " virgin  extra virgin  virgin olive  vinegar    red    sea  sea salt  tablespoons extra   wine\n",
      "  0.043         0.042         0.042    0.033  0.024  0.020     0.019              0.017  0.016\n",
      "======================================================================\n",
      "topic: 16\n",
      "documents:\n",
      " Mark\\u0027s English Sausage Rolls  0.5592593\n",
      "      Chocolate Peanut Butter Cups  0.5222222\n",
      "             Spinach-Cheese Swirls  0.4927273\n",
      "; 1 egg ; 1 tablespoon water ; 1/2 cup shredded Muenster cheese; 1/4 cup grated Parmesan cheese ; 1 green onion, chopped (about 2 tablespoons) ; 1/8 teaspoon garlic powder ; All-purpose flour ; 1/2 of a 17.3-ounce package Pepperidge Farm® Puff Pastry Sheets (1 sheet), thawed ; 1 package (about 10 ounces) frozen chopped spinach, thawed and well drained; -----; 1/2 of a 17.3-ounce package Pepperidge Farm® Puff Pastry Sheets (1 sheet), thawed; 6 tbsp. creamy peanut butter; 1 bar (4 ounces) sweet baking chocolate, broken into 18 squares; 2/3 cup miniature marshmallow; -----1 (16 ounce) package pork sausagemeat; 1 (17.25 ounce) package frozen puff pastry sheets, thawed; 1/4 cup Dijon mustard; 1 beaten egg\n",
      "----------------------------------------------------------------------\n",
      " package  thawed  ounce package   peas  package frozen  broccoli  cup frozen  florets  drained\n",
      "   0.049   0.046          0.045  0.031           0.026     0.023       0.019    0.016    0.014"
     ]
    },
    {
     "name": "stdout",
     "output_type": "stream",
     "text": [
      "\n",
      "======================================================================\n",
      "topic: 9\n",
      "documents:\n",
      "                                    BLT  0.7772727\n",
      " Turkey Sandwiches with Cranberry Sauce      0.775\n",
      "                 Grilled Cheese De Mayo  0.7666667\n",
      "1 tablespoon mayonnaise, divided; 2 slices white bread; 2 slices American cheese; 1 slice pepperjack cheese-----1 loaf French bread; 4 tablespoons margarine; 8 ounces sliced deli turkey meat; 8 slices provolone cheese; 8 slices precooked bacon; 4 tablespoons mayonnaise; 4 tablespoons jellied cranberry sauce; 8 slices fresh tomatoes; 4 lettuce leaves-----4 slices bacon; 2 leaves lettuce; 2 slices tomato; 2 slices bread, toasted; 1 tablespoon mayonnaise\n",
      "----------------------------------------------------------------------\n",
      " bacon  bread  slices bacon  split  mayonnaise  crumbled   buns  ounces  rolls\n",
      " 0.042  0.032         0.017  0.016       0.013     0.012  0.011   0.010  0.010\n",
      "======================================================================\n",
      "topic: 10\n",
      "documents:\n",
      "          Pot Roast in Foil  0.8115385\n",
      " Fern\\u0027s Tuna Casserole     0.8025\n",
      "       Marsha\\u0027s Garoni  0.7434783\n",
      "2 slices bologna; 1 (7.25 ounce) package macaroni and cheese mix ; 1 (.75 ounce) packet dry brown gravy mix-----1/2 (8 ounce) package egg noodles; 1 (10.75 ounce) can  condensed cream of mushroom soup; 3/4 cup whole milk; 1 (6 ounce) can tuna; 2 slices processed cheese food (such as Velveeta®); 1/2 cup crushed potato chips, or as needed-----3 pounds bottom round; 1 (10.75 ounce) can condensed cream of mushroom soup; 1 packet dry onion soup mix; 2 tablespoons water\n",
      "----------------------------------------------------------------------\n",
      " condensed  cream  package  ounce package  condensed cream  ounce condensed    mix  mushroom  mushroom soup\n",
      "     0.040  0.039    0.034          0.032            0.030            0.030  0.029     0.025          0.022\n",
      "======================================================================\n",
      "topic: 11\n",
      "documents:\n",
      "                 Easy Oven Brown Rice  0.6529412\n",
      "                 Chopstick Ready Rice       0.61\n",
      " Cornish Game Hens with Rice Stuffing  0.5923077\n",
      "3 tablespoons butter; 2 tablespoons slivered almonds; 2 tablespoons chopped onion; 1/3 cup uncooked wild rice; 1 cup water; 1 cube chicken bouillon; 1/2 teaspoon salt; 2 Cornish game hens; salt to taste; 1/4 cup melted butter-----; 2 cups shortgrain white rice; 2 cups water; -----1 1/2 cups brown rice; 1 teaspoon salt; 2 tablespoons butter; 3 cups boiling water\n",
      "----------------------------------------------------------------------\n",
      "  rice  cups water  white  uncooked  white rice  water cup  cup water  bouillon  grain\n",
      " 0.068       0.044  0.040     0.029       0.027      0.021      0.021     0.019  0.018\n",
      "======================================================================\n",
      "topic: 12\n",
      "documents:\n",
      "      Salmon Yakitori   0.659375\n",
      " Gochujang-Date Sauce  0.6409091\n",
      "      Bulgogi Burgers  0.6333333\n",
      "1 tablespoon sesame seeds; 2 pounds lean ground beef; 2 green onions, minced; 3 cloves roasted garlic, mashed; 1/4 cup mirin (Japanese sweet wine); 3 tablespoons soy sauce; 2 tablespoons white sugar; 1 tablespoon Asian (toasted) sesame oil; 1 1/2 teaspoons ground black pepper; 1 teaspoon salt-----; 5 pitted Medjool dates; 1 cup gochujang (Korean hot pepper paste); 2 tablespoons toasted sesame oil; -----1/4 cup light soy sauce; 1/4 cup sake; 1/4 cup mirin (sweetened Asian wine) ; 2 tablespoons white sugar; 2 (6 ounce) salmon fillets; 2 tablespoons vegetable oil\n",
      "----------------------------------------------------------------------\n",
      " soy sauce  cornstarch  sesame  vegetable  white  vegetable oil  sugar   rice  sesame oil\n",
      "     0.041       0.027   0.027      0.023  0.023          0.023  0.020  0.019       0.015"
     ]
    },
    {
     "name": "stdout",
     "output_type": "stream",
     "text": [
      "\n",
      "======================================================================\n",
      "topic: 5\n",
      "documents:\n",
      " The Attention-Hungry Turkey of Moistness  0.7190476\n",
      "                 Peri Peri Chicken Livers      0.644\n",
      "             Moist Garlic Roasted Chicken  0.6238095\n",
      "1 (4 pound) whole chicken; salt and pepper to taste; 1 large lemon, sliced; 6 cloves garlic, sliced; 6 sprigs thyme-----2 tablespoons olive oil; 1 large onion, chopped; 1 teaspoon cayenne pepper, or to taste; 1/2 pound chicken livers, rinsed and trimmed; salt and ground black pepper to taste; 1 tablespoon brandy-----1 (18 pound) whole turkey, neck and giblets removed; 8 cups prepared stuffing; 1/2 cup softened butter; salt and pepper to taste\n",
      "----------------------------------------------------------------------\n",
      " pepper taste  needed  salt ground  optional  water  cloves  salt taste  cloves garlic  pinch salt\n",
      "        0.049   0.042        0.021     0.018  0.017   0.016       0.016          0.016       0.013\n",
      "======================================================================\n",
      "topic: 6\n",
      "documents:\n",
      "        Qatayef  0.8558824\n",
      " No-Knead Bread  0.8558824\n",
      "     Pluto Pups  0.8509434\n",
      "1 quart oil for frying; 20 wooden sticks; 1 cup all-purpose flour; 1/2 cup self-rising flour; 1/4 cup white sugar; 1 teaspoon baking powder; 1/4 teaspoon baking soda; 1 teaspoon salt; 1 egg, beaten; 1 1/4 cups buttermilk; 2 tablespoons lard or shortening, melted; 20 hot dogs-----; 1 teaspoon sugar; 1/2 teaspoon active dry yeast; 1 1/4 cups warm water; 2 1/2 cups whole-wheat flour; 1/2 cup all-purpose flour; 1/8 teaspoon salt; Vegetable oil for frying; -----; 3 cups (400 grams) bread flour ; 1 1/4 teaspoons (8 grams) table salt ; 1/4 teaspoon (1 gram) instant or other active dry yeast ; 1 1/3 cups (300 grams) cool water (55 to 65 degrees F) ; Wheat bran, cornmeal, or additional flour, for dusting; \n",
      "----------------------------------------------------------------------\n",
      " purpose  purpose flour  cup purpose  teaspoon salt  vegetable  vegetable oil  teaspoons  flour cup  cups purpose\n",
      "   0.073          0.072        0.030          0.024      0.024          0.020      0.019      0.018         0.018\n",
      "======================================================================\n",
      "topic: 7\n",
      "documents:\n",
      "        Slow Cooker Potluck Spareribs  0.5944444\n",
      "                  Oven Baked BBQ Ribs  0.5931818\n",
      " Apple Torte with Breadcrumb-Hazelnut  0.5787879\n",
      "; 2 pounds Granny Smith apples, peeled, cored, cut into 1/2-inch wedges; 1/3 cup sugar; 1 cup hard apple cider or dry white wine; -----2 cups sliced onions; 2 cups ketchup; 2 cups water; 4 teaspoons salt; 1/4 cup Worcestershire sauce; 1/2 cup white vinegar; 1/2 cup dark brown sugar; 4 teaspoons dry mustard; 4 pounds pork spareribs-----6 pounds pork spareribs, cut into serving-size pieces; 1 1/2 cups ketchup; 3/4 cup packed brown sugar; 1/2 cup vinegar; 1/2 cup honey; 1/3 cup soy sauce; 1 1/2 teaspoons ground ginger; 1 teaspoon salt; 3/4 teaspoon ground mustard; 1/2 teaspoon garlic powder; 1/4 teaspoon ground black pepper\n",
      "----------------------------------------------------------------------\n",
      " brown  brown sugar  vinegar  white  apple  white sugar  cider  sugar cup  cider vinegar\n",
      " 0.062        0.057    0.040  0.034  0.027        0.019  0.018      0.016          0.015\n",
      "======================================================================\n",
      "topic: 8\n",
      "documents:\n",
      "                      Shrimp Red Thai Curry     0.5775\n",
      "         Red Curry of Lobster and Pineapple   0.553125\n",
      " Spence\\u0027s Secret Thai Red Shrimp Curry  0.5292135\n",
      "2 tablespoons sesame oil; 1 1/2 tablespoons red curry paste, or more to taste; 1 red onion, cut into 1/2-inch dice; 2 large bell peppers, cut into 3/4-inch pieces; 2 (14 ounce) cans coconut milk; 1/2 cup chicken broth; 3 1/2 tablespoons maple syrup; 3 tablespoons fish sauce; 3 stalks lemon grass, bruised and chopped; 4 kaffir lime leaves, torn into quarters; 1 pound medium shrimp, peeled and deveined; 1/4 cup packed chopped fresh basil; 2 tablespoons chopped fresh cilantro-----; One 14-ounce can unsweetened coconut milk; 2 tablespoons red curry paste; 1 1/2 tablespoons fish sauce (nam pla); 1 (packed) tablespoon grated palm sugar (jaggery) or light brown sugar; 8 ounces Chinese long beans or green beans, ends trimmed; 4 slices peeled fresh ginger; 2 kaffir lime leaves or grated zest of 1 lime; 1 1/2 teaspoons tamarind paste ; 1 1/2 cups bite-size cubes peeled fresh pineapple (about 1/4 of a pineapple); Two 8-ounce uncooked lobster tails in the shell, split lengthwise ; 1/2 cup fresh basil leaves ; Salt; Hot steamed rice, for serving; -----2 (14 ounce) cans coconut milk; 2 tablespoons red Thai curry paste; 1 tablespoon fish sauce; 1 fresh red chili pepper, seeded and minced; 24 large shrimp, peeled and deveined\n",
      "----------------------------------------------------------------------\n",
      " peeled  deveined  peeled deveined  shrimp peeled  coconut   fish  pounds   milk  large\n",
      "  0.045     0.036            0.033          0.026    0.022  0.017   0.016  0.016  0.015"
     ]
    },
    {
     "name": "stdout",
     "output_type": "stream",
     "text": [
      "\n",
      "======================================================================\n",
      "topic: 1\n",
      "documents:\n",
      "   Middle Eastern Turkey Dogs   0.628125\n",
      " Lamb Merguez Sausage Patties  0.6159091\n",
      " Lamb Merguez Sausage Patties  0.6159091\n",
      "1 teaspoon salt; 1/4 teaspoon fennel seeds; 1 teaspoon ground cumin; 1/2 teaspoon ground cinnamon; 1/2 teaspoon ground coriander; 1/4 teaspoon ground turmeric; 3 cloves garlic, peeled; 2 tablespoons harissa, or to taste (see Ingredient note); 1 tablespoon tomato paste; 1 pound lean ground lamb; 1 tablespoon olive oil-----1 teaspoon salt; 1/4 teaspoon fennel seeds; 1 teaspoon ground cumin; 1/2 teaspoon ground cinnamon; 1/2 teaspoon ground coriander; 1/4 teaspoon ground turmeric; 3 cloves garlic, peeled; 2 tablespoons harissa, or to taste (see Ingredient note); 1 tablespoon tomato paste; 1 pound lean ground lamb; 1 tablespoon olive oil-----1 teaspoon ground cumin; 1 teaspoon ground coriander seed; 1 teaspoon ground ginger; 1 teaspoon ground cinnamon; 1 teaspoon fresh ground black pepper ; 1/4 teaspoon kosher salt; 1 pound ground turkey\n",
      "----------------------------------------------------------------------\n",
      " teaspoons  cumin  ground cumin  powder  cinnamon  yogurt  plain  cloves  curry\n",
      "     0.033  0.028         0.022   0.019     0.019   0.018  0.017   0.016  0.015\n",
      "======================================================================\n",
      "topic: 2\n",
      "documents:\n",
      "                        Chicken Kabobs      0.542\n",
      " Classic Smoked Sausage \\u0026 Peppers  0.5196429\n",
      "               Chicken Kabobs Mexicana  0.5171875\n",
      "2 tablespoons olive oil; 1 teaspoon ground cumin; 2 tablespoons chopped fresh cilantro; 1 lime, juiced; salt and ground black pepper to taste; 2 skinless, boneless chicken breast halves - cut into 1 inch cubes; 1 small zucchini, cut into 1/2-inch slices; 1 onion, cut into wedges and separated; 1 red bell pepper, cut into 1 inch pieces; 10 cherry tomatoes-----1 (14 ounce) package Hillshire Farm® Smoked Sausage, diagonally cut into 1/4-inch slices; 2 tablespoons olive oil; 1 cup onion, cut into 1-inch pieces; 2 cups red and green peppers, cut into 1-inch pieces; 1/2 teaspoon dried oregano; 1/2 cup grated Parmesan cheese (optional)-----4 skinless, boneless chicken breast halves - cubed; 1 large green bell pepper, cut into 2 inch pieces; 1 onion, cut into wedges; 1 large red bell pepper, cut into 2 inch pieces; 1 cup barbeque sauce; skewers\n",
      "----------------------------------------------------------------------\n",
      "  inch  cut inch  strips  cubes  cut strips  inch cubes  large  slices    red\n",
      " 0.092     0.062   0.046  0.040       0.023       0.022  0.019   0.018  0.017\n",
      "======================================================================\n",
      "topic: 3\n",
      "documents:\n",
      "                   Tomatillo Salsa Verde  0.8405405\n",
      "                        Watermelon Sugar  0.8310345\n",
      " Charred Romaine with Tomatillo Dressing  0.8204545\n",
      "; 1/4 medium white onion, quartered; 1 small tomatillo, husk removed; 1 jalapeño, sliced, seeds removed; 1 garlic clove; 1/4 avocado, chopped; 1/4 cup chopped fresh cilantro leaves; 1/4 cup olive oil; 1 tablespoons fresh lime juice; Kosher salt; Freshly ground black pepper; -----; 1 jalapeño, halved lengthwise; 3/4 cup tequila blanco; 2 cups 3/4 cubes seedless watermelon; 6 tablespoons fresh lime juice; 6 tablespoons Simple Syrup; 1/4 cup mezcal or gold tequila; -----; 1 pound quartered rinsed husked tomatillos; 1/2 coarsely chopped medium onion; 1 smashed garlic clove; 1 coarsely chopped serrano chile (seeds removed if desired); 1/4 cup fresh cilantro leaves with tender stems; Salt; \n",
      "----------------------------------------------------------------------\n",
      " juice  cilantro  coarsely  peeled  lime juice  coarsely chopped  seeded  halved  ounces\n",
      " 0.024     0.020     0.019   0.017       0.017             0.016   0.015   0.015   0.014\n",
      "======================================================================\n",
      "topic: 4\n",
      "documents:\n",
      " Angry Bird Bar-B-Cue Chicken and Sausage  0.5836364\n",
      "                         Mushroom Sliders  0.5683333\n",
      "                         Mushroom Sliders  0.5516667\n",
      "1 pound lean ground beef, or more to taste; 1 large egg; 1 small onion, finely chopped; 1 cup finely chopped mushrooms; 1 teaspoon ground black pepper; 1/2 teaspoon garlic salt; salt to taste; 6 portobello mushrooms, or more to taste; 1 green bell pepper, halved and seeded; 1 red bell pepper, halved and seeded; 1 yellow bell pepper, halved and seeded-----1 pound lean ground beef, or more to taste; 1 large egg; 1 small onion, finely chopped; 1 cup finely chopped mushrooms; 1 teaspoon ground black pepper; 1/2 teaspoon garlic salt; salt to taste; 6 portobello mushrooms, or more to taste; 1 green bell pepper, halved and seeded; 1 red bell pepper, halved and seeded; 1 yellow bell pepper, halved and seeded-----1 pound andouille sausage, sliced; 1 red onion, chopped; 4 cloves garlic, minced; 1 red bell pepper, chopped; 1 green bell pepper, chopped; 1 yellow bell pepper, chopped; 1 (3 pound) rotisserie chicken, boned and shredded; 1 (20 ounce) bottle barbeque sauce; 1/4 cup water; 1 cup chopped fresh cilantro\n",
      "----------------------------------------------------------------------\n",
      " bell pepper  green  green bell    red  red bell  cup chopped  pepper chopped  chopped green  mushrooms\n",
      "       0.072  0.063       0.043  0.041     0.031        0.025           0.022          0.021      0.020"
     ]
    },
    {
     "name": "stdout",
     "output_type": "stream",
     "text": [
      "\n",
      "1 medium potato, peeled and diced; 1 small onion, diced; 1/2 cup chopped walnuts (optional); 1 cup oats; 2 cups water; 2 tablespoons vegetable oil; 1 cup bread crumbs; 2 teaspoons salt; 2 tablespoons soy sauce; 1 teaspoon dried sage; 1 tablespoon vegetable oil-----; 1/2 pound baking potatoes, such as russet or Idaho (about 2 small potatoes); 1/2 pound purple potatoes (about 4 small potatoes) ; 1/2 pound beets, peeled, and greens removed (about 2 small beets); 6 cups vegetable or canola oil; Kosher or sea salt; -----; 4 sweet or russet potatoes; \n",
      "----------------------------------------------------------------------\n",
      " potatoes  peeled  cooking  cubed  spray  cooking spray  cup diced  onion diced  large\n",
      "    0.040   0.033    0.033  0.029  0.027          0.027      0.020        0.019  0.017"
     ]
    },
    {
     "name": "stdout",
     "output_type": "stream",
     "text": [
      "======================================================================\n",
      "topic: 0\n",
      "documents:\n",
      "                                   Po-Tacos     0.5125\n",
      " Red, White, and Blue Potato and Beet Chips  0.4885714\n",
      "                     No Bean Veggie Burgers   0.472549"
     ]
    }
   ],
   "source": [
    "\n",
    "print('='*70)\n",
    "for t in range(m.n_topics):\n",
    "    print('topic: %s' % t)\n",
    "    print('documents:')\n",
    "    print pd.DataFrame([df.iloc[doc_ids[t,:]]['title'].values, doc_probs[t,:]]).T.sort(1, ascending=False).to_string(header=False, index=False)\n",
    "#    print('\\n'.join(df.iloc[doc_ids[t,:]]['title']))\n",
    "    print('-----'.join(df.iloc[doc_ids[t,:]]['ingredient_txt']))\n",
    "    print('-'*70)\n",
    "    print w[w['topic']==t][['word','prob']].sort('prob', ascending=False).T.to_string(index=False, header=False, float_format=lambda x: '% 4.3f' % x)\n",
    "    print('='*70)\n",
    "\n"
   ]
  },
  {
   "cell_type": "code",
   "execution_count": 759,
   "metadata": {
    "collapsed": true,
    "tags": [
     "worksheet-0"
    ]
   },
   "outputs": [],
   "source": []
  }
 ],
 "metadata": {},
 "nbformat": 4,
 "nbformat_minor": 0
}
