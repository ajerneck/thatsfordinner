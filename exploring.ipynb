{
 "cells": [
  {
   "cell_type": "markdown",
   "metadata": {
    "collapsed": true,
    "tags": [
     "worksheet-0"
    ]
   },
   "source": [
    "# Imports and configuration.\n"
   ]
  },
  {
   "cell_type": "code",
   "execution_count": 1,
   "metadata": {
    "collapsed": false,
    "tags": [
     "worksheet-0"
    ]
   },
   "outputs": [],
   "source": [
    "%matplotlib inline"
   ]
  },
  {
   "cell_type": "code",
   "execution_count": 2,
   "metadata": {
    "collapsed": false,
    "tags": [
     "worksheet-0"
    ]
   },
   "outputs": [],
   "source": [
    "import collections\n",
    "import lda\n",
    "import numpy as np\n",
    "import matplotlib\n",
    "import matplotlib.pyplot as plt\n",
    "import pandas as pd\n",
    "import psycopg2\n",
    "import seaborn as sns\n",
    "from sklearn.feature_extraction.text import CountVectorizer\n",
    "from sklearn.feature_extraction import text\n",
    "\n",
    "import common\n",
    "\n",
    "import functions as f\n",
    "\n"
   ]
  },
  {
   "cell_type": "code",
   "execution_count": 3,
   "metadata": {
    "collapsed": false,
    "tags": [
     "worksheet-0"
    ]
   },
   "outputs": [],
   "source": [
    "matplotlib.style.use('ggplot')"
   ]
  },
  {
   "cell_type": "markdown",
   "metadata": {
    "collapsed": true,
    "tags": [
     "worksheet-0"
    ]
   },
   "source": [
    "# Load data"
   ]
  },
  {
   "cell_type": "code",
   "execution_count": 7,
   "metadata": {
    "collapsed": false,
    "tags": [
     "worksheet-0"
    ]
   },
   "outputs": [
    {
     "name": "stdout",
     "output_type": "stream",
     "text": [
      "\n",
      "Loaded 16539 records in total\n"
     ]
    },
    {
     "name": "stdout",
     "output_type": "stream",
     "text": [
      "Loaded 4506 records from epicurious.com\n",
      "Loaded 12033 records from allrecipes.com"
     ]
    }
   ],
   "source": [
    "## TODO: fix unicode here.\n",
    "df = f.load_data()\n"
   ]
  },
  {
   "cell_type": "markdown",
   "metadata": {
    "collapsed": true,
    "tags": [
     "worksheet-0"
    ]
   },
   "source": [
    "## Examining and cleaning data"
   ]
  },
  {
   "cell_type": "code",
   "execution_count": 8,
   "metadata": {
    "collapsed": false,
    "tags": [
     "worksheet-0"
    ]
   },
   "outputs": [
    {
     "data": {
      "text/plain": [
       "<matplotlib.figure.Figure at 0x7f400a47b650>"
      ]
     },
     "metadata": {},
     "output_type": "display_data"
    },
    {
     "name": "stdout",
     "output_type": "stream",
     "text": [
      "count    16526.000000\n",
      "mean       296.671366\n",
      "std        127.103774\n",
      "min         23.000000\n",
      "25%        206.000000\n",
      "50%        280.000000\n",
      "75%        371.000000\n",
      "max       1087.000000\n",
      "Name: ingredient_txt, dtype: float64\n"
     ]
    }
   ],
   "source": [
    "df = df[df['ingredient_txt'].str.len() > 20]\n",
    "print df['ingredient_txt'].str.len().describe()\n",
    "plt.figure()\n",
    "df['ingredient_txt'].str.len().plot(kind='hist').set_title('Ingredients character count')\n",
    "plt.savefig('character-counts.png')\n",
    "df = df.reset_index()\n",
    "\n",
    "\n"
   ]
  },
  {
   "cell_type": "code",
   "execution_count": 9,
   "metadata": {
    "collapsed": false,
    "tags": [
     "worksheet-0"
    ]
   },
   "outputs": [],
   "source": [
    "## clean up quoting.\n",
    "pattern = \"[\\\"\\']\"\n",
    "for k in ['title', 'ingredient_txt', 'url', 'image']:\n",
    "    df[k] = df[k].str.replace(pattern, '')\n",
    "\n",
    "## formatting ingredients.\n",
    "df['ingredient_txt'] = df['ingredient_txt'].str.replace('\\n',' ')\n"
   ]
  },
  {
   "cell_type": "code",
   "execution_count": 592,
   "metadata": {
    "collapsed": false,
    "tags": [
     "worksheet-0"
    ]
   },
   "outputs": [],
   "source": [
    "\n"
   ]
  },
  {
   "cell_type": "code",
   "execution_count": 10,
   "metadata": {
    "collapsed": false,
    "tags": [
     "worksheet-0"
    ]
   },
   "outputs": [],
   "source": [
    "def rm_stopwords(stopwords, x):\n",
    "    return ' '.join([w for w in x.split() if w.strip() not in stopwords])\n",
    "\n"
   ]
  },
  {
   "cell_type": "code",
   "execution_count": 11,
   "metadata": {
    "collapsed": false,
    "tags": [
     "worksheet-0"
    ]
   },
   "outputs": [],
   "source": [
    "## replace punctuation to improve tokenizing and stop word filtering.\n",
    "df['ingredient_txt_no_stopwords'] = df['ingredient_txt'].str.replace('[\\W]', ' ')\n",
    "df['ingredient_txt_no_stopwords'] = map(lambda x: rm_stopwords(f.get_stop_words(), x), df['ingredient_txt_no_stopwords'])\n",
    "\n"
   ]
  },
  {
   "cell_type": "code",
   "execution_count": 12,
   "metadata": {
    "collapsed": false,
    "tags": [
     "worksheet-0"
    ]
   },
   "outputs": [],
   "source": [
    "# Extract features\n",
    "# TODO: remove stopwords before vectorizing, because the stop words don't capture bigrams.\n",
    "\n",
    "vectorizer = CountVectorizer(\n",
    "stop_words='english'\n",
    ", ngram_range=(1, 2)\n",
    ", token_pattern='[A-Za-z]+'\n",
    ", min_df = 10\n",
    ", max_df = 0.25\n",
    ")\n",
    "\n",
    "features = vectorizer.fit_transform(df.ingredient_txt_no_stopwords)\n",
    "## features is a document x term matrix.\n",
    "\n",
    "wc = f.feature_counts(vectorizer, features)\n",
    "\n",
    "\n"
   ]
  },
  {
   "cell_type": "code",
   "execution_count": 13,
   "metadata": {
    "collapsed": false,
    "tags": [
     "worksheet-0"
    ]
   },
   "outputs": [
    {
     "data": {
      "text/plain": [
       "<matplotlib.figure.Figure at 0x7f400a138510>"
      ]
     },
     "metadata": {},
     "output_type": "display_data"
    }
   ],
   "source": [
    "wc.sort('count').tail(25).plot('word','count', kind='bar')\n",
    "plt.savefig('word-counts.png')\n"
   ]
  },
  {
   "cell_type": "code",
   "execution_count": 14,
   "metadata": {
    "collapsed": false,
    "tags": [
     "worksheet-0"
    ]
   },
   "outputs": [
    {
     "name": "stdout",
     "output_type": "stream",
     "text": [
      "Finished running model\n"
     ]
    },
    {
     "name": "stderr",
     "output_type": "stream",
     "text": [
      "WARNING:lda:all zero row in document-term matrix found\n"
     ]
    }
   ],
   "source": [
    "m = lda.LDA(n_topics=40, random_state=0, n_iter=200)\n",
    "m.fit(features)\n",
    "print('Finished running model')\n"
   ]
  },
  {
   "cell_type": "code",
   "execution_count": 38,
   "metadata": {
    "collapsed": false,
    "tags": [
     "worksheet-0"
    ]
   },
   "outputs": [
    {
     "name": "stdout",
     "output_type": "stream",
     "text": [
      "\n"
     ]
    },
    {
     "name": "stderr",
     "output_type": "stream",
     "text": [
      "WARNING:lda:all zero row in document-term matrix found\n"
     ]
    },
    {
     "name": "stdout",
     "output_type": "stream",
     "text": [
      "\n",
      "95"
     ]
    },
    {
     "name": "stderr",
     "output_type": "stream",
     "text": [
      "WARNING:lda:all zero row in document-term matrix found\n"
     ]
    },
    {
     "name": "stdout",
     "output_type": "stream",
     "text": [
      "\n",
      "90"
     ]
    },
    {
     "name": "stderr",
     "output_type": "stream",
     "text": [
      "WARNING:lda:all zero row in document-term matrix found\n"
     ]
    },
    {
     "name": "stdout",
     "output_type": "stream",
     "text": [
      "\n",
      "85"
     ]
    },
    {
     "name": "stderr",
     "output_type": "stream",
     "text": [
      "WARNING:lda:all zero row in document-term matrix found\n"
     ]
    },
    {
     "name": "stdout",
     "output_type": "stream",
     "text": [
      "\n",
      "80"
     ]
    },
    {
     "name": "stderr",
     "output_type": "stream",
     "text": [
      "WARNING:lda:all zero row in document-term matrix found\n"
     ]
    },
    {
     "name": "stdout",
     "output_type": "stream",
     "text": [
      "\n",
      "75"
     ]
    },
    {
     "name": "stderr",
     "output_type": "stream",
     "text": [
      "WARNING:lda:all zero row in document-term matrix found\n"
     ]
    },
    {
     "name": "stdout",
     "output_type": "stream",
     "text": [
      "\n",
      "70"
     ]
    },
    {
     "name": "stderr",
     "output_type": "stream",
     "text": [
      "WARNING:lda:all zero row in document-term matrix found\n"
     ]
    },
    {
     "name": "stdout",
     "output_type": "stream",
     "text": [
      "\n",
      "65"
     ]
    },
    {
     "name": "stderr",
     "output_type": "stream",
     "text": [
      "WARNING:lda:all zero row in document-term matrix found\n"
     ]
    },
    {
     "name": "stdout",
     "output_type": "stream",
     "text": [
      "\n",
      "60"
     ]
    },
    {
     "name": "stderr",
     "output_type": "stream",
     "text": [
      "WARNING:lda:all zero row in document-term matrix found\n"
     ]
    },
    {
     "name": "stdout",
     "output_type": "stream",
     "text": [
      "\n",
      "55"
     ]
    },
    {
     "name": "stderr",
     "output_type": "stream",
     "text": [
      "WARNING:lda:all zero row in document-term matrix found\n"
     ]
    },
    {
     "name": "stdout",
     "output_type": "stream",
     "text": [
      "\n",
      "50"
     ]
    },
    {
     "name": "stderr",
     "output_type": "stream",
     "text": [
      "WARNING:lda:all zero row in document-term matrix found\n"
     ]
    },
    {
     "name": "stdout",
     "output_type": "stream",
     "text": [
      "\n",
      "45"
     ]
    },
    {
     "name": "stderr",
     "output_type": "stream",
     "text": [
      "WARNING:lda:all zero row in document-term matrix found\n"
     ]
    },
    {
     "name": "stdout",
     "output_type": "stream",
     "text": [
      "\n",
      "40"
     ]
    },
    {
     "name": "stderr",
     "output_type": "stream",
     "text": [
      "WARNING:lda:all zero row in document-term matrix found\n"
     ]
    },
    {
     "name": "stdout",
     "output_type": "stream",
     "text": [
      "\n",
      "35"
     ]
    },
    {
     "name": "stderr",
     "output_type": "stream",
     "text": [
      "WARNING:lda:all zero row in document-term matrix found\n"
     ]
    },
    {
     "name": "stdout",
     "output_type": "stream",
     "text": [
      "\n",
      "30"
     ]
    },
    {
     "name": "stderr",
     "output_type": "stream",
     "text": [
      "WARNING:lda:all zero row in document-term matrix found\n"
     ]
    },
    {
     "name": "stdout",
     "output_type": "stream",
     "text": [
      "\n",
      "25"
     ]
    },
    {
     "name": "stderr",
     "output_type": "stream",
     "text": [
      "WARNING:lda:all zero row in document-term matrix found\n"
     ]
    },
    {
     "name": "stdout",
     "output_type": "stream",
     "text": [
      "\n",
      "20"
     ]
    },
    {
     "name": "stderr",
     "output_type": "stream",
     "text": [
      "WARNING:lda:all zero row in document-term matrix found\n"
     ]
    },
    {
     "name": "stdout",
     "output_type": "stream",
     "text": [
      "\n",
      "15"
     ]
    },
    {
     "name": "stderr",
     "output_type": "stream",
     "text": [
      "WARNING:lda:all zero row in document-term matrix found\n"
     ]
    },
    {
     "name": "stdout",
     "output_type": "stream",
     "text": [
      "5\n",
      "10"
     ]
    },
    {
     "name": "stderr",
     "output_type": "stream",
     "text": [
      "WARNING:lda:all zero row in document-term matrix found\n"
     ]
    }
   ],
   "source": [
    "## select best number of topics using loglikelihood.\n",
    "ll = {}\n",
    "for k in range(5, 200, 5):\n",
    "    print k\n",
    "    mk  = lda.LDA(n_topics=k, random_state=0, n_iter=400)\n",
    "    mk.fit(features)\n",
    "    ll[k] = mk.loglikelihood()\n",
    "\n"
   ]
  },
  {
   "cell_type": "code",
   "execution_count": 95,
   "metadata": {
    "collapsed": false,
    "tags": [
     "worksheet-0"
    ]
   },
   "outputs": [
    {
     "data": {
      "text/plain": [
       "<matplotlib.figure.Figure at 0x7f4008b10750>"
      ]
     },
     "metadata": {},
     "output_type": "display_data"
    },
    {
     "data": {
      "text/plain": [
       "[<matplotlib.lines.Line2D at 0x7f40084eb8d0>]"
      ]
     },
     "execution_count": 95,
     "metadata": {},
     "output_type": "execute_result"
    }
   ],
   "source": [
    "\n",
    "ks = sorted(ll.keys())\n",
    "vs = [ll[k] for k in ks]\n",
    "plt.plot(ks, vs)\n"
   ]
  },
  {
   "cell_type": "markdown",
   "metadata": {
    "collapsed": true,
    "tags": [
     "worksheet-0"
    ]
   },
   "source": [
    "# Evaluating the model.\n",
    "## Convergence"
   ]
  },
  {
   "cell_type": "code",
   "execution_count": 15,
   "metadata": {
    "collapsed": false,
    "tags": [
     "worksheet-0"
    ]
   },
   "outputs": [
    {
     "data": {
      "text/plain": [
       "<matplotlib.figure.Figure at 0x7f4008be4490>"
      ]
     },
     "metadata": {},
     "output_type": "display_data"
    }
   ],
   "source": [
    "p = plt.figure()\n",
    "plt.plot(m.loglikelihoods_, '-')\n",
    "plt.title('Loglikelihood')\n",
    "p.savefig('loglikelihood.png')\n"
   ]
  },
  {
   "cell_type": "code",
   "execution_count": 15,
   "metadata": {
    "collapsed": false,
    "tags": [
     "worksheet-0"
    ]
   },
   "outputs": [
    {
     "name": "stderr",
     "output_type": "stream",
     "text": [
      "WARNING:lda:all zero row in document-term matrix found\n"
     ]
    },
    {
     "name": "stderr",
     "output_type": "stream",
     "text": [
      "WARNING:lda:all zero column in document-term matrix found\n"
     ]
    },
    {
     "name": "stdout",
     "output_type": "stream",
     "text": [
      "running model on sample 0...\n",
      "running model on sample 1..."
     ]
    },
    {
     "name": "stderr",
     "output_type": "stream",
     "text": [
      "WARNING:lda:all zero row in document-term matrix found\n"
     ]
    },
    {
     "name": "stdout",
     "output_type": "stream",
     "text": [
      "\n",
      "Finished running models"
     ]
    },
    {
     "name": "stdout",
     "output_type": "stream",
     "text": [
      "\n"
     ]
    }
   ],
   "source": [
    "## assessing convergence.\n",
    "n = features.shape[0]\n",
    "size = int(n * 0.8)\n",
    "\n",
    "i0 = np.random.random_integers(0, n, size)\n",
    "i1 = np.random.random_integers(0, n, size)\n",
    "\n",
    "f0 = features[i0, :]\n",
    "f1 = features[i1, :]\n",
    "\n",
    "print('running model on sample 0...')\n",
    "m0 = lda.LDA(n_topics=40, random_state=0, n_iter=100)\n",
    "m0.fit(f0)\n",
    "\n",
    "print('running model on sample 1...')\n",
    "m1 = lda.LDA(n_topics=40, random_state=0, n_iter=100)\n",
    "m1.fit(f1)\n",
    "\n",
    "print('Finished running models')\n"
   ]
  },
  {
   "cell_type": "code",
   "execution_count": 16,
   "metadata": {
    "collapsed": false,
    "tags": [
     "worksheet-0"
    ]
   },
   "outputs": [],
   "source": [
    "a0 = zip(i0, np.argmax(m0.doc_topic_, axis=1))\n",
    "a1 = zip(i1, np.argmax(m0.doc_topic_, axis=1))\n",
    "\n",
    "## make \n",
    "\n",
    "t0 = collections.defaultdict(set)\n",
    "for doc, topic in a0:\n",
    "    t0[topic].add(doc)\n",
    "\n",
    "t1 = collections.defaultdict(set)\n",
    "for doc, topic in a1:\n",
    "    t1[topic].add(doc)\n"
   ]
  },
  {
   "cell_type": "code",
   "execution_count": 17,
   "metadata": {
    "collapsed": false,
    "tags": [
     "worksheet-0"
    ]
   },
   "outputs": [],
   "source": [
    "## filter out elements not in both sets.\n",
    "canon = set(i0).union(set(i1))\n",
    "for k,v in t0.iteritems():\n",
    "    t0[k] = t0[k].intersection(canon)\n",
    "for k,v in t1.iteritems():\n",
    "    t1[k] = t1[k].intersection(canon)\n",
    "\n",
    "## compare set assignments.\n"
   ]
  },
  {
   "cell_type": "code",
   "execution_count": 18,
   "metadata": {
    "collapsed": false,
    "tags": [
     "worksheet-0"
    ]
   },
   "outputs": [],
   "source": [
    "def diff(t0, t1):\n",
    "    \"\"\"Calculate set membership differences as a stability measure.\n",
    "    \"\"\"\n",
    "\n",
    "\n",
    "    diff = 0\n",
    "    for k0, x0 in t0.iteritems():\n",
    "        # print 'topic:', k0\n",
    "        d = [len(x0.difference(x1))/float(len(x0.union(x1))) for x1 in t1.values()]\n",
    "        # print 'differences:', d\n",
    "        # print 'min diff:', min(d)\n",
    "        # print 'current diff', diff\n",
    "        diff += min(d)\n",
    "    return diff"
   ]
  },
  {
   "cell_type": "code",
   "execution_count": 19,
   "metadata": {
    "collapsed": false,
    "tags": [
     "worksheet-0"
    ]
   },
   "outputs": [
    {
     "name": "stdout",
     "output_type": "stream",
     "text": [
      "8.73957410405\n"
     ]
    }
   ],
   "source": [
    "print diff(t0, t1)"
   ]
  },
  {
   "cell_type": "markdown",
   "metadata": {
    "collapsed": true,
    "tags": [
     "worksheet-0"
    ]
   },
   "source": [
    "# Assessing topics"
   ]
  },
  {
   "cell_type": "code",
   "execution_count": 16,
   "metadata": {
    "collapsed": false,
    "tags": [
     "worksheet-0"
    ]
   },
   "outputs": [],
   "source": [
    "## Extracting topic data.\n",
    "## most probable words by topic.\n",
    "## TODO: check if these are properly sorted within each topic.\n",
    "w = f.most_probable_words(m, vectorizer.get_feature_names(), 10)\n",
    "w.columns = ['rank','topic','word','prob']\n",
    "\n",
    "## most probable documents by topic.\n",
    "# np.apply_along_axis(lambda i: df.iloc[i]['title'], 1, doc_ids)\n",
    "doc_ids = np.argsort(m.doc_topic_, axis=0)[-4:-1,:].T\n",
    "doc_probs = np.sort(m.doc_topic_, axis=0)[-4:-1,:].T\n"
   ]
  },
  {
   "cell_type": "code",
   "execution_count": 986,
   "metadata": {
    "collapsed": false,
    "tags": [
     "worksheet-0"
    ]
   },
   "outputs": [
    {
     "name": "stdout",
     "output_type": "stream",
     "text": [
      "\n",
      "======================================================================\n",
      "topic: 39\n",
      "documents:\n",
      " Slow Cooker German-Style Pork Roast with Sauer...      0.655\n",
      "                        Molasses Brined Pork Chops    0.63125\n",
      "               Herbed Pork Chops with Homemade Rub  0.6130435\n",
      "1 3 parsley 1 4 marjoram 1 4 thyme 3 rubbed sage 2 2 onion 1 1 cinnamon 4 boneless pork loin chops 2 vegetable 1 canola-----1 2 kosher 1 2 molasses 4 1 boiling 7 cold 4 2 1 4 center bone pork chops 1 2 vegetable-----6 potatoes 1 1 3 boneless pork loin roast 1 32 jar sauerkraut liquid 2 caraway seeds\n",
      "----------------------------------------------------------------------\n",
      " chops  pork chops  boneless  boneless pork   loin  roast  pork loin  vegetable  tenderloin\n",
      " 0.069       0.053     0.052          0.046  0.035  0.033      0.031      0.022       0.022\n",
      "======================================================================\n"
     ]
    },
    {
     "name": "stdout",
     "output_type": "stream",
     "text": [
      "\n",
      "======================================================================\n",
      "topic: 35\n",
      "documents:\n",
      "            Slow Cooker Lasagna II  0.8818182\n",
      "               Slow Cooker Lasagna  0.8741935\n",
      " Carol\\u0027s Baked Ziti Casserole  0.8607143\n",
      "1 16 package ziti pasta 1 egg 1 15 container ricotta cheese 1 4 Parmesan cheese 1 28 jar meatless spaghetti sauce 2 skim mozzarella cheese 1 4 Parmesan cheese-----1 lean beef 1 onion 2 1 29 tomato sauce 1 6 tomato paste 1 1 2 1 oregano 1 12 package lasagna noodles 12 cottage cheese 1 2 Parmesan cheese 16 mozzarella cheese-----1 16 package lasagna noodles 1 lean beef 1 1 2 26 jars spaghetti sauce 2 mozzarella cheese 1 2 Parmesan cheese 1 8 container ricotta cheese 2 eggs 2 mozzarella cheese\n",
      "----------------------------------------------------------------------\n",
      " mozzarella cheese  parmesan  parmesan cheese  tomato  package  basil  spaghetti  pasta  oregano\n",
      "             0.049     0.044            0.040   0.034    0.030  0.026      0.022  0.022    0.020\n",
      "======================================================================\n",
      "topic: 36\n",
      "documents:\n",
      "                   Cherry Tomato Vinaigrette  0.7833333\n",
      " Cherry Tomatoes Stuffed with Marinated Feta  0.7730769\n",
      "                      Pan Bagnat with Fennel  0.7705882\n",
      "1 2 fennel bulb 1 2 pitted olives 1 4 3 wine vinegar 2 capers 1 2 flakes Kosher-----1 7 8 package feta cheese 1 2 2 extra virgin additional drizzling 1 shallot 1 2 oregano 1 cherry tomatoes 12 pitted Kalamata olives-----1 pint cherry tomatoes 3 1 shallot 1 wine vinegar Kosher 2 chives\n",
      "----------------------------------------------------------------------\n",
      " virgin  extra virgin  vinegar  balsamic  balsamic vinegar   wine  kosher  wine vinegar  tomatoes\n",
      "  0.077         0.077    0.048     0.025             0.024  0.023   0.020         0.019     0.018\n",
      "======================================================================\n",
      "topic: 37\n",
      "documents:\n",
      "                   Teeny-Weeny Coxinha  0.5695652\n",
      "          Romano Risotto with Radishes      0.564\n",
      " Sweet Potato Risotto from Reynolds(R)     0.5525\n",
      "1 purpose flour 1 1 2 uncooked Arborio rice 1 8 sweet potato 1 2 onion 2 butter softened 2 snipped thyme 2 1 4 3 reduced sodium chicken broth 1 2 wine reduced sodium chicken broth 1 4 Parmesan cheese-----6 reduced sodium chicken broth 48 fl 2 hot 3 4 unsalted butter 1 onion 1 3 1 Arborio rice 2 1 2 2 3 wine 1 2 Pecorino Romano-----1 quart vegetable frying 3 1 2 low sodium chicken broth 1 onion 1 carrot 1 celery rib\n",
      "----------------------------------------------------------------------\n",
      " broth  chicken broth  celery    low  sodium  stock  stalks  low sodium  chicken stock\n",
      " 0.102          0.079   0.057  0.028   0.026  0.026   0.025       0.022          0.019\n",
      "======================================================================\n",
      "topic: 38\n",
      "documents:\n",
      " Chinese Steamed White Fish Fillet with Tofu (C...  0.7864865\n",
      "                            Brandi\\u0027s Won Tons  0.7742857\n",
      "                           Chinese Pork Tenderloin       0.77\n",
      "2 1 1 2 pork tenderloins 2 light soy sauce 2 hoisin sauce 1 sherry 1 bean sauce 1 1 2 ginger root 1 1 2 brown sugar 1 1 2 sesame 1 Chinese spice-----2 napa cabbage 1 2 pork 2 soy sauce 1 sherry 2 cornstarch 1 1 2 ginger root 1 green onion 36 wonton wrappers 1 egg 1 4 soy sauce 1 4 seasoned rice vinegar 2 ginger-----1 Thai chile 2 1 1 2 ginger 1 bean sauce 2 dark soy sauce 2 soy sauce 1 vegetable 1 sugar 1 1 cornstarch 1 cold 3 4 fish fillets 1 16 package tofu cubed 1 green onion\n",
      "----------------------------------------------------------------------\n",
      " soy sauce  ginger  green  vegetable  sugar  cornstarch  onions   root  sesame\n",
      "     0.080   0.037  0.028      0.024  0.024       0.023   0.021  0.019   0.019"
     ]
    },
    {
     "name": "stdout",
     "output_type": "stream",
     "text": [
      "\n",
      "======================================================================\n",
      "topic: 31\n",
      "documents:\n",
      " Southern Barbeque Pulled Beef Sandwiches  0.7594595\n",
      "          Anyone Can Make BBQ Pulled Pork   0.730303\n",
      "    Loose Meat on a Bun, Restaurant Style  0.6894737\n",
      "3 beef 1 4 onion 3 Worcestershire sauce 4 beef broth 1 1 2 butter 12 hamburger buns split-----1 5 pork shoulder roast 5 2 strong brewed coffee 1 onion 2 Worcestershire sauce 2 liquid smoke flavoring 1 flakes 1 16 bottle barbeque sauce 12 sandwich buns split toasted-----cooking spray 1 2 beef broth 1 liquid smoke flavoring 1 1 4 boneless beef chuck roast 3 barbeque seasoning Grill Mates Smokehouse Maple 2 Worcestershire sauce 2 barbeque sauce 8 Kaiser rolls split\n",
      "----------------------------------------------------------------------\n",
      " split  roast   buns  barbeque  barbeque sauce  hamburger  chuck  hamburger buns  sirloin\n",
      " 0.033  0.031  0.027     0.024           0.023      0.023  0.021           0.021    0.019\n",
      "======================================================================\n",
      "topic: 32\n",
      "documents:\n",
      "             Spinach and Feta Turkey Burgers  0.7117647\n",
      "                               Spinach Puffs       0.67\n",
      " Polish Noodles (Cottage Cheese and Noodles)  0.6238095\n",
      "1 2 butter 1 onion 1 16 package egg noodles 1 16 package cottage cheese 1 2 sour cream 1 2 sea 1 4-----1 10 package frozen spinach thawed 1 2 feta 1 4 onion 1 1 dill 1 Kosher 2 eggs 1 sheet frozen puff pastry 17 3 package thawed rolled 12 square kept chilled-----2 eggs 2 4 feta cheese 1 10 box frozen spinach thawed squeezed 2 turkey\n",
      "----------------------------------------------------------------------\n",
      " frozen  thawed  package frozen    egg  spinach  cream cheese  cream  softened  frozen spinach\n",
      "  0.087   0.059           0.046  0.029    0.029         0.027  0.027     0.021           0.020\n",
      "======================================================================\n",
      "topic: 33\n",
      "documents:\n",
      "    How to Make Coquilles Saint-Jacques   0.5552632\n",
      " Chef John\\u0027s Creamy Mushroom Pasta   0.5366667\n",
      "              Wild Salmon Buckwheat Skin    0.50625\n",
      "35 grams isomalt 200 grams buckwheat 14 grams sea lettuce 3 grams vegetable ash 35 grams trisol 5 grams kosher 5 10 grams Pain Mie-----2 3 4 mushrooms 1 4 shiitake mushrooms 2 2 fluid sherry 1 chicken stock 1 heavy whipping cream 8 fettuccine pasta 1 1 2 thyme 1 1 2 chives 1 1 2 tarragon 9 Parmigiano Reggiano cheese-----2 unsalted butter 1 2 shallots 1 2 button mushrooms 1 wine 1 sea scallops 1 2 heavy whipping cream 1 egg yolk 1 cayenne 2 tarragon 1 lemon zest 4 oven safe scallop shells 1 4 Gruyere cheese 1 paprika 8 tarragon\n",
      "----------------------------------------------------------------------\n",
      " heavy  heavy cream  mushrooms   wine  whipping  whipping cream  grams  heavy whipping  unsalted\n",
      " 0.095        0.072      0.040  0.034     0.026           0.026  0.025           0.022     0.018\n",
      "======================================================================\n",
      "topic: 34\n",
      "documents:\n",
      "       Roasted Baby Eggplant, Tomato, and Zucchini   0.74\n",
      "                                  Breakfast Pizzas  0.575\n",
      " Pancetta-Wrapped Dates Stuffed with Manchego C...  0.555\n",
      "20 Medjool dates 20 mint 1 3 Manchego cheese 1 1 2 x 1 4 x 1 4 strips 4 3 packages pancetta Italian bacon-----1 2 batch Basic Brioche dough 1 2 120 cr fra che 12 applewood smoked bacon cooked oven barely crisp 1 240 Caramelized Onions 8 eggs 2 225 skim mozzarella cheese-----4 purple eggplants 1 1 2 1 5 Roma plum tomatoes 1 1 2 2 zucchini 1 1 2 1 yellow onion 1 1 2 5 2\n",
      "----------------------------------------------------------------------\n",
      " tomatoes   plum   baby  plum tomatoes  spinach   salt  yellow  zucchini   roma\n",
      "    0.029  0.029  0.024          0.022    0.022  0.021   0.021     0.019  0.018"
     ]
    },
    {
     "name": "stdout",
     "output_type": "stream",
     "text": [
      "\n",
      "======================================================================\n",
      "topic: 27\n",
      "documents:\n",
      "           Nutty Shamrock Shake  0.7958333\n",
      "                 g\\u0027Oatmeal  0.7909091\n",
      " Mediterranean Breakfast Quinoa  0.7833333\n",
      "1 4 raw almonds 1 cinnamon 1 quinoa 2 milk 1 sea 1 vanilla extract 2 honey 2 pitted dates 5 apricots-----3 rolled oats 2 Irish steel oats 5 ripe bananas mashed 1 2 flax seeds 1 2 1 4 peanut butter 1 4 pitted dates optional 1 4 pecans optional 1 4 chia seeds 2 coconut 1 1 2 vanilla extract 1 2 1 3 honey-----1 1 2 pistachio ice cream 1 milk 1 2 almond extract 5 drops green food coloring Whipped cream optional 1 pistachios\n",
      "----------------------------------------------------------------------\n",
      "   egg  almonds  vanilla   milk  yolks  cinnamon  egg yolks  pitted    raw\n",
      " 0.031    0.027    0.026  0.018  0.016     0.016      0.015   0.015  0.015\n",
      "======================================================================\n",
      "topic: 28\n",
      "documents:\n",
      "                Mom-Mom\\u0027s Pepper Steak  0.6241379\n",
      " Stuffed Peppers with Turkey and Vegetables   0.596875\n",
      "                            Cajun Chow Mein  0.5962963\n",
      "1 lean beef 1 2 1 onion 1 green bell 1 14 5 tomatoes 1 15 dark kidney beans undrained 1 converted long grain rice 1 1 1 2 chili-----4 green bell peppers tops 1 turkey 2 1 2 onion 1 mushrooms 1 zucchini 1 2 bell 1 2 yellow bell 1 spinach 1 14 5 tomatoes 1 tomato paste Italian seasoning-----2 vegetable 2 green bell peppers strips 2 bell peppers strips 1 1 2 round steak strips 1 onion 1 tomatoes 1 2 3 1 2 sugar\n",
      "----------------------------------------------------------------------\n",
      " green  green bell  tomatoes  beans  peppers  onion green  yellow  bell peppers  strips\n",
      " 0.092       0.074     0.030  0.030    0.029        0.029   0.024         0.023   0.021\n",
      "======================================================================\n",
      "topic: 29\n",
      "documents:\n",
      "              Hot Vanilla Chai  0.7366667\n",
      " Fantastic Lemon Butter Fillet  0.7214286\n",
      "    Garlic Lemon Butter Salmon  0.7214286\n",
      "1 2 butter 1 lemon juiced 1 1 1 2 parsley 3 6 4 fillets cod 2 lemon-----1 2 1 lemon juiced 1 2 butter 16 2 2 1 salmon fillets 1 2 butter 8 1 1 lemon 8-----1 packet No Sugar Added Classic French Vanilla Flavor CARNATION BREAKFAST ESSENTIALS Complete Nutritional Drink 1 chai tea bag\n",
      "----------------------------------------------------------------------\n",
      " lemon  salmon  juiced   dill  yogurt  greek  lemon juiced  salmon fillets  fillet\n",
      " 0.053   0.053   0.042  0.035   0.029  0.027         0.024           0.019   0.016\n",
      "======================================================================\n",
      "topic: 30\n",
      "documents:\n",
      "                Grilled Ham  0.6166667\n",
      "              Apple Pie Ham     0.5875\n",
      " Baked Ham with Maple Glaze  0.5695652\n",
      "1 5 fully cooked bone ham 1 4 maple syrup 1 wine vinegar 2 Dijon mustard 1 mustard-----1 4 fully cooked bone ham 1 20 apple pie filling 1 prepared yellow mustard 2 barbeque sauce 2 honey-----1 brown sugar 1 4 yellow mustard 9 fully cooked bone ham\n",
      "----------------------------------------------------------------------\n",
      " dijon  dijon mustard  prepared  yellow    ham  honey  yellow mustard  prepared mustard  cooked\n",
      " 0.071          0.065     0.064   0.044  0.026  0.024           0.023             0.018   0.018"
     ]
    },
    {
     "name": "stdout",
     "output_type": "stream",
     "text": [
      "\n",
      "======================================================================\n",
      "topic: 25\n",
      "documents:\n",
      " Lamb Shank Braised in White Wine with Rosemary      0.675\n",
      "                               Forager Sandwich  0.6733333\n",
      "                                 Parmesan Broth  0.6368421\n",
      "1 head 1 onion saut onion 1 handful thyme Sprigs parsley 1 bay leaf 1 shake peppercorns 1 wine 1 Parmesan rinds 8-----1 2 shallot 1 sprig thyme 4 king trumpet mushrooms 2 1 4 scored 1 4 1 4 wine vinegar 1 1 2 kosher-----3 4 lamb shanks 5 1 onion 2 rosemary sprigs 1 1 wine\n",
      "----------------------------------------------------------------------\n",
      " rosemary    bay  sprigs   wine   leaf  bay leaf  kosher  parsley  vinegar\n",
      "    0.059  0.053   0.047  0.042  0.030     0.029   0.022    0.021    0.018\n",
      "======================================================================\n",
      "topic: 26\n",
      "documents:\n",
      " Honey Glazed Stuffed Chicken  0.6529412\n",
      "           Easy Chicken Curry  0.6529412\n",
      "   A Good Easy Garlic Chicken    0.63125\n",
      "3 butter 4 skinless boneless chicken breast halves 2 1 seasoning 1 onion-----4 skinless boneless chicken breast halves 4 Boursin cheese herbs 8 bacon toothpicks 1 2 honey-----6 skinless boneless chicken breast halves strips 1 4 2 onions 1 3 curry\n",
      "----------------------------------------------------------------------\n",
      " breast  boneless  chicken breast  skinless  boneless chicken  skinless boneless  halves  breast halves  vegetable\n",
      "  0.099     0.097           0.095     0.095             0.091              0.090   0.084          0.080      0.007"
     ]
    },
    {
     "name": "stdout",
     "output_type": "stream",
     "text": [
      "\n",
      "======================================================================\n",
      "topic: 21\n",
      "documents:\n",
      " Caramel-Layered Dark Chocolate Brownies  0.8957447\n",
      "        Chocolate-Peanut Butter Fun Cake  0.8885714\n",
      "                   Homemade Marshmallows  0.8852941\n",
      "Vegetable brushing pan About 1 confectioners sugar coating pan marshmallows 3 1 4 envelopes powdered unflavored gelatin 1 1 2 granulated sugar 1 light corn syrup 1 4 2 pure vanilla extract-----Nonstick vegetable spray 1 1 4 purpose flour 1 sugar 3 4 natural unsweetened cocoa 1 1 2 kosher 1 baking soda 1 4 vegetable 1 vanilla extract 1 2 semisweet bittersweet chocolate 3 1 2-----Nonstick baking spray 5 unsweetened chocolate 2 bittersweet chocolate 12 6 1 1 2 sticks unsalted butter 2 eggs 1 egg yolk 3 4 5 superfine sugar 3 4 4 1 2 firmly light brown sugar 1 pure vanilla extract 3 4 3 1 4 purpose flour 3 natural cocoa 1 4 kosher grained sea\n",
      "----------------------------------------------------------------------\n",
      " unsalted  flour  unsalted butter  baking  purpose  purpose flour   eggs  vanilla  vanilla extract\n",
      "    0.043  0.041            0.040   0.031    0.025          0.024  0.020    0.018            0.017\n",
      "======================================================================\n",
      "topic: 22\n",
      "documents:\n",
      "                      Sesame Seared Tuna  0.8419355\n",
      "       Miso, Carrot, and Sesame Dressing     0.8375\n",
      " Sea Bean Salad with Daikon and Cucumber  0.8033333\n",
      "2 cucumbers 1 1 2 1 daikon radish 4 scallions 1 2 sea beans ends 3 rice wine vinegar 2 canola 2 toasted sesame 2 tamari 2 sesame seeds 2 sesame seeds 1 sugar 2 shiso-----1 2 miso 6 vegetable 1 4 carrot 2 ginger 2 unseasoned rice vinegar 4 toasted sesame seeds 2 toasted sesame 2 honey-----1 4 soy sauce 1 mirin Japanese sweet wine 1 honey 2 sesame 1 rice wine vinegar 4 6 tuna steaks 1 2 sesame seeds wasabi paste 1\n",
      "----------------------------------------------------------------------\n",
      " sesame  kosher  vinegar   rice  toasted  sesame seeds  sugar  toasted sesame    soy\n",
      "  0.043   0.033    0.030  0.029    0.026         0.026  0.021           0.017  0.017\n",
      "======================================================================\n",
      "topic: 23\n",
      "documents:\n",
      "                    Good and Easy Sloppy Joes    0.75625\n",
      " My World Famous Pressure Cooker Chinese Ribs  0.7421053\n",
      "                       Classic Barbecued Ribs  0.7277778\n",
      "1 4 package pork spareribs 1 1 ketchup 1 2 vinegar 1 4 sugar 4 celery 1 1 2 chili 1 1 mustard 1 paprika 1 2-----3 paprika 1 1 2 1 2 6 1 2 pork ribs 2 vegetable 3 3 4 ketchup 1 4 brown sugar 1 4 Chinese vinegar 1 Worcestershire sauce-----1 beef 1 12 bottle chili sauce 2 mustard 2 brown sugar 1 vinegar\n",
      "----------------------------------------------------------------------\n",
      " worcestershire    hot  brown  ketchup  hot sauce  sugar  brown sugar  vinegar  mustard\n",
      "          0.069  0.061  0.051    0.049      0.045  0.045        0.039    0.028    0.026\n",
      "======================================================================\n",
      "topic: 24\n",
      "documents:\n",
      "       Foil Barbecued Trout with Wine  0.6368421\n",
      " Tuna with Mediterranean Lentil Salad  0.6238095\n",
      "              Lemon Piccata Whitefish  0.6107143\n",
      "1 2 purpose flour 1 lemon 1 trout fillets 2 vegetable needed 1 1 wine 1 1 2 lemon zest 1 4 lemon juice 2 capers 3 butter 1 parsley-----1 1 carrots 1 2 onion 2 1 lentils rinsed 3 3 1 1 2 lemon juice 1 4 parsley 1 1 2 lemon juice 4 7 tuna steaks 2-----2 trout cleaned head 1 4 wine 2 butter melted 1 lemon juice 2 parsley\n",
      "----------------------------------------------------------------------\n",
      " juice  lemon juice   zest  lemon zest  parsley  juice lemon  kosher  zest lemon   wine\n",
      " 0.159        0.141  0.032       0.027    0.019        0.015   0.010       0.009  0.009"
     ]
    },
    {
     "name": "stdout",
     "output_type": "stream",
     "text": [
      "\n",
      "======================================================================\n",
      "topic: 17\n",
      "documents:\n",
      "        Carnitas with Pico De Gallo  0.6576923\n",
      " Taqueria Style Tacos - Carne Asada      0.642\n",
      "                 Taqueria Guacamole    0.63125\n",
      "2 ripe avocados pitted 2 lime juice Kosher 2 cilantro-----3 flank steak 1 3 vinegar 1 2 soy sauce 4 2 limes juiced 1 2 1 1 1 1 1 chili 1 oregano 1 cumin 1 paprika 1 onion 1 2 cilantro 1 lime juiced 2 tomatoes 2 jalapeno peppers 1 onion 4 4 New Mexico chile pods 1 1 32 package corn tortillas 2 cotija cheese optional 2 limes-----1 6 boneless pork shoulder 1 cumin 4 New Mexico chiles 1 2 1 onion 6 1 jalapeno 6 6 tomatoes 1 onion 2 tomatillos husked 2 jalapeno 1 3 lime juice 1 1 4\n",
      "----------------------------------------------------------------------\n",
      " chile  peppers   lime  jalapeno  green  cumin  chile peppers  tomatoes  green chile\n",
      " 0.057    0.050  0.035     0.033  0.031  0.030          0.028     0.023        0.022\n",
      "======================================================================\n",
      "topic: 18\n",
      "documents:\n",
      "               Festival Chicken  0.6130435\n",
      " Three Packet Slow Cooker Roast  0.5972973\n",
      "                Sweet Meatballs      0.564\n",
      "4 frozen meatballs 1 16 bottle barbeque sauce 1 16 bottle French salad dressing 1 16 bottle Italian style salad dressing-----1 1 7 package Italian style salad dressing mix 1 1 package ranch dressing mix 1 75 packet brown gravy mix 1 3 boneless beef chuck roast-----1 12 jar apricot preserves 1 8 bottle Russian style salad dressing 1 packet onion soup mix 2 4 chickens 8\n",
      "----------------------------------------------------------------------\n",
      " dressing  broccoli  salad  florets  salad dressing  style   free  reduced    mix\n",
      "    0.056     0.042  0.041    0.037           0.034  0.033  0.031    0.027  0.027\n",
      "======================================================================\n",
      "topic: 19\n",
      "documents:\n",
      " Allie\\u0027s BIL\\u0027s Thanksgiving or Celebr...  0.7869565\n",
      "                                  Black Friday Pie     0.7125\n",
      "                            Thanksgiving in a Dish  0.7033333\n",
      "1 1 2 hot 1 4 butter 1 6 package chicken flavored stuffing mix 3 butter 1 2 celery 1 2 onion 3 cooked turkey 1 2 celery seed 1 4 3 prepared mashed potatoes-----1 mashed potatoes 1 2 cubed cooked turkey 1 2 cooked green beans 1 2 turkey gravy 1 prepared stuffing 2 butter melted-----3 turkey 1 16 berry cranberry sauce 1 14 package herb seasoned stuffing mix Pepperidge Farm 4 eggs\n",
      "----------------------------------------------------------------------\n",
      " turkey  cubed  melted  chicken  package   meat  cabbage   head  butter melted\n",
      "  0.041  0.037   0.034    0.032    0.026  0.026    0.025  0.025          0.022\n",
      "======================================================================\n",
      "topic: 20\n",
      "documents:\n",
      "           The Shrubarb Cocktail       0.65\n",
      "            Quick Pickled Onions       0.65\n",
      " Molasses-Glazed Pork Tenderloin  0.6130435\n",
      "2 molasses 1 apple cider vinegar 2 honey 2 brown sugar 1 flakes 1 ginger 3 1 1 1 2 pork tenderloin-----2 rhubarb 1 4 6 1 7 ginger unpeeled 1 4 coins 1 4 3 4 apple cider vinegar 1 1 4 sugar-----1 2 apple cider vinegar 1 sugar 1 1 2 kosher 1 onion\n",
      "----------------------------------------------------------------------\n",
      " brown  brown sugar  apple  vinegar  cider  cored  cider vinegar  cinnamon  apple cider\n",
      " 0.083        0.077  0.055    0.040  0.038  0.032          0.031     0.029        0.024"
     ]
    },
    {
     "name": "stdout",
     "output_type": "stream",
     "text": [
      "\n",
      "======================================================================\n",
      "topic: 13\n",
      "documents:\n",
      "                   Black Pepper Goat Curry  0.8115385\n",
      " Country Captain with Cauliflower and Peas  0.8033333\n",
      "                           Tandoori Turkey  0.7833333\n",
      "2 1 2 coriander seeds 2 cumin seeds 1 1 teapsoon peppercorns 1 cardamom 2 chili 1 fenugreek 1 1 3 4 cinnamon broken 1 4 ajwain seeds-----1 1 2 coriander seeds 1 fennel seeds 1 cumin seeds 1 2 peppercorns 3 1 4 cardamom seeds 3 green cardamom pods 1 1 2 cinnamon 1 2 turmeric 1 4 scant cayenne-----1 vegetable 1 onion 1 2 curry 2 peppercorns 2 coriander 1 2 3 vegetable 2 onions 2 ginger 5 2 cayenne 1 1 turmeric 1 2 tomato paste 1 goat stew meat 1 1 2\n",
      "----------------------------------------------------------------------\n",
      " seeds  paste  tomato  coriander  vegetable  ginger  turmeric  tomato paste  curry\n",
      " 0.036  0.034   0.031      0.031      0.025   0.025     0.024         0.020  0.020\n",
      "======================================================================\n",
      "topic: 14\n",
      "documents:\n",
      "                   Guinness(R) Corned Beef     0.7125\n",
      " Stout Slow Cooker Corned Beef and Veggies  0.7068182\n",
      "       Slow Cooker Corned Beef and Cabbage  0.7054054\n",
      "1 2 baby carrots 1 2 yellow potatoes Dutch Yellow Pee Wee potatoes 1 sweet onion 4 4 3 4 corned beef brisket spice packet 3 onion 3 1 bottle Irish stout beer Guinness 1 head cabbage separated-----1 1 2 12 fluid cans bottles Irish stout beer Guinness 1 4 corned beef brisket 1 1 2 brown sugar 3 sweet potatoes chunks 1 head cabbage cored 2 sweet onions 6 carrots 3 potatoes chunks-----4 corned beef brisket 1 brown sugar 1 12 fluid bottle Irish stout beer e Guinness\n",
      "----------------------------------------------------------------------\n",
      " potatoes  carrots  fluid  sweet  cubed  onions   beer  steak  vegetable\n",
      "    0.075    0.036  0.029  0.023  0.020   0.020  0.020  0.018      0.017\n",
      "======================================================================\n",
      "topic: 15\n",
      "documents:\n",
      " Sweet \\u0026 Spicy St. Louis Ribs  0.7377358\n",
      "            Cider-Mopped Spareribs  0.6868421\n",
      "     Lemon Pepper Rubbed Back Ribs  0.6568966\n",
      "Dry Rub 3 light brown sugar 2 sea 1 1 onion 2 cayenne 1 1 2 lemon peel 1 2 apple pie spice 2 racks Smithfield Extra Tender Pork Back Ribs membrane Vegetable Handful hickory apple wood chips smoking soaked optional 3 4 apple juice spray bottle optional-----3 chili 2 kosher 5 granulated 5 2 racks Smithfield Pork Spareribs membrane 1 2 apple cider vinegar 1 2 Handful hickory apple wood chips smoking soaked optional 3 4 barbecue sauce use favorite-----Dry Rub 1 2 light brown sugar 1 2 kosher 1 4 paprika 2 chili 2 1 onion 1 1 4 allspice 1 4 cinnamon 1 8 2 racks Smithfield Extra Tender St Louis Pork Spareribs membrane Handful hickory apple wood chips smoking soaked optional 2 favorite barbecue sauce\n",
      "----------------------------------------------------------------------\n",
      " cayenne  smoked  kosher  steak  cumin   pork  flank  smoked paprika  oregano\n",
      "   0.066   0.026   0.022  0.019  0.016  0.015  0.014           0.014    0.014\n",
      "======================================================================\n",
      "topic: 16\n",
      "documents:\n",
      " Pea, Asparagus, and Fava Bean Salad  0.5931818\n",
      "              Zucchini & Corn Gratin  0.5761905\n",
      "           Meandus\\u0027 Easy Dinner  0.5285714\n",
      "1 beef 1 14 5 French green beans 12 frozen hash brown patties thawed 1 10 canned kernel corn-----1 2 onions 5 corn kernels 1 jalapeno 2 Tbsp flour 1 3 milk 1 zucchini 3 4 KRAFT Shredded Triple Cheddar Cheese TOUCH OF PHILADELPHIA-----3 extra virgin 1 Pecorino Parmesan 1 lemon juice Kosher 2 fava beans 2 pods frozen fava beans thawed 2 bunches asparagus stalks 1 shelled peas 1 pods frozen peas thawed 1 2 vegetable 1 shallot 4 bacon cooked\n",
      "----------------------------------------------------------------------\n",
      "  peas  onions  frozen   jack  jack cheese  green onions  monterey  beans  monterey jack\n",
      " 0.053   0.053   0.050  0.044        0.040         0.039     0.036  0.035          0.035"
     ]
    },
    {
     "name": "stdout",
     "output_type": "stream",
     "text": [
      "\n",
      "1 3 chicken 1 purpose flour 1 paprika 1 quart vegetable frying-----One 3 3 1 2 broiler fryer frying Note 2 1 4 3 4 unsifted purpose flour Vegetable frying lard Mrs McCollum used lard 1-----1 2 beef 1 purpose flour 4 eggs 3 vegetable needed 1 butter 1 purpose flour needed 1 milk\n",
      "----------------------------------------------------------------------\n",
      " purpose  purpose flour   milk  vegetable  frying  butter purpose  needed    egg   eggs\n",
      "   0.142          0.141  0.041      0.032   0.031           0.021   0.019  0.018  0.017\n",
      "======================================================================\n",
      "topic: 10\n",
      "documents:\n",
      " Creamy Polenta with Arrabbiata Sausage Ragout  0.6609756\n",
      "                  Rossi\\u0027s Sausage Gnocchi  0.6483871\n",
      "                     Spicy Breakfast Meatballs  0.6192308\n",
      "1 20 package bulk spicy Italian turkey sausage 1 20 package spicy Italian turkey 3 eggs 4 2 fat Cheddar cheese 1 4 onion 1 4-----1 1 Italian sausage links 1 1 2 onion 1 1 1 2 Italian seasoning 1 14 tomatoes 2 1 4 1 sugar 1 Italian seasoning 1 1 package gnocchi flat leaf parsley Romano Parmesan cheese-----Polenta 2 1 2 1 2 milk 1 1 Italian polenta 2 unsalted butter 1 2 Parmigiano Reggiano cheese Arrabbiata Sauce Sausages 2 grapeseed 1 19 package Italian sausage links 2 bell peppers 1 2 rings 1 sweet onion 1 2 1 24 jar Classico Tomato Basil Sauce 1 4 flakes\n",
      "----------------------------------------------------------------------\n",
      " sausage  seasoning  italian seasoning    jar  sweet  italian sausage  style  pasta  package\n",
      "   0.054      0.054              0.033  0.028  0.026            0.022  0.019  0.017    0.017\n",
      "======================================================================\n",
      "topic: 11\n",
      "documents:\n",
      "       Chicken Noodle Casserole II  0.8357143\n",
      " Grandma\\u0027s Hamburger Hot Dish  0.8314286\n",
      "                Venison Stroganoff      0.825\n",
      "1 venison 1 onion 2 10 75 cans condensed cream mushroom soup 1 16 package uncooked egg noodles 1 8 container sour cream-----1 8 package egg noodles 1 beef 1 onion 1 celery 1 10 75 condensed cream mushroom soup 1 10 75 condensed cream chicken soup 1 4 5 mushrooms 1 2 milk 1 2 salted cashews-----1 onion 1 4 butter 3 10 cans chicken chunks 1 pint sour cream 2 10 75 cans condensed cream chicken mushroom soup 3 Cheddar cheese 1 8 package uncooked egg noodles 4 buttery round crackers\n",
      "----------------------------------------------------------------------\n",
      " cream  condensed  condensed cream  mushroom  mushroom soup  cream mushroom  package   cans  cream chicken\n",
      " 0.072      0.060            0.046     0.035          0.033           0.030    0.024  0.022          0.020\n",
      "======================================================================\n",
      "topic: 12\n",
      "documents:\n",
      " Cheeseburger Meatloaf   0.7214286\n",
      "     Mini Cheeseburgers  0.7117647\n",
      "    Eggplant Croquettes  0.7074074\n",
      "2 eggplants cubed 1 sharp Cheddar cheese 1 Italian seasoned bread crumbs 2 eggs 2 parsley 2 onion 1 1 vegetable frying 1 1 2-----1 lean beef 1 2 ketchup 1 2 Cheddar cheese 1 egg 1 1 4 Cheddar cheese 1 4 ketchup-----2 beef 3 4 bread crumbs 1 2 onion 2 eggs 1 1 2 1 1 2 3 Cheddar cheese\n",
      "----------------------------------------------------------------------\n",
      " crumbs  bread crumbs    egg  cheddar  cheddar cheese   eggs   milk  seasoned  sharp\n",
      "  0.088         0.083  0.036    0.036           0.034  0.032  0.027     0.024  0.021"
     ]
    },
    {
     "name": "stdout",
     "output_type": "stream",
     "text": [
      "\n",
      "======================================================================\n",
      "topic: 6\n",
      "documents:\n",
      "                Red Ryder  0.8555556\n",
      " Bill Hecks Old Fashioned       0.85\n",
      "                  Mai Tai      0.844\n",
      "1 silver gold rum 3 4 lime juice 1 2 aged rum 1 2 orange Cura ao premium triple sec 1 2 orgeat almond syrup 1 4 simple syrup Float dark Jamaican rum optional Mint sprig-----2 sugar 4 dashes Angostura bitters 1 lemon wheel 1 lime wheel 1 orange wheel 1 maraschino cherry 1 2 grenadine 1 4 bourbon rye whiskey Club soda Ginger ale-----1 750 milliliter bottle Campari 1 750 milliliter bottle dark rum 3 chilled brewed rooibos tea 3 pomegranate juice 3 unsweetened cranberry juice 1 1 2 Angostura bitters\n",
      "----------------------------------------------------------------------\n",
      " orange   lime  orange juice  lime juice   zest  sugar  honey   mint  pineapple\n",
      "  0.088  0.054         0.038       0.037  0.025  0.016  0.016  0.015      0.014\n",
      "======================================================================\n",
      "topic: 7\n",
      "documents:\n",
      "                   Portobello Bellybuttons      0.805\n",
      "                  Clam Sauce with Linguine  0.7434783\n",
      " Escargot and Pollock over Spinach Noodles  0.7318182\n",
      "1 16 package spinach spaghetti pasta 1 2 butter 5 pollock fillets 1 onion 1 7 escargot 2 1 parsley 1 oregano 1 2 basil 1 4 Parmesan cheese topping-----1 16 package linguine pasta 1 2 butter 3 1 mushrooms 2 6 5 cans clams juice 1 2 parsley 1 1 2 1 4 Parmesan cheese-----1 16 package cheese tortellini 3 butter 1 2 portobello mushrooms 1 2 button mushrooms 1 4 wine 1 2 basil 1 2 Parmesan cheese\n",
      "----------------------------------------------------------------------\n",
      " parmesan cheese  pasta  tomatoes  basil  package  mushrooms  parsley  oregano  optional\n",
      "           0.053  0.052     0.046  0.043    0.041      0.037    0.026    0.022     0.021\n",
      "======================================================================\n",
      "topic: 8\n",
      "documents:\n",
      "             Thai Monkfish Curry      0.724\n",
      "       Thai Shrimp Halibut Curry  0.7133333\n",
      " Sweet, Salty, and Sour Marinade  0.7131579\n",
      "3 palm sugar 6 1 2 light brown sugar 1 2 lime juice 1 2 fish sauce nam pla nuoc nam 1 2 cilantro 2 ginger 4 Thai chiles 6 Fresno chiles 3 lemongrass 4 2 stalks-----3 limes 1 vegetable 1 shallots 1 bell 1 2 3 4 dice 1 1 2 ginger 2 1 2 Thai curry paste Thai Kitchen brand 1 13 1 2 14 unsweetened coconut milk 1 fish sauce nam pla nuoc nam 16 18 halibut fillets 1 1 2 chunks 8 deveined uncooked shrimp 8 10 1 3 cilantro 1 3 basil-----1 peanut 1 2 sweet onion 1 bell 3 Thai curry paste 1 14 coconut milk 12 monkfish 1 fish sauce 2 lime juice 2 cilantro\n",
      "----------------------------------------------------------------------\n",
      "  milk  coconut milk   fish  curry  fish sauce  sugar   lime  cilantro  paste\n",
      " 0.042         0.032  0.031  0.031       0.027  0.024  0.024     0.020  0.019\n",
      "======================================================================\n",
      "topic: 9\n",
      "documents:\n",
      " Poor Man\\u0027s Chicken Fried Steak  0.7772727\n",
      "            Fried Chicken with Gravy  0.7117647\n",
      "              Southern Fried Chicken    0.69375"
     ]
    },
    {
     "name": "stdout",
     "output_type": "stream",
     "text": [
      "\n",
      "----------------------------------------------------------------------\n",
      " shrimp  deveined  uncooked  shrimp deveined  grain   long  seasoning  cooked  long grain\n",
      "  0.061     0.050     0.048            0.037  0.031  0.030      0.029   0.029       0.023\n",
      "======================================================================\n",
      "topic: 3\n",
      "documents:\n",
      "    Taco in a Bag  0.8741935\n",
      " Mexican Meatloaf       0.85\n",
      "       Enchiladas      0.805\n",
      "2 lean beef 1 onion 1 8 12 8 flour tortillas 2 vegetable 8 Colby cheese 2 19 cans enchilada sauce-----2 lean beef 1 1 25 package taco seasoning mix 1 16 refried beans 4 8 flour tortillas 3 4 salsa 1 2 Cheddar cheese-----1 lean beef 1 1 package taco seasoning mix 4 2 5 packages corn chips 2 lettuce 1 tomato 1 Cheddar cheese 1 3 salsa 1 2 sour cream\n",
      "----------------------------------------------------------------------\n",
      " sour cream  cream  cheddar  cheddar cheese   corn  tortillas  package  flour    mix\n",
      "      0.048  0.044    0.034           0.031  0.029      0.027    0.023  0.022  0.021\n",
      "======================================================================\n",
      "topic: 4\n",
      "documents:\n",
      "             Mexican Orange Chicken  0.5552632\n",
      " Perfect Pan-Roasted Chicken Thighs       0.54\n",
      "     Paprika Chicken with Mushrooms  0.5352941\n",
      "4 skinless boneless chicken breasts 1 paprika 1 1 4 butter 1 onion rings 1 mushrooms-----6 skin bone chicken thighs 2 1 4 Kosher 1 vegetable-----8 chicken drumsticks 8 chicken thighs 1 1 2 cubed cooked ham 1 1 2 canned pineapple chunks 1 12 package bacon 2 1 2 raisins optional 8 squeezed orange juice 1 4 chicken bouillon granules 1 4 butter chunks\n",
      "----------------------------------------------------------------------\n",
      " chunks  thighs  chicken thighs  breasts  boneless  skinless  chicken breasts  skinless chicken  bouillon\n",
      "  0.049   0.042           0.036    0.036     0.035     0.032            0.031             0.028     0.025\n",
      "======================================================================\n",
      "topic: 5\n",
      "documents:\n",
      " Campfire Pepperoni Pizza  0.75625\n",
      "             Cheese Bread    0.705\n",
      "                      BLT    0.675\n",
      "4 bacon 2 lettuce 2 tomato 2 bread toasted 1 mayonnaise-----1 1 loaf French bread horizontally 4 butter 1 2 mayonnaise 1 Parmesan cheese 4 mozzarella cheese 4 Cheddar cheese 1 4-----1 refrigerated pizza dough 1 4 pizza sauce 1 2 mozzarella cheese 1 2 pepperoni\n",
      "----------------------------------------------------------------------\n",
      " swiss  pizza  crust  swiss cheese  mayonnaise  cheddar  dough  cheddar cheese    pie\n",
      " 0.025  0.025  0.024         0.024       0.019    0.017  0.016           0.016  0.016"
     ]
    },
    {
     "name": "stdout",
     "output_type": "stream",
     "text": [
      "\n",
      "1 3 rabbit cleaned 1 free marinade Mrs Dash-----1 1 instant rice 1 butter optional 1 optional cooking spray-----1 egg 1 lean beef 1 quick cooking oats 1 onion 1 spinach 2 low fat Mexican blend cheese 4 grain buns\n",
      "----------------------------------------------------------------------\n",
      " cooking  spray  cooking spray    fat  wheat    low  blend  low fat  vegetable\n",
      "   0.101  0.077          0.071  0.030  0.027  0.024  0.021    0.021      0.019\n",
      "======================================================================\n",
      "topic: 1\n",
      "documents:\n",
      "   Carrots and Greens with Dilly Bean Vinaigrette      0.724\n",
      "        Linguine and Clams with Almonds and Herbs      0.724\n",
      " Sliced Baguette with Radishes and Anchovy Butter  0.6714286\n",
      "1 2 1 unsalted butter 2 3 anchovy fillets 2 chives Coarse kosher 16 1 2 diagonal baguette 10 radishes French Breakfast diagonal Additional chives-----1 4 dilly beans 1 pickling liquid 3 unsalted butter 1 1 1 2 carrots unpeeled 1 shallot 1 2 rings 3 bunches mustard greens 1 center ribs stems Kosher-----1 2 unsalted roasted almonds 2 chives 2 flat leaf parsley 1 1 4 Kosher 4 3 4 flakes 1 4 wine 2 littleneck clams scrubbed 12 linguine\n",
      "----------------------------------------------------------------------\n",
      " parsley   flat   leaf  flat leaf  leaf parsley  unsalted  unsalted butter  stems  freshly\n",
      "   0.040  0.037  0.036      0.034         0.033     0.032            0.028  0.023    0.017\n",
      "======================================================================\n",
      "topic: 2\n",
      "documents:\n",
      "  Spicy Steamed Shrimp    0.63125\n",
      " Best Unsteamed Shrimp  0.6166667\n",
      "    Steamed Blue Crabs      0.604\n",
      "36 live blue crabs 1 2 seafood seasoning Old Bay 1 2 3 beer 3 distilled vinegar 1 4 seafood seasoning Old Bay-----1 2 butter 2 shrimp deveined 1 4 Old Bay Seasoning TM 2 lemon juice-----1 quart 1 tiger prawns shell 3 Old Bay Seasoning 1 12 jar cocktail sauce"
     ]
    },
    {
     "name": "stdout",
     "output_type": "stream",
     "text": [
      "======================================================================\n",
      "topic: 0\n",
      "documents:\n",
      "   Popeye Power Burger      0.484\n",
      "     Rice Quiche Crust  0.4733333\n",
      " Grilled Garlic Rabbit  0.4636364"
     ]
    }
   ],
   "source": [
    "\n",
    "f.show_topics(m, df, doc_probs, doc_ids, w)"
   ]
  },
  {
   "cell_type": "code",
   "execution_count": 971,
   "metadata": {
    "collapsed": false,
    "tags": [
     "worksheet-0"
    ]
   },
   "outputs": [
    {
     "data": {
      "text/plain": [
       "<matplotlib.figure.Figure at 0x7fd84970bd10>"
      ]
     },
     "metadata": {},
     "output_type": "display_data"
    }
   ],
   "source": [
    "# Plotting word distributions for each topic.\n",
    "wb = f.most_probable_words(m, vectorizer.get_feature_names(), 10)\n",
    "wb.columns = ['rank','topic','word','prob']\n",
    "\n",
    "## make figure of word distributions for each topic.\n",
    "g = sns.FacetGrid(wb, col='topic', col_wrap=10)\n",
    "p = g.map(sns.barplot, 'word', 'prob')\n",
    "## save figure for easier viewing.\n",
    "p.savefig('word_dist_by_topic.png')\n",
    "\n",
    "## TODO: figure out way of examining probs of words in relation to topic coherence:\n",
    "## high average prob?\n",
    "\n",
    "## make figure of document distributions for each topic.\n",
    "## for each topic, show distribution of documents.\n",
    "\n",
    "\n",
    "\n"
   ]
  },
  {
   "cell_type": "code",
   "execution_count": null,
   "metadata": {
    "collapsed": false,
    "tags": [
     "worksheet-0"
    ]
   },
   "outputs": [],
   "source": [
    "## examine topics:\n",
    "## 14: one very probable word.\n",
    "## 32: many very probable words.\n",
    "## 30: no very probable words.\n",
    "\n",
    "\n"
   ]
  },
  {
   "cell_type": "code",
   "execution_count": 18,
   "metadata": {
    "collapsed": false,
    "tags": [
     "worksheet-0"
    ]
   },
   "outputs": [],
   "source": [
    "## TODO: store one set of results for each run.\n",
    "\n",
    "con = f.make_engine()\n",
    "\n",
    "## massage document ids and probabilities into form suitable for database.\n",
    "di = pd.DataFrame(doc_ids)\n",
    "di['topic'] = di.index\n",
    "di = pd.melt(di, id_vars='topic')\n",
    "di.columns = ['topic','rank','recipe_key']\n",
    "\n",
    "dp = pd.DataFrame(doc_probs)\n",
    "dp['topic'] = dp.index\n",
    "dp = pd.melt(dp, id_vars='topic')\n",
    "dp.columns = ['topic','rank','prob']\n",
    "\n",
    "dd = pd.merge(di, dp)\n",
    "dd.to_sql('doc_prob', con, if_exists='replace')\n",
    "\n",
    "# store recipes\n",
    "df['key'] = df.index\n",
    "## assign the most probable topic to each recipe.\n",
    "df['topic'] = np.argmax(m.doc_topic_, axis=1)\n",
    "df.to_sql('clean_recipes', con, if_exists='replace', index=False)\n",
    "\n",
    "# store words\n",
    "w.columns = ['rank','topic','word','prob']\n",
    "w.to_sql('word_probs', con, if_exists='replace')\n"
   ]
  },
  {
   "cell_type": "code",
   "execution_count": 285,
   "metadata": {
    "collapsed": false,
    "tags": [
     "worksheet-0"
    ]
   },
   "outputs": [
    {
     "name": "stdout",
     "output_type": "stream",
     "text": [
      "topics with low word probs.\n",
      "topic: 5\n",
      "                                          title      prob\n",
      "31                       Fruit and Nut Pancakes  0.816667\n",
      "27   Coconut Macaroon Sandwiches with Lime Curd  0.821212\n",
      "116                        Joyce\\u0027s Granola  0.823077\n",
      "topic: 8\n",
      "                                        title      prob\n",
      "71      Spicy Coconut and Lime Grilled Shrimp  0.638636\n",
      "98  Garlic, Cilantro, and Lime Sauteed Shrimp  0.669697\n",
      "51                  Spicy Lime Grilled Shrimp  0.684000\n",
      "topic: 16\n",
      "                                                title      prob\n",
      "25       Chocolate-Dipped Salted Caramel Marshmallows  0.765278\n",
      "34  Maple-Gingerbread Layer Cake with Salted Maple...  0.811538\n",
      "5                        Bourbon-Vanilla Marshmallows  0.816279\n",
      "topic: 18\n",
      "                                title      prob\n",
      "78          Rajma (Kidney Bean Curry)  0.743299\n",
      "43  Indian Chicken Curry (Murgh Kari)  0.753608\n",
      "55           Indian Dahl with Spinach  0.762000\n",
      "topic: 30\n",
      "                             title      prob\n",
      "26         Charred Tomatillo Salsa  0.771795\n",
      "8   Thai Celery Salad with Peanuts  0.801818\n",
      "11           Tomatillo Salsa Verde  0.813514\n",
      "================================================================================\n",
      "topics with one high word prob.\n",
      "================================================================================\n",
      "topic: 1\n",
      "                                     title      prob\n",
      "29                              Bún Bò Hue  0.452500\n",
      "103  Classic Smoked Sausage \\u0026 Peppers  0.474545\n",
      "113                             Dinengdeng  0.526190\n",
      "topic: 4\n",
      "                                                title      prob\n",
      "94                              Manicotti Pancakes II  0.700000\n",
      "33  Witchs Finger Bread Sticks with Maple Mustard Dip  0.703333\n",
      "21                           Fried Chicken with Gravy  0.724000\n",
      "topic: 9\n",
      "                     title      prob\n",
      "99           Messy Burgers  0.432143\n",
      "39  Cabbage Roll Casserole  0.460000\n",
      "57    Best Ever Meatloaf I  0.467857\n",
      "topic: 14\n",
      "                  title      prob\n",
      "22   Blue Crab Beignets  0.360714\n",
      "16  Arugula Salsa Verde  0.360937\n",
      "79      Filipino Lumpia  0.391667\n",
      "topic: 21\n",
      "                                               title      prob\n",
      "23               Pea, Asparagus, and Fava Bean Salad  0.383951\n",
      "28                           Scallops à La Provençal  0.427941\n",
      "9   Fava Bean and Pea Salad with Poppy Seed Dressing  0.428000\n"
     ]
    }
   ],
   "source": [
    "\n",
    "xx = pd.merge(df, dd, left_on='key', right_on='recipe_key', how='right')\n",
    "\n",
    "## topics with low word probs.\n",
    "## but, they seem pretty good.\n",
    "print 'topics with low word probs.'\n",
    "for n, g in xx[xx['topic'].isin([5,8,16,18,30])].groupby('topic'):\n",
    "    print 'topic: %s' % n\n",
    "    print g[['title','prob']].sort('prob').to_string()\n",
    "\n",
    "##\n",
    "print '='*80\n",
    "print 'topics with one high word prob.'\n",
    "print '='*80\n",
    "for n, g in xx[xx['topic'].isin([1,4,9,14,21])].groupby('topic'):\n",
    "    print 'topic: %s' % n\n",
    "    print g[['title','prob']].sort('prob').to_string()\n",
    "\n",
    "\n"
   ]
  },
  {
   "cell_type": "code",
   "execution_count": 469,
   "metadata": {
    "collapsed": false,
    "tags": [
     "worksheet-0"
    ]
   },
   "outputs": [
    {
     "data": {
      "text/plain": [
       "<matplotlib.figure.Figure at 0x7fd84c3fbe90>"
      ]
     },
     "metadata": {},
     "output_type": "display_data"
    },
    {
     "data": {
      "text/plain": [
       "<matplotlib.axes._subplots.AxesSubplot at 0x7fd84f99d750>"
      ]
     },
     "execution_count": 469,
     "metadata": {},
     "output_type": "execute_result"
    }
   ],
   "source": [
    "## relationship between doc prob and length:\n",
    "dpa = pd.DataFrame({'max_prob':np.max(m.doc_topic_, axis=1), 'topic':np.argmax(m.doc_topic_, axis=1)})\n",
    "dpa = df.join(dpa)\n",
    "dpa['ingredient_len'] = dpa['ingredient_txt'].str.len()\n",
    "\n",
    "dpa.plot('ingredient_len', 'mdpa_prob', kind='scatter')\n",
    "\n",
    "# g = sns.FacetGrid(dpa, col='topic', col_wrap=10)\n",
    "# p = g.map(sns.barplot, 'word', 'prob')\n",
    "# ## save figure for easier viewing.\n",
    "# p.savefig('word_dist_by_topic.png')\n",
    "\n"
   ]
  },
  {
   "cell_type": "code",
   "execution_count": 39,
   "metadata": {
    "collapsed": false,
    "tags": [
     "worksheet-0"
    ]
   },
   "outputs": [],
   "source": [
    "## generating recipes.\n",
    "reload(f)\n",
    "ww = f.all_word_probs(m, vectorizer.get_feature_names())\n",
    "ww.to_sql('all_word_probs', con, if_exists='replace')"
   ]
  },
  {
   "cell_type": "code",
   "execution_count": 40,
   "metadata": {
    "collapsed": false,
    "tags": [
     "worksheet-0"
    ]
   },
   "outputs": [
    {
     "name": "stdout",
     "output_type": "stream",
     "text": [
      "0\n",
      "[u'vegetable chicken, chicken, broth, broth, broth']\n",
      "1\n",
      "[u'lemon peel, parsley, butter lemon, parsley lemon, halibut']\n",
      "2\n",
      "[u'base, needed, smoked, cover, giblets']\n",
      "3\n",
      "[u'soup mix, processed cheese, onion soup, onion cans, lean']\n",
      "4\n",
      "[u'vegetable, vanilla extract, egg yolks, cacao, rose']\n",
      "5\n",
      "[u'fluid bottle, steak, skirt steak, bottles, beer']\n",
      "6\n",
      "[u'jack, jack cheese, butter flour, fat free, cheddar monterey']\n",
      "7\n",
      "[u'cream package, chives, cheese sour, light, button']\n",
      "8\n",
      "[u'basil vegetable, thyme, oregano, balsamic vinegar, oregano']\n",
      "9\n",
      "[u'condensed cheddar, potato nuggets, tomato soup, mushroom, meat']\n",
      "10\n",
      "[u'molasses, vegetable, seeds, fennel, cooking spray']\n",
      "11\n",
      "[u'orzo, butter cans, hair, asiago cheese, flakes']\n",
      "12\n",
      "[u'seedless, duck, chicken, juiced, juiced']\n",
      "13\n",
      "[u'mushrooms, baby bella, heavy, cream, beef stock']\n",
      "14\n",
      "[u'purpose, purpose flour, milk, purpose, milk']\n",
      "15\n",
      "[u'worcestershire, cayenne, blue cheese, ketchup mustard, beef hot']\n",
      "16\n",
      "[u'hash brown, crust pie, pie, melted butter, butter melted']\n",
      "17\n",
      "[u'chicken bouillon, long, optional vegetable, chicken, broth']\n",
      "18\n",
      "[u'english, dressing, dressing, pheasant, split']\n",
      "19\n",
      "[u'ginger root, green onion, japanese, carrot, vinegar']\n",
      "20\n",
      "[u'cheddar, blend cheese, corn, kernel, green onions']\n",
      "21\n",
      "[u'carrot, carrots, leek, celery stalks, onion carrots']\n",
      "22\n",
      "[u'pineapple, juice, garnish, grapefruit, juice']\n",
      "23\n",
      "[u'unsalted butter, nuts, flat, leaf parsley, flat leaf']\n",
      "24\n",
      "[u'hot flakes, wine, sea extra, extra virgin, olives']\n",
      "25\n",
      "[u'dijon, mustard, fris, vinegar, cider']\n",
      "26\n",
      "[u'packages, onion feta, package, thawed squeezed, vegetables']\n",
      "27\n",
      "[u'beef, beef tenderloin, beef bouillon, cornstarch, boneless round']\n",
      "28\n",
      "[u'bread, bread crumbs, crumbs, parsley, panko bread']\n",
      "29\n",
      "[u'chicken breast, halves, skinless, chicken breast, chicken']\n",
      "30\n",
      "[u'jalapeno, tomatillos, green beans, pinto beans, broth lemon']\n",
      "31\n",
      "[u'lasagna, italian seasoning, seasoning, italian, puree']\n",
      "32\n",
      "[u'cooked chicken, florets, milk package, milk, extra eggs']\n",
      "33\n",
      "[u'sea, canola, salt, kale, mixture']\n",
      "34\n",
      "[u'sriracha sauce, tamarind, peanut butter, wine vinegar, jalape']\n",
      "35\n",
      "[u'mustard seed, seed, cinnamon, coconut milk, chile peppers']\n",
      "36\n",
      "[u'debearded, wine, shelled deveined, shrimp, deveined']\n",
      "37\n",
      "[u'sugar, brown sugar, venison, sugar, brown sugar']\n",
      "38\n",
      "[u'cheddar cheese, cheese paprika, cheddar cheese, cracked, optional']\n",
      "39"
     ]
    },
    {
     "name": "stdout",
     "output_type": "stream",
     "text": [
      "\n",
      "[u'bell, bell, chile peppers, green, green']\n"
     ]
    }
   ],
   "source": [
    "for n, g in ww.groupby('label'):\n",
    "    print n\n",
    "    print [', '.join(np.random.choice(g['word'], size=5, p=g['prob'])) for _ in range(0,1)]\n",
    "    "
   ]
  }
 ],
 "metadata": {},
 "nbformat": 4,
 "nbformat_minor": 0
}
