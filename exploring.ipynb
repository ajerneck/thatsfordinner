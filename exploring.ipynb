{
 "cells": [
  {
   "cell_type": "markdown",
   "metadata": {
    "collapsed": true,
    "tags": [
     "worksheet-0"
    ]
   },
   "source": [
    "# Imports and configuration.\n",
    "todo: see how well the removing stopwords first does."
   ]
  },
  {
   "cell_type": "code",
   "execution_count": 606,
   "metadata": {
    "collapsed": false,
    "tags": [
     "worksheet-0"
    ]
   },
   "outputs": [],
   "source": [
    "%matplotlib inline"
   ]
  },
  {
   "cell_type": "code",
   "execution_count": 607,
   "metadata": {
    "collapsed": false,
    "tags": [
     "worksheet-0"
    ]
   },
   "outputs": [],
   "source": [
    "import lda\n",
    "import numpy as np\n",
    "import matplotlib\n",
    "import matplotlib.pyplot as plt\n",
    "import pandas as pd\n",
    "import psycopg2\n",
    "import seaborn as sns\n",
    "from sklearn.feature_extraction.text import CountVectorizer\n",
    "from sklearn.feature_extraction import text\n",
    "\n",
    "import common\n",
    "\n",
    "import functions as f\n",
    "\n"
   ]
  },
  {
   "cell_type": "code",
   "execution_count": 608,
   "metadata": {
    "collapsed": false,
    "tags": [
     "worksheet-0"
    ]
   },
   "outputs": [],
   "source": [
    "matplotlib.style.use('ggplot')"
   ]
  },
  {
   "cell_type": "markdown",
   "metadata": {
    "collapsed": true,
    "tags": [
     "worksheet-0"
    ]
   },
   "source": [
    "# Load data"
   ]
  },
  {
   "cell_type": "code",
   "execution_count": 610,
   "metadata": {
    "collapsed": false,
    "tags": [
     "worksheet-0"
    ]
   },
   "outputs": [
    {
     "name": "stdout",
     "output_type": "stream",
     "text": [
      "\n",
      "Loaded 16539 records in total\n"
     ]
    },
    {
     "name": "stdout",
     "output_type": "stream",
     "text": [
      "Loaded 4506 records from epicurious.com\n",
      "Loaded 12033 records from allrecipes.com"
     ]
    }
   ],
   "source": [
    "con = common.make_engine()\n",
    "\n",
    "df_ep = pd.read_sql_table('recipes_recipe', con)\n",
    "df_ep = df_ep[['title','ingredient_txt','url','image']]\n",
    "df_ep['source'] = 'epicurious.com'\n",
    "print('Loaded %s records from epicurious.com' % df_ep.shape[0])\n",
    "\n",
    "df_ar = pd.read_sql_table('allrecipes', con)\n",
    "df_ar = df_ar[['data-name','ingredients','url','data-imageurl']]\n",
    "df_ar.columns = ['title','ingredient_txt','url','image']\n",
    "df_ar['source'] = 'allrecipes.com'\n",
    "\n",
    "df_ar = df_ar.drop_duplicates('url')\n",
    "df_ar.reset_index()\n",
    "\n",
    "print('Loaded %s records from allrecipes.com' % df_ar.shape[0])\n",
    "\n",
    "df = pd.concat([df_ep, df_ar], ignore_index=True)\n",
    "\n",
    "print('Loaded %s records in total' % df.shape[0])\n",
    "\n",
    "## TODO: fix unicode here.\n"
   ]
  },
  {
   "cell_type": "markdown",
   "metadata": {
    "collapsed": true,
    "tags": [
     "worksheet-0"
    ]
   },
   "source": [
    "## Examining and cleaning data"
   ]
  },
  {
   "cell_type": "code",
   "execution_count": 611,
   "metadata": {
    "collapsed": false,
    "tags": [
     "worksheet-0"
    ]
   },
   "outputs": [
    {
     "data": {
      "text/plain": [
       "<matplotlib.figure.Figure at 0x7fd84e473dd0>"
      ]
     },
     "metadata": {},
     "output_type": "display_data"
    },
    {
     "name": "stdout",
     "output_type": "stream",
     "text": [
      "count    16526.000000\n",
      "mean       296.671366\n",
      "std        127.103774\n",
      "min         23.000000\n",
      "25%        206.000000\n",
      "50%        280.000000\n",
      "75%        371.000000\n",
      "max       1087.000000\n",
      "Name: ingredient_txt, dtype: float64\n"
     ]
    }
   ],
   "source": [
    "df = df[df['ingredient_txt'].str.len() > 20]\n",
    "print df['ingredient_txt'].str.len().describe()\n",
    "df['ingredient_txt'].str.len().plot(kind='hist').set_title('Ingredients character count')\n",
    "df = df.reset_index()\n",
    "\n",
    "\n"
   ]
  },
  {
   "cell_type": "code",
   "execution_count": 612,
   "metadata": {
    "collapsed": false,
    "tags": [
     "worksheet-0"
    ]
   },
   "outputs": [],
   "source": [
    "## clean up quoting.\n",
    "pattern = \"[\\\"\\']\"\n",
    "for k in ['title', 'ingredient_txt', 'url', 'image']:\n",
    "    df[k] = df[k].str.replace(pattern, '')\n",
    "\n",
    "## formatting ingredients.\n",
    "df['ingredient_txt'] = df['ingredient_txt'].str.replace('\\n',' ')\n"
   ]
  },
  {
   "cell_type": "code",
   "execution_count": 592,
   "metadata": {
    "collapsed": false,
    "tags": [
     "worksheet-0"
    ]
   },
   "outputs": [],
   "source": [
    "\n"
   ]
  },
  {
   "cell_type": "code",
   "execution_count": 613,
   "metadata": {
    "collapsed": false,
    "tags": [
     "worksheet-0"
    ]
   },
   "outputs": [],
   "source": [
    "def rm_stopwords(stopwords, x):\n",
    "    return ' '.join([w for w in x.replace('[\\W]', ' ').split() if w not in stopwords])\n",
    "\n"
   ]
  },
  {
   "cell_type": "code",
   "execution_count": 675,
   "metadata": {
    "collapsed": false,
    "tags": [
     "worksheet-0"
    ]
   },
   "outputs": [],
   "source": [
    "df['ingredient_txt_no_stopwords'] = map(lambda x: rm_stopwords(f.get_stop_words(), x), df['ingredient_txt'])\n",
    "\n"
   ]
  },
  {
   "cell_type": "code",
   "execution_count": 676,
   "metadata": {
    "collapsed": false,
    "tags": [
     "worksheet-0"
    ]
   },
   "outputs": [
    {
     "data": {
      "text/plain": [
       "<matplotlib.figure.Figure at 0x7fd84d362650>"
      ]
     },
     "metadata": {},
     "output_type": "display_data"
    },
    {
     "data": {
      "text/plain": [
       "<matplotlib.axes._subplots.AxesSubplot at 0x7fd859e9b810>"
      ]
     },
     "execution_count": 676,
     "metadata": {},
     "output_type": "execute_result"
    }
   ],
   "source": [
    "# Extract features\n",
    "# TODO: remove stopwords before vectorizing, because the stop words don't capture bigrams.\n",
    "\n",
    "vectorizer = CountVectorizer(\n",
    "stop_words='english'\n",
    ", ngram_range=(1, 2)\n",
    ", token_pattern='[A-Za-z]+'\n",
    ", min_df = 10\n",
    ", max_df = 0.25\n",
    ")\n",
    "\n",
    "features = vectorizer.fit_transform(df.ingredient_txt_no_stopwords)\n",
    "## features is a document x term matrix.\n",
    "\n",
    "wc = f.feature_counts(vectorizer, features)\n",
    "\n",
    "wc.sort('count').tail(25).plot('word','count', kind='bar')\n"
   ]
  },
  {
   "cell_type": "code",
   "execution_count": 677,
   "metadata": {
    "collapsed": false,
    "tags": [
     "worksheet-0"
    ]
   },
   "outputs": [
    {
     "name": "stdout",
     "output_type": "stream",
     "text": [
      "Finished running model\n"
     ]
    },
    {
     "name": "stderr",
     "output_type": "stream",
     "text": [
      "WARNING:lda:all zero row in document-term matrix found\n"
     ]
    }
   ],
   "source": [
    "m = lda.LDA(n_topics=40, random_state=0, n_iter=200)\n",
    "m.fit(features)\n",
    "print('Finished running model')\n"
   ]
  },
  {
   "cell_type": "code",
   "execution_count": 597,
   "metadata": {
    "collapsed": false,
    "tags": [
     "worksheet-0"
    ]
   },
   "outputs": [],
   "source": []
  },
  {
   "cell_type": "markdown",
   "metadata": {
    "collapsed": true,
    "tags": [
     "worksheet-0"
    ]
   },
   "source": [
    "# Evaluating the model.\n",
    "## Convergence"
   ]
  },
  {
   "cell_type": "code",
   "execution_count": 678,
   "metadata": {
    "collapsed": false,
    "tags": [
     "worksheet-0"
    ]
   },
   "outputs": [
    {
     "data": {
      "text/plain": [
       "<matplotlib.figure.Figure at 0x7fd84e8fde50>"
      ]
     },
     "metadata": {},
     "output_type": "display_data"
    },
    {
     "data": {
      "text/plain": [
       "<matplotlib.text.Text at 0x7fd84bac57d0>"
      ]
     },
     "execution_count": 678,
     "metadata": {},
     "output_type": "execute_result"
    }
   ],
   "source": [
    "plt.plot(m.loglikelihoods_, '-')\n",
    "plt.title('Loglikelihood')\n"
   ]
  },
  {
   "cell_type": "markdown",
   "metadata": {
    "collapsed": true,
    "tags": [
     "worksheet-0"
    ]
   },
   "source": [
    "# Assessing topics"
   ]
  },
  {
   "cell_type": "code",
   "execution_count": 679,
   "metadata": {
    "collapsed": false,
    "tags": [
     "worksheet-0"
    ]
   },
   "outputs": [],
   "source": [
    "## Extracting topic data.\n",
    "## most probable words by topic.\n",
    "## TODO: check if these are properly sorted within each topic.\n",
    "w = f.most_probable_words(m, vectorizer.get_feature_names(), 10)\n",
    "w.columns = ['rank','topic','word','prob']\n",
    "\n",
    "## most probable documents by topic.\n",
    "# np.apply_along_axis(lambda i: df.iloc[i]['title'], 1, doc_ids)\n",
    "doc_ids = np.argsort(m.doc_topic_, axis=0)[-4:-1,:].T\n",
    "doc_probs = np.sort(m.doc_topic_, axis=0)[-4:-1,:].T\n"
   ]
  },
  {
   "cell_type": "code",
   "execution_count": 680,
   "metadata": {
    "collapsed": false,
    "tags": [
     "worksheet-0"
    ]
   },
   "outputs": [
    {
     "name": "stdout",
     "output_type": "stream",
     "text": [
      "\n",
      "======================================================================\n"
     ]
    },
    {
     "name": "stdout",
     "output_type": "stream",
     "text": [
      "\n",
      "----------------------------------------------------------------------\n",
      " virgin  extra virgin  tomatoes    oil  vinegar  basil  olives   wine  virgin oil\n",
      "  0.068         0.067     0.031  0.023    0.019  0.015   0.015  0.015       0.012\n",
      "======================================================================\n",
      "topic: 37\n",
      "documents:\n",
      "                     Roasted Pork Loin       0.74\n",
      " Spice Rubbed Pork Roast in Beer Gravy   0.721875\n",
      "                Milk Braised Pork Loin  0.6863636\n",
      "1 (2 1/2 pound) boneless pork loin roast, rolled tied 1 1/2 2 vegetable 2 butter 3 milk 1 rosemary 1 garlic, 3-----2 butter 2 garlic, 2 1 oregano 1/2 1/2 flakes 1/2 thyme 1/2 mustard 1 marjoram 1 basil 1 (3 pound) boneless, center-cut pork loin roast 1 1/2 16 beer 3 all-purpose flour 1 1/2 onion-----3 garlic, 1 rosemary 2 boneless pork loin roast 1/4 1/2 wine\n",
      "----------------------------------------------------------------------\n",
      " chops  boneless  pork chops  vinegar  boneless pork  garlic  pound   loin   wine\n",
      " 0.050     0.043       0.038    0.034          0.033   0.029  0.027  0.025  0.025\n",
      "======================================================================\n",
      "topic: 38\n",
      "documents:\n",
      "                           Florentine Fettuccini    0.50625\n",
      " Quiche with Leeks, Mushrooms and Sweet Potatoes  0.5045455\n",
      "                           Fettuccine with Fruit     0.4625\n",
      "1 (16 ounce) box fettuccine 1 pint heavy whipping cream 1/4 butter 6 Parmesan cheese 2 (16 ounce) cans peaches heavy syrup,-----2 1 onion, 1/2 thyme 2 leeks, only, 6 mushrooms, 1/2 sweet potato, 5 eggs 1/3 sour cream 1/2 1 heavy whipping cream 1 Asiago cheese-----18 fettuccine 2 butter 2 1 garlic, 1 spinach, 1 heavy whipping cream 1 1/2 Parmesan cheese 1/4\n",
      "----------------------------------------------------------------------\n",
      " heavy   sour  sour cream  heavy cream  cream cheese  whipping  whipping cream  softened  heavy whipping\n",
      " 0.086  0.068       0.066        0.065         0.032     0.023           0.023     0.023           0.020\n",
      "======================================================================\n",
      "topic: 39\n",
      "documents:\n",
      "                      Sicilian Style Steak  0.6722222\n",
      " Easy Beginner\\u0027s Turkey with Stuffing  0.6714286\n",
      "                Italian Breaded Pork Chops  0.6576923\n",
      "3 eggs, 3 milk 1 1/2 Italian seasoned bread crumbs 1/2 Parmesan cheese 2 parsley 2 4 garlic, 4 pork chops-----12 turkey 1 (6 ounce) package bread stuffing mix 1 1 butter 1 celery 1/4 onion 4 toasted bread, 2 vegetable-----1 Italian seasoned bread crumbs 1 Parmesan cheese 1 seasoned 1 1/2 2 (16 ounce) t-bone steaks\n",
      "----------------------------------------------------------------------\n",
      " crumbs  bread crumbs    egg   eggs  seasoned  italian   milk  seasoned bread  parsley\n",
      "  0.092         0.086  0.037  0.033     0.030    0.022  0.019           0.019    0.018"
     ]
    },
    {
     "name": "stdout",
     "output_type": "stream",
     "text": [
      "\n",
      "======================================================================\n",
      "topic: 33\n",
      "documents:\n",
      "        Easy Coq Au Vin  0.6066667\n",
      "   Classic Veal Marsala   0.565625\n",
      " Hearts of Palm Risotto       0.55\n",
      "1 butter 1 1/2 onion 2/3 Arborio rice 1/4 wine 3 boiling vegetable broth 1/2 hearts palm 1/4 Parmesan cheese 1 parsley 1 butter-----2 1 veal medallions 1 all-purpose flour 1 shallot, 1 mushrooms, 1 Marsala 1 garlic, 2 low-sodium chicken broth 1 low-sodium beef broth 2 unsalted butter-----1 vegetable 1 (4 pound) chicken, 1 1/4 1/4 1 1/2 wine 1 1/2 chicken stock 1 onion 1 cornstarch 1/3\n",
      "----------------------------------------------------------------------\n",
      " broth  chicken broth  stock  sodium    low  vegetable  chicken stock  low sodium  sodium chicken\n",
      " 0.130          0.096  0.036   0.035  0.035      0.028          0.027       0.027           0.019\n",
      "======================================================================\n",
      "topic: 34\n",
      "documents:\n",
      " Asparagus and Mushroom Puff Pastry Pie  0.6238095\n",
      "                        Vegetable Curry      0.605\n",
      "                 Mom\\u0027s Chicken Pie      0.604\n",
      "1 spinach 4 cooked chicken, 1 mushrooms 1 sour cream 1 (17.25 ounce) package frozen puff pastry, thawed 1 egg,-----1/4 butter 2 1/2 onion, 2 carrots, 2 curry 1/2 turmeric 1 flakes 1 head cauliflower, broken florets 2 potatoes, cubed-----1/2 butter 2 bunches asparagus, 1 6 garlic, 1 mushrooms 1 prepared hollandaise sauce 1 (17.25 ounce) package frozen puff pastry, thawed\n",
      "----------------------------------------------------------------------\n",
      " package  thawed  ounce package   peas  package frozen  broccoli    pie  florets    egg\n",
      "   0.048   0.046          0.041  0.038           0.024     0.021  0.019    0.018  0.016\n",
      "======================================================================\n",
      "topic: 35\n",
      "documents:\n",
      "     Pecan Buttermilk Fudge      0.655\n",
      "  Our Favorite Key Lime Pie  0.6368421\n",
      " Pistachio-Crusted Scallops  0.6291667\n",
      "2 unsalted butter 2 unsalted, shelled raw natural pistachios 1 chives 1 tarragon 1 thyme 8 sea scallops (side muscle removed) kosher 1 grapeseed-----11 (2 1/4x4 3/4) graham crackers 2 sugar 1 1/2 cinnamon Pinch kosher 6 unsalted butter, melted-----1 pecans 2 sugar 1 buttermilk 1/2 (1 stick) unsalted butter, 1 honey 1/8 kosher Flaky sea (such Maldon)\n",
      "----------------------------------------------------------------------\n",
      " unsalted butter  kosher    sea  greek  yogurt  stick    cup   salt  stick unsalted\n",
      "           0.054   0.039  0.025  0.022   0.021  0.019  0.019  0.016           0.014\n",
      "======================================================================\n",
      "topic: 36\n",
      "documents:\n",
      " Grilled Salmon with Orzo, Feta, and Red Wine V...  0.8405405\n",
      "                         Cherry Tomato Vinaigrette  0.8142857\n",
      "         Spaghetti with Tuna, Tomatoes, and Olives  0.8135135\n",
      "1 pint cherry tomatoes (preferably Sun Gold), 6 oil-packed Italian Spanish tuna, 1/2 olives, pitted, (about 2 ounces) 1/2 parsley 1 3 extra-virgin oil, 1 kosher salt, 1 spaghetti 1 lemon juice-----1 pint cherry tomatoes 3 oil, 1 shallot, 1 (or more) wine vinegar Kosher salt, 2 chives-----1 1/2 orzo 3 wine vinegar 3 shallots 2 cloves, 1/3 extra-virgin Kosher 2 baby spinach (about 3 packed) 1 1/2 grape tomatoes, 1/2 pine nuts, toasted (see Kitchen Note) 1/4 basil 1 feta cheese (4 ounces) 2 chives,"
     ]
    },
    {
     "name": "stdout",
     "output_type": "stream",
     "text": [
      "\n",
      "======================================================================\n",
      "topic: 29\n",
      "documents:\n",
      "    Bill\\u0027s Beefuna Burgers  0.7318182\n",
      "     Easy French Dip Sandwiches      0.705\n",
      " Easiest Slow Cooker French Dip  0.6863636\n",
      "3 beef sirloin roast 1 (1 ounce) packet au jus mix 1 8 (1 ounce) provolone cheese 8 hoagie rolls, split-----1 (10.5 ounce) beef consomme 1 1 deli roast beef 8 provolone cheese 4 hoagie rolls, split-----1 1/2 round 1 (6 ounce) tuna oil, 1 sweet onion, 3 sweet pickle relish seasoning 6 hamburger buns, split\n",
      "----------------------------------------------------------------------\n",
      " split   buns  roast  steak  hamburger  chuck  hamburger buns  pound  round\n",
      " 0.030  0.028  0.027  0.025      0.021  0.020           0.019  0.017  0.016\n",
      "======================================================================\n",
      "topic: 30\n",
      "documents:\n",
      "      Slow Cooker Beer Pulled Pork  0.7346154\n",
      "               Hunter\\u0027s Roast      0.705\n",
      " Slow Cooker Root Beer Pulled Pork  0.6703704\n",
      "1 (4 pound) pork shoulder roast 1 (12 fluid ounce) bottle root beer 1 (4 fluid ounce) bottle liquid smoke flavoring 4-----4 venison rump roast 2 (12 fluid ounce) cans bottles beer 1 (16 ounce) jar pepperoncini-----1 (5 pound) pork butt roast 2 1 1 onion 1 1 (12 fluid ounce) beer (such Shiner® Bock) 1 (12 ounce) bottle barbeque sauce (such Sweet Baby Rays®)\n",
      "----------------------------------------------------------------------\n",
      " bottle  fluid  ounce bottle  water   beer  fluid ounce  pound  water needed  barbeque\n",
      "  0.055  0.050         0.042  0.040  0.039        0.038  0.029         0.028     0.024\n",
      "======================================================================\n",
      "topic: 31\n",
      "documents:\n",
      "      Sweet Southern BBQ Back Ribs  0.9032787\n",
      "  Cherry-Chipotle Glazed Back Ribs  0.8565789\n",
      " Sweet \\u0026 Spicy St. Louis Ribs  0.8509434\n",
      "Dry Rub: 1/2 light brown sugar 1/2 kosher 1/4 paprika 2 chili 2 1 onion 1 1/4 allspice 1/4 cinnamon 1/8 2 racks Smithfield® Extra Tender St. Louis Pork Spareribs, membrane Handful hickory apple wood chips smoking, soaked (optional) 2 favorite barbecue sauce-----Dry Rub: 1/4 light brown sugar 1 kosher 1 paprika 1 chipotle chile 1 onion 1 1 2 racks Smithfield® Extra Tender Pork Back Ribs, membrane Handful hickory apple wood chips smoking, soaked (optional) 3/4 apple juice, spray bottle Glaze: 1 1/2 ketchup 1/2 light brown sugar 1/2 distilled vinegar, 1 distilled vinegar 1/3 water, 1 1 1/2 Worcestershire sauce 1 1/2 chili 1/2 onion 1/2 1/2 chipotle chile 1/4 1/3 cherry preserves-----Dry Rub: 1/3 light brown sugar, 1 light brown sugar 1 kosher 1 chili 1 1/2 Sauce: 1 ketchup-based barbecue sauce 1/4 honey 2 racks Smithfield® Extra Tender Pork Back Ribs, membrane 3 prepared yellow mustard Handful hickory apple wood chips smoking, soaked (optional)\n",
      "----------------------------------------------------------------------\n",
      " sugar  brown sugar  mustard  ketchup  vinegar  worcestershire  worcestershire sauce  chili  prepared\n",
      " 0.073        0.065    0.046    0.032    0.030           0.025                 0.024  0.016     0.016\n",
      "======================================================================\n",
      "topic: 32\n",
      "documents:\n",
      "        Tandoori Grilled Chicken  0.5611111\n",
      " Paleo Broccoli Rabe and Sausage      0.524\n",
      "               Cretons de Quebec  0.5083333\n",
      "1 pork sausage 2 milk 1 onion 1 garlic, 1 spice-----3 oil, taste, 4 (3.5 ounce) links Italian sausage, 2 garlic, 2 bunches broccoli rabe, 1 lemon zest, 1 pepper, sea 1/2 lemon-----2 yogurt 3 garam masala 2 boneless, skinless chicken breasts 6 pita breads\n",
      "----------------------------------------------------------------------\n",
      " sausage  breasts  chicken breasts  chicken thighs  skinless  thighs  boneless  italian  skinless chicken\n",
      "   0.060    0.041            0.037           0.034     0.034   0.033     0.031    0.029             0.027"
     ]
    },
    {
     "name": "stdout",
     "output_type": "stream",
     "text": [
      "\n",
      "======================================================================\n",
      "topic: 25\n",
      "documents:\n",
      "            Penne with Shrimp  0.8304348\n",
      "               Clams Italiano  0.8142857\n",
      " Fra Diavolo Sauce With Pasta  0.8115385\n",
      "4 oil, 6 garlic, 3 tomatoes liquid, 1 1/2 1 flakes 1 (16 ounce) package linguine pasta 8 shrimp, deveined 8 bay scallops 1 parsley-----1/2 butter 5 garlic, 2 wine 1 oregano 1 parsley 1 flakes (optional) 36 clams shell, scrubbed-----1 (16 ounce) package penne pasta 2 1/4 onion 1 1/4 wine 2 (14.5 ounce) cans tomatoes 1 shrimp, deveined 1 Parmesan cheese\n",
      "----------------------------------------------------------------------\n",
      " garlic  shrimp  package  ounce package  deveined  parmesan  parmesan cheese  tomatoes  shrimp deveined\n",
      "  0.046   0.042    0.037          0.036     0.034     0.033            0.030     0.027            0.021\n",
      "======================================================================\n",
      "topic: 26\n",
      "documents:\n",
      "            Fallen Chocolate Cake  0.8916667\n",
      " Chocolate-Peanut Butter Fun Cake  0.8916667\n",
      "            Homemade Marshmallows  0.8885714\n",
      "Vegetable brushing pan About 1 confectioners sugar coating pan marshmallows 3 (1/4-ounce) envelopes powdered unflavored gelatin 1 1/2 granulated sugar 1 light corn syrup 1/4 2 pure vanilla extract-----1/2 (1 stick) unsalted butter, 1 pieces, more, temperature, pan 3/4 2 sugar, divided, pan 10 semisweet bittersweet chocolate (61%-72% cacao), 2 vegetable 6 eggs 2 natural unsweetened cocoa 1 vanilla extract 3/4 kosher-----Nonstick vegetable spray 1 1/4 all-purpose flour 1 sugar 3/4 natural unsweetened cocoa 1 1/2 kosher 1 baking soda 1/4 vegetable 1 vanilla extract 1/2 semisweet bittersweet chocolate (3 1/2 ounces)\n",
      "----------------------------------------------------------------------\n",
      " flour  unsalted  unsalted butter  baking    egg  vanilla  purpose  purpose flour  extract\n",
      " 0.040     0.034            0.032   0.029  0.027    0.025    0.025          0.024    0.020\n",
      "======================================================================\n",
      "topic: 27\n",
      "documents:\n",
      "            Grilled Cod  0.6238095\n",
      " Garlic Alfredo Tilapia  0.6066667\n",
      " Pan-Fried Swai Fillets      0.605\n",
      "2 flakes 1 seafood seasoning (such Old Bay®) 1 1 cornmeal 4 (4 ounce) fillets swai fish 2 canola 1/4-----4 tilapia fillets 2 1 Creole seasoning, 3 butter 2 garlic, 1 Alfredo sauce-----2 (8 ounce) fillets cod, 1 Cajun seasoning 1/2 lemon 1/4 1/4 2 butter 1 lemon, juiced 2 green onion (white only)\n",
      "----------------------------------------------------------------------\n",
      " seasoning  spray  cooking spray    hot  fillets  hot sauce  cayenne  juiced  paprika\n",
      "     0.054  0.045          0.045  0.037    0.036      0.033    0.029   0.023    0.021\n",
      "======================================================================\n",
      "topic: 28\n",
      "documents:\n",
      " All Protein Meatloaf  0.6166667\n",
      "         Beer Burgers  0.5916667\n",
      "      Salisbury Steak    0.56875\n",
      "3 lean beef 1 1/2 lean pork 1 tomato - peeled, 3 eggs, 1 onion, 2 1 1 1/2-----1 beef 1 onion, 3 garlic, 1 Worcestershire sauce 1 1/4 1/4 beer-----1 1/2 beef 1 Worcestershire sauce 1 (4 ounce) tomato sauce 1/3 fried pork skins 2 eggs 2 1/2 chili 1 1 seasoning\n",
      "----------------------------------------------------------------------\n",
      " tomato   lean  lean beef  worcestershire sauce  worcestershire  tomato sauce  paste  ounce tomato  tomato paste\n",
      "  0.078  0.051      0.040                 0.037           0.035         0.033  0.030         0.029         0.028"
     ]
    },
    {
     "name": "stdout",
     "output_type": "stream",
     "text": [
      "\n",
      "======================================================================\n",
      "topic: 21\n",
      "documents:\n",
      "         How to Cook a Turkey  0.7074074\n",
      "         Heavenly Lamb Shanks  0.6928571\n",
      " Deep-Fried Turkey with Herbs  0.6894737\n",
      "1 (12- 14- pound) turkey, neck giblets 4 5 gallons peanut canola 3 kosher 1 1/2 1 1/2 thyme 1 1/2 rosemary 1 1/2 paprika-----1/2 4 (1 pound) lamb shanks 2/3 all-purpose flour 1 leek, 1/2-inch 2 stalks celery, 2 carrots, 2 onions, chunks 12 garlic, unpeeled 1 bay leaf 1 peppercorns 1 sprig thyme 1 sprig rosemary 1 1/2 wine 3 chicken stock 1 Sea-----1 onion, 1 stalk celery, 1 carrot, 1 (12 pound) turkey, neck giblets 2 kosher 1 1 cayenne 3 butter 4 sprigs rosemary 1/2 sage\n",
      "----------------------------------------------------------------------\n",
      " celery    bay  rosemary  sprigs  stalks  garlic   leaf  pound  bay leaf\n",
      "  0.060  0.038     0.034   0.031   0.024   0.024  0.021  0.021     0.021\n",
      "======================================================================\n",
      "topic: 22\n",
      "documents:\n",
      " Witchs Finger Bread Sticks with Maple Mustard Dip     0.605\n",
      "                  Sweet Potato Shepherd\\u0027s Pie     0.535\n",
      "  Couscous with Roasted Tuscan Inspired Vegetables  0.523913\n",
      "1 (198 g) package Casbah Couscous 2 1/2 Imagine Organic Vegetable Broth 1 (400 g) package Europes Best® Roasted Gourmet Tuscan Inspired Blend 1 Spectrum® Olive Oil 1 garlic, 1 (170 gram) package Yves Veggie Cuisine® Chickn Veggie Tenders 1/3 sun-dried tomatoes 1/4 Italian parsley Salt-----1 1/2 sweet potatoes, 2 soft, non-hydrogenated margarine 1/4 2 Spectrum® Canola Oil 1 (340 gram) package Yves Veggie Cuisine® Original Veggie Ground Round 1 green pepper, 2 garlic, 1 all-purpose flour 1 Imagine® Low Sodium Organic Vegetable Broth 1 combined, Yves Veggie Cuisine® sweet peas, Yves Veggie Cuisine® kernel Golden Corn carrots-----1 1/2 warm (105°F 115°F) 1 sugar 1 (1/4-ounce) package active yeast 4 all-purpose flour 1 1/2\n",
      "----------------------------------------------------------------------\n",
      " roasted  package  yeast   warm    oil   goat  ounce package  goat cheese  angel\n",
      "   0.032    0.030  0.024  0.023  0.022  0.020          0.019        0.018  0.016\n",
      "======================================================================\n",
      "topic: 23\n",
      "documents:\n",
      "     Caramelized Kimchi Relish       0.61\n",
      " Smoked Sausage and Apple Bake  0.5962963\n",
      "   Apple Slow Cooked Beef Ribs  0.5954545\n",
      "2 boneless beef ribs 4 McIntosh apples - cored, peeled, chunks 2 apple juice 2 onions, 1/2 apple cider vinegar 5-----1 smoked sausage, 2 Granny Smith apples - peeled, cored 1/2 cinnamon, 1/2 onion, 1 (16 ounce) sauerkraut, 1/2 heavy cream 1/2 apple brandy-----3 kimchi, 1/4 sugar 1/2 cider vinegar\n",
      "----------------------------------------------------------------------\n",
      " cored  cider      g  vinegar  cider vinegar  apple cider  cabbage   head  peeled\n",
      " 0.051  0.051  0.046    0.044          0.042        0.033    0.031  0.031   0.029\n",
      "======================================================================\n",
      "topic: 24\n",
      "documents:\n",
      "      Phaal  0.8515152\n",
      " Aloo Palak      0.844\n",
      " Sooji Upma  0.8387755\n",
      "1/4 cooking 2 chile peppers, broken 2 cashews 1 skinned split lentils (urad dal) 1 split Bengal gram (chana dal) 1 mustard seed 1 asafoetida 1 onion 3 green chile peppers, rings 1 sprig curry 4 1 tomato, 1 ginger root 2 semolina (sooji rava) 3 lime juice, 2 ghee (clarified butter)-----2 peanut 1 cumin seeds 1 mustard seeds 2 chile peppers, 6 curry 1/2 turmeric 1 asafoetida 2 cubed potatoes 2 1 peanut 6 spinach 1/2 1/2 cumin-----2 tomatoes, 1/4 10 garlic, 2 ginger root 1 tomato puree 1 3 ghost chile peppers, (use gloves) 2 chili 2 garam masala 1 1/2 cumin 1 1/2 coriander 1 fenugreek 2 cubed lamb 1/4 clarified butter (ghee) 1 onion, 1 cilantro,\n",
      "----------------------------------------------------------------------\n",
      " curry  garlic  vegetable  ginger  cayenne  paste  coconut  turmeric  cilantro\n",
      " 0.030   0.026      0.026   0.022    0.021  0.021    0.020     0.019     0.018"
     ]
    },
    {
     "name": "stdout",
     "output_type": "stream",
     "text": [
      "\n",
      "======================================================================\n",
      "topic: 17\n",
      "documents:\n",
      "                        Rotisserie Chicken  0.5545455\n",
      "                      Lovely Lemon Chicken       0.55\n",
      " Slow Cooker Green Beans, Ham and Potatoes       0.55\n",
      "6 bone-in, skin-on chicken breast halves 4 lemons, 1 1 2 2 onion 2 paprika 2 1/2 water, 1 cube chicken bouillon-----2 green beans, rinsed 1 onion, 3 ham hocks 1 1/2 new potatoes, 1 1 onion 1 seasoning 1 chicken bouillon granules-----1 (3 pound) chicken 1 1/4 butter, melted 1 1 paprika 1/4\n",
      "----------------------------------------------------------------------\n",
      "  size   bite  bouillon  bite size  chunks  pound  carrots  potatoes   bone\n",
      " 0.042  0.041     0.040      0.033   0.032  0.030    0.027     0.023  0.023\n",
      "======================================================================\n",
      "topic: 18\n",
      "documents:\n",
      " Halibut Confit with Leeks, Coriander, and Lemon  0.7774194\n",
      "                           Tomatillo Salsa Verde  0.7666667\n",
      "                     Chilaquiles with Fried Eggs  0.7457143\n",
      "7 guajillo New Mexico chiles 1 28-ounce tomatoes, 1 onion, (1 1/2 cups) 5 cloves, 1 jalapeño, seeds, 1/8 smoked Hungarian sweet paprika 2 vegetable 2 honey Kosher salt,-----1 rinsed husked tomatillos 1/2 onion 1 smashed 1 serrano chile (seeds desired) 1/4 cilantro tender stems Salt-----1 coriander seeds, 4 leeks, pale-green only, lengthwise, crosswise 2 8 sprigs cilantro, 2 pieces, 1 1 lemon, sliced, seeds Kosher 1 3-pound skinless halibut fillet,\n",
      "----------------------------------------------------------------------\n",
      " seeds   salt  cloves  kosher salt  fennel  chiles  vegetable    oil  jalape\n",
      " 0.041  0.035   0.027        0.025   0.021   0.018      0.013  0.013   0.013\n",
      "======================================================================\n",
      "topic: 19\n",
      "documents:\n",
      " Chocolate-Covered Strawberry Shake  0.6821429\n",
      "              Sumptuous Berry Shake  0.6806452\n",
      "                   Sunrise Smoothie  0.6783784\n",
      "1/4 & 1 packet No Sugar Added Classic French Vanilla Flavor CARNATION BREAKFAST ESSENTIALS® Complete Nutritional Drink 1/4 flavor sugar-free low-calorie soft drink mix (such Crystal Light)-----1 packet Classic French Vanilla Flavor CARNATION BREAKFAST ESSENTIALS® Complete Nutritional Drink 1/2 instant oatmeal 1/4 blueberries 1/4 strawberries 1/4 blackberries 1 carton (small) yogurt-----1 frozen strawberries 1 packet No Sugar Added Rich Milk Chocolate Flavor CARNATION BREAKFAST ESSENTIALS® Complete Nutritional Drink\n",
      "----------------------------------------------------------------------\n",
      " dijon  dijon mustard  needed    oil  oil needed  maple  maple syrup  grams  syrup\n",
      " 0.071          0.065   0.055  0.044       0.032  0.030        0.026  0.026  0.025\n",
      "======================================================================\n",
      "topic: 20\n",
      "documents:\n",
      "                        Easy Garlic-Lemon Scallops  0.6454545\n",
      " Escarole and Butter Lettuce Salad with Pomegra...  0.6393939\n",
      "                               Corpse Reviver 3000    0.63125\n",
      "3/4 Tenneyson Absinthe Royale blanche absinthe 3/4 St-Germain elderflower liqueur 3/4 orange liqueuer (we used Paulas Texas Orange; Cointreau works well) 3/4 squeezed lemon juice Orange coin,-----1/4 Champagne vinegar wine vinegar 1/4 orange juice 1 1/2 lemon juice 1 lime juice 1 lemon peel 1 lime peel 1 orange peel 1/2 grapeseed-----3/4 butter 3 2 sea scallops 1 1/8 2 lemon juice\n",
      "----------------------------------------------------------------------\n",
      " juice  lemon juice  orange   zest  orange juice  lemon zest  juice lemon  parsley   peel\n",
      " 0.159        0.111   0.058  0.039         0.026       0.021        0.011    0.010  0.010"
     ]
    },
    {
     "name": "stdout",
     "output_type": "stream",
     "text": [
      "\n",
      "======================================================================\n",
      "topic: 13\n",
      "documents:\n",
      "                      Pizza Pinwheels      0.805\n",
      " Spinach and Cheese Stuffed Manicotti  0.7864865\n",
      "             Campfire Pepperoni Pizza    0.75625\n",
      "1 refrigerated pizza dough 1/4 pizza sauce 1/2 mozzarella cheese 1/2 pepperoni-----2 (16 ounce) packages mozzarella cheese 28 manicotti shells 2 (16 ounce) packages frozen spinach, thawed 1 (16 ounce) jar Alfredo sauce 1 (8 ounce) package Parmesan cheese 2 (16 ounce) jars spaghetti sauce-----1 (8 ounce) refrigerated crescent roll dough 2 mozzarella cheese 24 pepperoni 1 (14 ounce) pizza sauce\n",
      "----------------------------------------------------------------------\n",
      " ounce package  container  ounce container  mozzarella  ounce jar  spinach    jar  mozzarella cheese  pizza\n",
      "         0.079      0.029            0.028       0.025      0.024    0.024  0.023              0.021  0.021\n",
      "======================================================================\n",
      "topic: 14\n",
      "documents:\n",
      " Overnight Slow Cooker Oatmeal  0.8227273\n",
      "              Homemade Granola  0.8185185\n",
      "              A Better Granola  0.8184211\n",
      "1 egg 3 old-fashioned oats 1 1/2 nuts (such almonds, pistachios, pecans, walnuts) 1 1/2 coconut shavings 1/2 agave syrup 1/4 warmed coconut 1/4 sesame seeds 2 (packed) light brown sugar 1 1/2 kosher 1/2 cinnamon 1 cherries cranberries-----5 old-fashioned oats 1 brown sugar 1 flaked coconut 1 wheat germ 1 cinnamon 1 nutmeg 1/2 1/2 vegetable 1 vanilla extract 1/2 raisins 1/2 almonds-----2 1/2 2 almond milk 1 applesauce (optional) 1 steel-cut oats 1 cherries, 3 brown sugar (optional) 1 vanilla 1 cinnamon\n",
      "----------------------------------------------------------------------\n",
      " cinnamon  brown  brown sugar  almonds  coconut  nutmeg  packed  optional   oats\n",
      "    0.041  0.038        0.032    0.019    0.019   0.016   0.016     0.014  0.013\n",
      "======================================================================\n",
      "topic: 15\n",
      "documents:\n",
      "                             PG-13 Singapore Sling  0.7705882\n",
      "                                           Mai Tai      0.764\n",
      " Grapefruit-Campari Granita with Vanilla Whippe...  0.7421053\n",
      "2 ruby pink grapefruit juice, 6 sugar 2/3 Campari 1 (packed) ruby pink grapefruit peel 4 ruby pink grapefruits-----1 silver gold rum 3/4 lime juice 1/2 aged rum 1/2 orange Curaçao premium triple sec 1/2 orgeat (almond) syrup 1/4 simple syrup Float dark Jamaican rum (optional) Mint sprig,-----3/4 pomegranate juice 1/2 mango juice 1/2 pineapple juice 2 lime juice 2-3 tonic\n",
      "----------------------------------------------------------------------\n",
      "   fat   lime  lime juice  reduced   free  fat free  reduced fat    low  low fat\n",
      " 0.074  0.069       0.049    0.023  0.023     0.021        0.020  0.017    0.017\n",
      "======================================================================\n",
      "topic: 16\n",
      "documents:\n",
      " Italian Marinated Chicken      0.764\n",
      "   Easy Italian Chicken II  0.7541667\n",
      "  Italian Chicken Marinade  0.7434783\n",
      "1 (16 ounce) bottle Italian-style salad dressing 1 1 4 skinless, boneless chicken breast halves-----6 skinless, boneless chicken breast halves 1 (16 ounce) bottle Italian-style salad dressing-----4 skinless, boneless chicken breast halves 1 (16 ounce) bottle Italian-style salad dressing 1/3 vegetable\n",
      "----------------------------------------------------------------------\n",
      " breast  boneless  chicken breast  skinless  boneless chicken  skinless boneless  halves  breast halves  dressing\n",
      "  0.091     0.088           0.088     0.087             0.084              0.083   0.078          0.074     0.013"
     ]
    },
    {
     "name": "stdout",
     "output_type": "stream",
     "text": [
      "\n",
      "======================================================================\n",
      "topic: 9\n",
      "documents:\n",
      "     Tuna Casserole III     0.8375\n",
      "      Pot Roast in Foil  0.7947368\n",
      " Tater Tot Casserole II  0.7909091\n",
      "1 beef 1 1 (32 ounce) package tater tots, thawed 1 (10.75 ounce) condensed cream mushroom soup 1 (10.75 ounce) condensed cream celery soup 1 (10.75 ounce) milk 1-----3 round 1 (10.75 ounce) condensed cream mushroom soup 1 packet onion soup mix 2-----2 (10.75 ounce) cans condensed cream mushroom soup 2 (6 ounce) cans tuna, flaked 7 potato chips\n",
      "----------------------------------------------------------------------\n",
      " cream  condensed  ounce condensed  condensed cream  mushroom  mushroom soup  cream mushroom  ounce package  package\n",
      " 0.063      0.057            0.043            0.043     0.033          0.030           0.028          0.026    0.023\n",
      "======================================================================\n",
      "topic: 10\n",
      "documents:\n",
      "          Cheese Lasagna  0.8741935\n",
      " Skillet Spinach Lasagna  0.8607143\n",
      "               Manicotti  0.8555556\n",
      "1 pint part-skim ricotta cheese 8 mozzarella cheese 3/4 Parmesan cheese 2 eggs 1 parsley 1 (16 ounce) jar spaghetti sauce 5 1/2 manicotti pasta-----1 Italian sausage roll 8 lasagna noodles, broken 1 (28 ounce) tomatoes 1 (8 ounce) tomato sauce 2 spinach 1/2 ricotta cheese 4 mozzarella cheese, 1/4 Parmesan cheese-----1 (16 ounce) package lasagna noodles 4 ricotta cheese 1/4 Parmesan cheese 4 eggs 1 3 garlic, 1 (32 ounce) jar spaghetti sauce 1 Italian seasoning 2 mozzarella cheese\n",
      "----------------------------------------------------------------------\n",
      " parmesan cheese  basil  mozzarella  mozzarella cheese  italian  oregano  tomatoes  garlic  pasta\n",
      "           0.052  0.038       0.037              0.035    0.033    0.022     0.021   0.020  0.018\n",
      "======================================================================\n",
      "topic: 11\n",
      "documents:\n",
      "             Roasted Potatoes, Onions, and Carrots  0.6166667\n",
      "                    Heaven-and-Earth Tempura Cakes   0.596875\n",
      " Roasted New Potatoes with Red Onion, Garlic, a...  0.5954545\n",
      "4 pancetta (Italian bacon), 3 1/2 1 1/2-inch-diameter baby potatoes 3 1 1/2 onion 8 cloves, 2 Italian parsley-----1/2 onion, stem end make crescent shapes (about 1/3 cup) 1 cornstarch Scant 1/3 julienne-cut carrot peels (1-inch strips; 3 ounces) Scant 1/3 julienne-cut Japanese-style sweet potato sweet potato peels (1-inch strips; 2 1/2 ounces)-----1 1/2 potatoes, 3 onions, 1/2-inch (keep root ends intact) 6 carrots, diagonally 1-inch 8 shallots, 6 Salt\n",
      "----------------------------------------------------------------------\n",
      "  half  potatoes  sweet  squash  onions  strips  peeled  half half  yellow\n",
      " 0.034     0.029  0.028   0.026   0.017   0.016   0.015      0.015   0.014\n",
      "======================================================================\n",
      "topic: 12\n",
      "documents:\n",
      "    Japanese Broiled Mackerel  0.7666667\n",
      "  Japanese-Style Grilled Fish    0.75625\n",
      " Sweet and Sour Sicilian Tuna  0.7214286\n",
      "3 1 onion, chunks 4 tuna steaks 1 wine vinegar 1 sugar-----1/4 soy sauce 1/4 sake wine 1/4 mirin sweet sherry 2 sugar 2 ginger-----4 mackerel fillets 1/4 soy sauce 1/4 mirin (Japanese sweet wine) 1 sugar 1/2 ginger root\n",
      "----------------------------------------------------------------------\n",
      " soy sauce  sugar  ginger  garlic  pineapple   wine  honey  brown  cornstarch\n",
      "     0.078  0.039   0.034   0.029      0.028  0.027  0.025  0.021       0.021"
     ]
    },
    {
     "name": "stdout",
     "output_type": "stream",
     "text": [
      "\n",
      "======================================================================\n",
      "topic: 5\n",
      "documents:\n",
      "  Leftover Turkey Cheesecake       0.57\n",
      "   Luxe Truffle Deviled Eggs  0.5666667\n",
      " Devilish Green Eggs and Ham  0.5666667\n",
      "1 dozen hard-cooked eggs-----1 dozen hard-cooked eggs-----1 leftover stuffing 1 leftover turkey gravy 4 cream cheese, softened 4 ricotta cheese 2 eggs 3 leftover turkey gravy 1 1/2 leftover roast turkey, and/or dark meat, 1 cranberry sauce\n",
      "----------------------------------------------------------------------\n",
      " bacon  turkey  chipotle  yellow    mix  adobo  yellow onion   eggs  potatoes\n",
      " 0.045   0.033     0.025   0.023  0.022  0.021         0.018  0.017     0.015\n",
      "======================================================================\n",
      "topic: 6\n",
      "documents:\n",
      "                           Pork Picadillo  0.7088235\n",
      " Cheese Ravioli with Three Pepper Topping  0.6703704\n",
      "          Bob\\u0027s Sweet Pepper Skillet      0.644\n",
      "2 extra-virgin 2 sesame 3 green bell peppers, 1 yellow bell pepper, 1 bell pepper, 1 onion, 2 1/4 1/4-----1 cheese ravioli 3 1 onion, 1 green bell pepper, 1/2 bell pepper, 1/2 yellow bell pepper, 2 chicken broth, 1/4 flakes-----2 1 onion, 2 garlic, 2 1/2 pork 1 yellow bell pepper, strips 1 green bell pepper, strips 1 bell pepper, strips 1 (1.5 ounce) box raisins 1 spinach,\n",
      "----------------------------------------------------------------------\n",
      " pepper  green  bell pepper  green bell  peppers  onion green  strips  bell peppers  garlic\n",
      "  0.105  0.096        0.082       0.065    0.029        0.023   0.022         0.022   0.019\n",
      "======================================================================\n",
      "topic: 7\n",
      "documents:\n",
      "                   Pot-Roasted Artichokes  0.7318182\n",
      "                       Fregola with Clams  0.7275862\n",
      " Grilled Rib Eye with Paprika Vinaigrette  0.7190476\n",
      "1/2 vegetable 2 paprika 1 shallot, 1/3 capers 1/4 flat-leaf parsley 2 wine vinegar 1 flakes Kosher-----1 1/2 fregola (about 10 ounces) Kosher 1/2 oil, drizzling 2 cloves, 1 flakes 1/2 wine 24 littleneck clams, scrubbed 2 flat-leaf parsley 1/2 lemon zest-----1 lemon, 3 1/2 baby artichokes (about 18) 1/4 2 cloves, Kosher 1 1/2 wine (such Sauvignon Blanc) 1 capers 1/4 mint 2 flat-leaf parsley\n",
      "----------------------------------------------------------------------\n",
      "  flat   leaf  flat leaf  leaf parsley   wine  kosher  mushrooms  stems   plum\n",
      " 0.040  0.039      0.036         0.034  0.027   0.026      0.025  0.022  0.019\n",
      "======================================================================\n",
      "topic: 8\n",
      "documents:\n",
      "            Salmon with Dill      0.675\n",
      "       Pan-Fried Wild Salmon  0.6454545\n",
      " Flash Baked Walleye Fillets    0.63125\n",
      "3 clarified butter, melted 4 (4 ounce) fillets walleye fillets, 1/2 lemon 1/2 basil-----2 (3 ounce) fillets salmon, skin sea 2-----1 salmon fillets steaks 1/4 1/2 1 onion 1 dill weed 2 butter\n",
      "----------------------------------------------------------------------\n",
      " salmon  fillets  uncooked  grain   long   dill  long grain  grain rice  salmon fillets\n",
      "  0.052    0.050     0.046  0.039  0.037  0.032       0.028       0.028           0.019"
     ]
    },
    {
     "name": "stdout",
     "output_type": "stream",
     "text": [
      "\n",
      "======================================================================\n",
      "topic: 1\n",
      "documents:\n",
      " Macaroni and Cheese Southern Style  0.7421053\n",
      "      Microwave Macaroni and Cheese  0.7214286\n",
      "          Quick Macaroni and Cheese  0.7190476\n",
      "1 elbow macaroni 1/4 milk 1 (20 ounce) package frozen macaroni cheese 1/8 1 1/2 Cheddar cheese 3 Parmesan cheese-----8 macaroni 2 butter 2 1/2 onion 16 cubed processed cheese food 3/4 milk-----1 (7.25 ounce) package macaroni cheese mix 1 1/4 evaporated milk 2 eggs 8 Cheddar cheese, 1/2 butter, -\n",
      "----------------------------------------------------------------------\n",
      " cheddar cheese   milk  cubed  cooked  sharp  ounce package  sharp cheddar  package  macaroni\n",
      "          0.082  0.040  0.033   0.031  0.025          0.023          0.023    0.023     0.023\n",
      "======================================================================\n",
      "topic: 2\n",
      "documents:\n",
      "                   Asian Barbecue Burgers  0.8115385\n",
      " Super-Simple, Super-Spicy Mongolian Beef  0.8115385\n",
      "                           Spicy Eggplant  0.7965517\n",
      "2 vegetable 4 Japanese eggplants, 1-inch 2 vegetable 2 onions, 1 2 soy sauce 2 1 1/2 oyster sauce 1 chili sauce 1 sugar 1/2 Asian (toasted) sesame-----1 beef 1/4 green onion 2 hoisin sauce 1 Asian-style Sriracha chile-garlic sauce 1 Asian (toasted) sesame 1/2 1/2 flakes, 1/4 ginger-----1/4 soy sauce 1 hoisin sauce 1 sesame 2 sugar 1 1 flakes (optional) 1 beef flank steak, 1 peanut 2 green onions,\n",
      "----------------------------------------------------------------------\n",
      " soy sauce    soy  green   rice  ginger  sugar  onions  green onions  vegetable\n",
      "     0.038  0.037  0.034  0.033   0.024  0.023   0.022         0.021      0.019\n",
      "======================================================================\n",
      "topic: 3\n",
      "documents:\n",
      "               Sweet, Salty, and Sour Marinade  0.7131579\n",
      "                            Taqueria Guacamole  0.6722222\n",
      " Pork and Lemongrass Meatballs in Lettuce Cups  0.6703704\n",
      "1 pork 1 lemongrass stalk, 5 inches only, smashed rolling pin, 1/4 shallots 2 cilantro 2 fish sauce (such nam pla nuoc nam) 2 cloves, 1 vegetable 1 sugar 1/2-----2 ripe avocados, halved, pitted, peeled, 2 lime juice Kosher 2 cilantro-----3 palm sugar, chopped, 6 1/2 light brown sugar 1/2 lime juice 1/2 fish sauce (such nam pla nuoc nam) 1/2 cilantro 2 ginger 4 Thai chiles 6 Fresno chiles, 3 lemongrass (from 4 2 stalks)\n",
      "----------------------------------------------------------------------\n",
      " cilantro  peeled  juice  lime juice  juiced  piece   inch  jalapeno  pitted\n",
      "    0.048   0.028  0.027       0.024   0.022  0.021  0.018     0.017   0.015\n",
      "======================================================================\n",
      "topic: 4\n",
      "documents:\n",
      "                Taco Bake II  0.8627907\n",
      " Mexican Shepherd\\u0027s Pie  0.8627907\n",
      "            Black Bean Tacos  0.8447368\n",
      "1 1 onion, 1 (15 ounce) beans, rinsed 1 (7 ounce) green salsa (salsa verde) 1/2 1/2 chili 1/2 cumin 6 taco shells (optional) 2 Mexican cheese blend (optional) 1 tomato, (optional) 1 avocado, (optional) 1 lettuce (optional)-----1 1/2 lean beef 1 (14.5 ounce) tomatoes green chile peppers, 1/2 1 sour cream 1 (1.25 ounce) package taco seasoning mix 8 Colby-Monterey Jack cheese 1 (18 ounce) package corn tortilla chips-----1 1/2 beef 1 onion, 1 (14.5 ounce) tomatoes 1 (1.25 ounce) package taco seasoning mix 3/4 hot 1 (11 ounce) kernel corn, 1 (8.5 ounce) package corn muffin mix 1 Cheddar cheese (optional) 1 (2.25 ounce) olives (optional)\n",
      "----------------------------------------------------------------------\n",
      "  corn  tortillas  green   jack  jack cheese   inch  salsa  chili  cheddar\n",
      " 0.030      0.026  0.025  0.019        0.017  0.017  0.017  0.016    0.015"
     ]
    },
    {
     "name": "stdout",
     "output_type": "stream",
     "text": [
      "======================================================================\n",
      "topic: 0\n",
      "documents:\n",
      "        County Fair Corn Dogs       0.77\n",
      "    Brown Diner Fried Chicken  0.7421053\n",
      " German-Russian-Dakota Knefla    0.69375\n",
      "2 all-purpose flour 1 baking 1 1/4 1 egg 1/4 milk 2 vegetable 3 potatoes,-----3 peanut frying 2 all-purpose flour 1 onion 1 paprika, 1 1/2 milk 1 egg 1 fryer chicken,-----10 beef frankfurters 1/2 all-purpose flour dusting 2/3 cornmeal 1/3 all-purpose flour 2 corn flour (optional) 1 1 cayenne 1 egg 2 corn 1/2 1 quart vegetable frying\n",
      "----------------------------------------------------------------------\n",
      " purpose  purpose flour   milk  vegetable  frying  butter purpose   eggs  flour milk    egg\n",
      "   0.136          0.134  0.036      0.033   0.026           0.019  0.019       0.014  0.014"
     ]
    }
   ],
   "source": [
    "\n",
    "# I AM HERE: why are some stop words not beeing removed? like 'pound' in topic 3 below.\n",
    "\n",
    "reload(f)\n",
    "f.show_topics(m, df, doc_probs, doc_ids, w)"
   ]
  },
  {
   "cell_type": "code",
   "execution_count": 276,
   "metadata": {
    "collapsed": false,
    "tags": [
     "worksheet-0"
    ]
   },
   "outputs": [
    {
     "data": {
      "text/plain": [
       "<matplotlib.figure.Figure at 0x7fd84c6f5210>"
      ]
     },
     "metadata": {},
     "output_type": "display_data"
    }
   ],
   "source": [
    "# Plotting word distributions for each topic.\n",
    "wb = f.most_probable_words(m, vectorizer.get_feature_names(), 10)\n",
    "wb.columns = ['rank','topic','word','prob']\n",
    "\n",
    "## make figure of word distributions for each topic.\n",
    "g = sns.FacetGrid(wb, col='topic', col_wrap=10)\n",
    "p = g.map(sns.barplot, 'word', 'prob')\n",
    "## save figure for easier viewing.\n",
    "p.savefig('word_dist_by_topic.png')\n",
    "\n",
    "## TODO: figure out way of examining probs of words in relation to topic coherence:\n",
    "## high average prob?\n",
    "\n",
    "## make figure of document distributions for each topic.\n",
    "## for each topic, show distribution of documents.\n",
    "\n",
    "\n",
    "\n"
   ]
  },
  {
   "cell_type": "code",
   "execution_count": null,
   "metadata": {
    "collapsed": false,
    "tags": [
     "worksheet-0"
    ]
   },
   "outputs": [],
   "source": [
    "## examine topics:\n",
    "## 14: one very probable word.\n",
    "## 32: many very probable words.\n",
    "## 30: no very probable words.\n",
    "\n",
    "\n"
   ]
  },
  {
   "cell_type": "code",
   "execution_count": 144,
   "metadata": {
    "collapsed": false,
    "tags": [
     "worksheet-0"
    ]
   },
   "outputs": [],
   "source": [
    "## TODO: store one set of results for each run.\n",
    "\n",
    "\n",
    "## massage document ids and probabilities into form suitable for database.\n",
    "di = pd.DataFrame(doc_ids)\n",
    "di['topic'] = di.index\n",
    "di = pd.melt(di, id_vars='topic')\n",
    "di.columns = ['topic','rank','recipe_key']\n",
    "\n",
    "dp = pd.DataFrame(doc_probs)\n",
    "dp['topic'] = dp.index\n",
    "dp = pd.melt(dp, id_vars='topic')\n",
    "dp.columns = ['topic','rank','prob']\n",
    "\n",
    "dd = pd.merge(di, dp)\n",
    "dd.to_sql('doc_prob', con, if_exists='replace')\n",
    "\n",
    "# store recipes\n",
    "df['key'] = df.index\n",
    "df.to_sql('clean_recipes', con, if_exists='replace')\n",
    "\n",
    "# store words\n",
    "w.columns = ['rank','topic','word','prob']\n",
    "w.to_sql('word_probs', con, if_exists='replace')\n"
   ]
  },
  {
   "cell_type": "code",
   "execution_count": 285,
   "metadata": {
    "collapsed": false,
    "tags": [
     "worksheet-0"
    ]
   },
   "outputs": [
    {
     "name": "stdout",
     "output_type": "stream",
     "text": [
      "topics with low word probs.\n",
      "topic: 5\n",
      "                                          title      prob\n",
      "31                       Fruit and Nut Pancakes  0.816667\n",
      "27   Coconut Macaroon Sandwiches with Lime Curd  0.821212\n",
      "116                        Joyce\\u0027s Granola  0.823077\n",
      "topic: 8\n",
      "                                        title      prob\n",
      "71      Spicy Coconut and Lime Grilled Shrimp  0.638636\n",
      "98  Garlic, Cilantro, and Lime Sauteed Shrimp  0.669697\n",
      "51                  Spicy Lime Grilled Shrimp  0.684000\n",
      "topic: 16\n",
      "                                                title      prob\n",
      "25       Chocolate-Dipped Salted Caramel Marshmallows  0.765278\n",
      "34  Maple-Gingerbread Layer Cake with Salted Maple...  0.811538\n",
      "5                        Bourbon-Vanilla Marshmallows  0.816279\n",
      "topic: 18\n",
      "                                title      prob\n",
      "78          Rajma (Kidney Bean Curry)  0.743299\n",
      "43  Indian Chicken Curry (Murgh Kari)  0.753608\n",
      "55           Indian Dahl with Spinach  0.762000\n",
      "topic: 30\n",
      "                             title      prob\n",
      "26         Charred Tomatillo Salsa  0.771795\n",
      "8   Thai Celery Salad with Peanuts  0.801818\n",
      "11           Tomatillo Salsa Verde  0.813514\n",
      "================================================================================\n",
      "topics with one high word prob.\n",
      "================================================================================\n",
      "topic: 1\n",
      "                                     title      prob\n",
      "29                              Bún Bò Hue  0.452500\n",
      "103  Classic Smoked Sausage \\u0026 Peppers  0.474545\n",
      "113                             Dinengdeng  0.526190\n",
      "topic: 4\n",
      "                                                title      prob\n",
      "94                              Manicotti Pancakes II  0.700000\n",
      "33  Witchs Finger Bread Sticks with Maple Mustard Dip  0.703333\n",
      "21                           Fried Chicken with Gravy  0.724000\n",
      "topic: 9\n",
      "                     title      prob\n",
      "99           Messy Burgers  0.432143\n",
      "39  Cabbage Roll Casserole  0.460000\n",
      "57    Best Ever Meatloaf I  0.467857\n",
      "topic: 14\n",
      "                  title      prob\n",
      "22   Blue Crab Beignets  0.360714\n",
      "16  Arugula Salsa Verde  0.360937\n",
      "79      Filipino Lumpia  0.391667\n",
      "topic: 21\n",
      "                                               title      prob\n",
      "23               Pea, Asparagus, and Fava Bean Salad  0.383951\n",
      "28                           Scallops à La Provençal  0.427941\n",
      "9   Fava Bean and Pea Salad with Poppy Seed Dressing  0.428000\n"
     ]
    }
   ],
   "source": [
    "\n",
    "xx = pd.merge(df, dd, left_on='key', right_on='recipe_key', how='right')\n",
    "\n",
    "## topics with low word probs.\n",
    "## but, they seem pretty good.\n",
    "print 'topics with low word probs.'\n",
    "for n, g in xx[xx['topic'].isin([5,8,16,18,30])].groupby('topic'):\n",
    "    print 'topic: %s' % n\n",
    "    print g[['title','prob']].sort('prob').to_string()\n",
    "\n",
    "##\n",
    "print '='*80\n",
    "print 'topics with one high word prob.'\n",
    "print '='*80\n",
    "for n, g in xx[xx['topic'].isin([1,4,9,14,21])].groupby('topic'):\n",
    "    print 'topic: %s' % n\n",
    "    print g[['title','prob']].sort('prob').to_string()\n",
    "\n",
    "\n"
   ]
  },
  {
   "cell_type": "code",
   "execution_count": 469,
   "metadata": {
    "collapsed": false,
    "tags": [
     "worksheet-0"
    ]
   },
   "outputs": [
    {
     "data": {
      "text/plain": [
       "<matplotlib.figure.Figure at 0x7fd84c3fbe90>"
      ]
     },
     "metadata": {},
     "output_type": "display_data"
    },
    {
     "data": {
      "text/plain": [
       "<matplotlib.axes._subplots.AxesSubplot at 0x7fd84f99d750>"
      ]
     },
     "execution_count": 469,
     "metadata": {},
     "output_type": "execute_result"
    }
   ],
   "source": [
    "## relationship between doc prob and length:\n",
    "dpa = pd.DataFrame({'max_prob':np.max(m.doc_topic_, axis=1), 'topic':np.argmax(m.doc_topic_, axis=1)})\n",
    "dpa = df.join(dpa)\n",
    "dpa['ingredient_len'] = dpa['ingredient_txt'].str.len()\n",
    "\n",
    "dpa.plot('ingredient_len', 'mdpa_prob', kind='scatter')\n",
    "\n",
    "# g = sns.FacetGrid(dpa, col='topic', col_wrap=10)\n",
    "# p = g.map(sns.barplot, 'word', 'prob')\n",
    "# ## save figure for easier viewing.\n",
    "# p.savefig('word_dist_by_topic.png')\n",
    "\n"
   ]
  },
  {
   "cell_type": "code",
   "execution_count": 286,
   "metadata": {
    "collapsed": false,
    "tags": [
     "worksheet-0"
    ]
   },
   "outputs": [
    {
     "name": "stdout",
     "output_type": "stream",
     "text": [
      "\n",
      "======================================================================\n",
      "topic: 39\n",
      "documents:\n",
      "        Sesame Seared Tuna  0.8204545\n",
      " Japanese Broiled Mackerel  0.8096774\n",
      "          Kung Pao Chicken      0.805\n",
      " 1 tablespoon soy sauce 2 teaspoons Chinese rice wine or dry sherry 1 1/2 teaspoons cornstarch -----4 mackerel fillets 1/4 cup soy sauce 1/4 cup mirin (Japanese sweet wine) 1 tablespoon white sugar 1/2 tablespoon grated fresh ginger root-----1/4 cup soy sauce 1 tablespoon mirin (Japanese sweet wine) 1 tablespoon honey 2 tablespoons sesame oil 1 tablespoon rice wine vinegar 4 (6 ounce) tuna steaks 1/2 cup sesame seeds wasabi paste 1 tablespoon olive oil\n",
      "----------------------------------------------------------------------\n",
      " soy sauce  minced  ginger  sesame  sugar  teaspoons  fresh ginger  cup soy  sauce tablespoons\n",
      "     0.040   0.022   0.020   0.020  0.016      0.014         0.013    0.012              0.012\n",
      "======================================================================\n"
     ]
    },
    {
     "name": "stdout",
     "output_type": "stream",
     "text": [
      "\n",
      "======================================================================\n",
      "topic: 35\n",
      "documents:\n",
      "                                            BLT  0.8227273\n",
      " Amy\\u0027s Triple Decker Turkey Bacon Sandwich       0.77\n",
      "                         Grilled Cheese De Mayo  0.7666667\n",
      "1 tablespoon mayonnaise, divided 2 slices white bread 2 slices American cheese 1 slice pepperjack cheese-----2 slices white bread 1/4 cup mayonnaise 3 lettuce leaves 1 tomato, thinly sliced 3 slices turkey bacon 3 slices Cheddar cheese-----4 slices bacon 2 leaves lettuce 2 slices tomato 2 slices bread, toasted 1 tablespoon mayonnaise\n",
      "----------------------------------------------------------------------\n",
      " bacon  bread  slices bacon  split  mayonnaise    ham   inch  cooked  inch slices\n",
      " 0.042  0.036         0.018  0.014       0.012  0.012  0.012   0.011        0.010\n",
      "======================================================================\n",
      "topic: 36\n",
      "documents:\n",
      "        Whole Wheat Pasta Marinara  0.7527778\n",
      " Penne with Pancetta and Mushrooms  0.7468085\n",
      "                       Pastachutta  0.7178571\n",
      "1 (16 ounce) package spaghetti 1/4 cup butter 4 cloves garlic, thinly sliced 1 (8 ounce) package fresh mushrooms, sliced 1 onion, chopped salt and pepper to taste-----1 (12 ounce) package penne pasta 1 (3 ounce) package pancetta bacon, diced 2 tablespoons butter 1 (10 ounce) package sliced mushrooms 1 tablespoon minced garlic 1/2 cup heavy cream 1/4 teaspoon Italian seasoning 1/4 cup grated Parmesan cheese, or to taste-----1 pound whole-wheat spaghetti 1 (14.5 ounce) can peeled and diced tomatoes 1 small onion, chopped 2 cloves garlic, pressed 1/2 pound sliced mushrooms 1 (15 ounce) can tomato sauce 3 tablespoons Italian seasoning\n",
      "----------------------------------------------------------------------\n",
      " package  ounce package  tomatoes  diced  ounces  italian  cloves  cloves garlic  pepper taste\n",
      "   0.028          0.027     0.026  0.019   0.019    0.019   0.019          0.017         0.016\n",
      "======================================================================\n",
      "topic: 37\n",
      "documents:\n",
      "         3 Cheese Enchiladas  0.8241935\n",
      "            Tortilla Pillows  0.7772727\n",
      " Bethany\\u0027s Frito(R) Pie      0.755\n",
      "3 cups corn chips (such as Fritos®) 1 cup shredded Cheddar cheese 3/4 cup chopped onion 2 1/2 cups prepared chili----- 2 8-inch whole wheat tortillas 1/2 cup refried beans 1/4 cup shredded cheddar or mexican blend cheese -----1 (8 ounce) package cream cheese, softened 2 cups prepared salsa 2 green onions, chopped 2 cups shredded Cheddar cheese 2 cups shredded Monterey Jack cheese 12 (8 inch) flour tortillas 1/2 cup shredded Cheddar cheese 1/2 cup shredded Monterey Jack cheese 1 cup salsa, or as desired 2 green onions, chopped\n",
      "----------------------------------------------------------------------\n",
      " cheddar  cheddar cheese  cup shredded  shredded cheddar   corn  tortillas  green  cups shredded   jack\n",
      "   0.044           0.042         0.029             0.026  0.020      0.020  0.018          0.018  0.015\n",
      "======================================================================\n",
      "topic: 38\n",
      "documents:\n",
      " Scott Ure\\u0027s Clams And Garlic   0.669697\n",
      "               The Best Clam Sauce  0.6393939\n",
      "               Smoked Herb Chicken  0.5896552\n",
      "1 (4 pound) whole chicken 3 tablespoons butter 1 tablespoon chopped fresh parsley 1 tablespoon chopped fresh oregano 1 tablespoon chopped fresh basil 1 tablespoon fresh chives, finely chopped-----1 (16 ounce) package dry linguini 1 onion, chopped 6 cloves garlic, chopped 3 tablespoons olive oil 4 (6.5 ounce) cans minced clams 1/2 cup butter salt and pepper to taste 2 tablespoons dry white wine-----50 small clams in shell, scrubbed 2 tablespoons extra virgin olive oil 6 cloves garlic, minced 1 cup white wine 2 tablespoons butter 1/2 cup chopped fresh parsley\n",
      "----------------------------------------------------------------------\n",
      " parsley  white   wine  fresh parsley  white wine    dry  minced  tablespoons chopped  tablespoon chopped\n",
      "   0.045  0.042  0.041          0.038       0.035  0.029   0.026                0.025               0.023"
     ]
    },
    {
     "name": "stdout",
     "output_type": "stream",
     "text": [
      "\n",
      "======================================================================\n",
      "topic: 31\n",
      "documents:\n",
      "                                    Sauerbraten IV  0.5953125\n",
      " Herby Black Rice Salad with Radishes and Ricot...  0.5695652\n",
      "                   Simple Garlic Confit with Herbs    0.56875\n",
      " 9–10 heads of garlic (about 3 cups cloves) 9–10 sprigs of thyme or another woody herb like rosemary  3 cups olive oil ----- 1/4 cup olive oil 2 tablespoons Sherry vinegar or red wine vinegar Kosher salt, freshly ground pepper -----1 1/2 cups red wine vinegar 1/2 cup dry red wine 2 onions, sliced 2 carrots, sliced 1 bay leaf 1/8 teaspoon whole allspice 3 whole cloves 1 tablespoon black peppercorns 1 tablespoon salt 4 pounds rump roast 1/2 cup butter 1 tablespoon vegetable oil 5 tablespoons all-purpose flour 1 tablespoon white sugar 2/3 cup crushed gingersnap cookies\n",
      "----------------------------------------------------------------------\n",
      "   red  vinegar  red wine    bay  wine vinegar  cloves  leaves  white  sprigs\n",
      " 0.041    0.036     0.031  0.031         0.027   0.025   0.023  0.021   0.018\n",
      "======================================================================\n",
      "topic: 32\n",
      "documents:\n",
      "       Rachael\\u0027s Chicken      0.604\n",
      "       Salsa Simmered Chicken  0.5896552\n",
      " Tasty Grilled Hoisin Chicken  0.5611111\n",
      "1 (7.5 ounce) jar hoisin sauce 4 bone-in chicken breast halves 4 chicken thighs-----6 skinless, boneless chicken breast halves salt and ground black pepper to taste 2 tablespoons olive oil 1 (15 ounce) jar mild picante salsa 1 (14 ounce) can chicken broth-----2 skinless, boneless chicken breast halves 1/4 cup butter 1/2 teaspoon dried thyme 1 (14.5 ounce) can chicken broth\n",
      "----------------------------------------------------------------------\n",
      " boneless  skinless  breast  chicken breast  boneless chicken  skinless boneless  halves  breast halves  halves cut\n",
      "    0.082     0.082   0.076           0.072             0.069              0.068   0.064          0.061       0.013\n",
      "======================================================================\n",
      "topic: 33\n",
      "documents:\n",
      " Double Rack of Pork with Burnt Orange-Caramel ...     0.8025\n",
      "       Hobo Pack Potatoes with Rosemary and Garlic  0.7457143\n",
      "         Grilled Steak with Parsley-Parmesan Salad  0.6948718\n",
      " 1 1/2 pounds flatiron steak 3 tablespoons olive oil, divided, plus more Kosher salt, freshly ground pepper 2 cups fresh flat-leaf parsley leaves 2 ounces Parmesan, shaved 1 tablespoon fresh lemon juice ----- 2 pounds small potatoes (such as baby Yukon Gold, about 1 1/2 inches wide) 2 garlic cloves, smashed 2 small rosemary sprigs 1/4 cup olive oil 1 1/2 teaspoons kosher salt 1/2 teaspoon freshly ground black pepper ----- 4 1/2 tablespoons olive oil 3 tablespoons chopped fresh sage 3 tablespoons chopped fresh thyme 2 1/2 tablespoons kosher salt 1 1/2 tablespoons freshly ground black pepper 2 6-bone racks of pork (about 8 pounds total), chine bone removed, fat trimmed to 1/4 thickness, rib bones frenched 4 large oranges \n",
      "----------------------------------------------------------------------\n",
      " freshly ground  kosher  kosher salt  salt freshly   plus  divided  teaspoon freshly  ground pepper  ounces\n",
      "          0.050   0.041        0.040         0.024  0.020    0.015             0.014          0.013   0.012\n",
      "======================================================================\n",
      "topic: 34\n",
      "documents:\n",
      " Easy Weeknight Tuna Pot Pie   0.862\n",
      "  Fern\\u0027s Tuna Casserole  0.8525\n",
      "      One Pot Tuna Casserole    0.85\n",
      "1 (16 ounce) package egg noodles 1 (10 ounce) package frozen green peas, thawed 1/4 cup butter 1 (10.75 ounce) can  condensed cream of mushroom soup 1 (6 ounce) can tuna, drained 1/4 cup milk 1 cup shredded Cheddar cheese-----1/2 (8 ounce) package egg noodles 1 (10.75 ounce) can  condensed cream of mushroom soup 3/4 cup whole milk 1 (6 ounce) can tuna 2 slices processed cheese food (such as Velveeta®) 1/2 cup crushed potato chips, or as needed-----2 tablespoons butter 1 small onion, diced 2 (6 ounce) cans tuna, drained 1 (10 ounce) package frozen mixed vegetables 1 (10.75 ounce) can  condensed cream of mushroom soup 1/2 cup shredded Cheddar cheese 1 (8 ounce) package refrigerated crescent rolls\n",
      "----------------------------------------------------------------------\n",
      " condensed  cream  ounce condensed  condensed cream  mushroom  mushroom soup  ounce package  package  cream mushroom\n",
      "     0.038  0.035            0.028            0.028     0.021          0.020          0.020    0.019           0.019"
     ]
    },
    {
     "name": "stdout",
     "output_type": "stream",
     "text": [
      "\n",
      "======================================================================\n",
      "topic: 27\n",
      "documents:\n",
      "       Venison Salisbury Steak  0.5516667\n",
      "         Cube Steak with Gravy  0.5038462\n",
      " Simple Classic Roasted Turkey  0.4789474\n",
      "1 (10 pound) whole turkey, neck and giblets optional salt and ground black pepper to taste 1/3 cup water, or as needed-----1/4 cup flour 1/4 cup cornstarch 1 teaspoon ground black pepper 1/2 teaspoon salt 6 cube steaks 2 tablespoons butter, or as needed 1 cup milk, or to taste salt and ground black pepper to taste-----1/4 cup oil 1 pound venison, cut into cubes 1 (16 ounce) package buttery round crackers, crushed fine 1/4 teaspoon garlic powder, or to taste onion salt, or to taste salt and pepper to taste 2 cubes beef bouillon 1 cup boiling water 1 egg 1 medium onion, sliced 1 (4.5 ounce) can sliced mushrooms 1 tablespoon cornstarch 1/4 cup cold water\n",
      "----------------------------------------------------------------------\n",
      " vegetable  vegetable oil  needed  pepper taste  cup water  tablespoon vegetable  optional  tablespoons vegetable  bouillon\n",
      "     0.060          0.053   0.040         0.032      0.027                 0.019     0.018                  0.018     0.016\n",
      "======================================================================\n",
      "topic: 28\n",
      "documents:\n",
      "             Hot Vanilla Chai  0.7366667\n",
      " Raspberry Lemon Splash Shake  0.6586207\n",
      "           Green Banana Shake  0.6416667\n",
      " 1 packet Classic French Vanilla Flavor CARNATION BREAKFAST ESSENTIALS Complete Nutritional Drink 1 cup ice cubes 1 cup prepared green tea, chilled * 1/2 frozen banana ** ----- 1 packet Classic French Vanilla Flavor CARNATION BREAKFAST ESSENTIALS® Complete Nutritional Drink 1 cup raspberries 8 oz. container lemon yogurt ----- 1 packet No Sugar Added Classic French Vanilla Flavor CARNATION BREAKFAST ESSENTIALS® Complete Nutritional Drink 1 chai tea bag \n",
      "----------------------------------------------------------------------\n",
      " peeled   inch  large  potatoes  cut inch  cubes  chunks  inch cubes  pounds\n",
      "  0.050  0.047  0.037     0.036     0.034  0.031   0.018       0.017   0.016\n",
      "======================================================================\n",
      "topic: 29\n",
      "documents:\n",
      "                        Lemon-Orange Orange Roughy  0.6714286\n",
      " Sweet Dijon Basa Swai Fish (or a fish of your ...  0.6366667\n",
      "                                  Orange Salmon II  0.5695652\n",
      "2 (6 ounce) fillets salmon, skin removed 2 1/2 cups orange juice 3 sprigs fresh dill weed-----1/4 cup honey 3 tablespoons mayonnaise 2 tablespoons olive oil 2 tablespoons whole-grain Dijon mustard 1 tablespoon lemon juice 4 (4 ounce) fillets swai fish-----1 tablespoon olive oil 4 (4 ounce) fillets orange roughy 1 orange, juiced 1 lemon, juiced 1/2 teaspoon lemon pepper\n",
      "----------------------------------------------------------------------\n",
      " mustard  dijon  lemon  dijon mustard  salmon  mayonnaise   dill  pepper taste  ounce fillets\n",
      "   0.039  0.034  0.033          0.031   0.028       0.018  0.017         0.016          0.015\n",
      "======================================================================\n",
      "topic: 30\n",
      "documents:\n",
      "          Tomatillo Salsa Verde  0.8135135\n",
      " Thai Celery Salad with Peanuts  0.8018182\n",
      "        Charred Tomatillo Salsa  0.7717949\n",
      " 1/2 pound tomatillos, husked, rinsed, patted dry 1/2 large white onion, cut into 8 wedges 1 jalapeño or serrano chile, halved, seeded 2 tablespoons (or more) fresh lime juice Kosher salt ----- 3 tablespoons vegetable oil 2 tablespoons fresh lime juice 2 teaspoons fish sauce 6 celery stalks, thinly sliced on a diagonal 3 thinly sliced scallions 1 thinly sliced red chile, such as Fresno 1 cup fresh cilantro leaves with tender stems 1/4 cup chopped roasted, salted peanuts ----- 1 pound quartered rinsed husked tomatillos 1/2 coarsely chopped medium onion 1 smashed garlic clove 1 coarsely chopped serrano chile (seeds removed if desired) 1/4 cup fresh cilantro leaves with tender stems Salt \n",
      "----------------------------------------------------------------------\n",
      " thinly  thinly sliced  removed  peeled  kosher  kosher salt  coarsely  leaves  cilantro\n",
      "  0.017          0.016    0.015   0.015   0.014        0.013     0.013   0.013     0.012"
     ]
    },
    {
     "name": "stdout",
     "output_type": "stream",
     "text": [
      "\n",
      "======================================================================\n",
      "topic: 23\n",
      "documents:\n",
      "                         Savory Apple Pork Chops  0.7947368\n",
      "                          Apple Butter Pork Loin  0.7717949\n",
      " Bourbon Apple Cider and Honey Glazed Pork Chops  0.7457143\n",
      "2 cups apple cider 1/2 cup honey 1/4 cup apple cider vinegar 2 tablespoons brown sugar 1/3 cup whiskey (such as Jack Daniels®) 3 tablespoons whiskey (such as Jack Daniels®) 4 thick center-cut pork chops-----2 (2 pound) boneless pork loin roast seasoning salt to taste 2 cups apple juice 1/2 cup apple butter 1/4 cup brown sugar 2 tablespoons water 1/4 teaspoon ground cinnamon 1/4 teaspoon ground cloves-----4 pork chops salt and pepper to taste 2 apples, sliced thin 1/4 cup ketchup 3 tablespoons brown sugar\n",
      "----------------------------------------------------------------------\n",
      " brown  brown sugar   pork  vinegar  apple  white  chops  cider  pork chops\n",
      " 0.045        0.043  0.037    0.028  0.022  0.022  0.020  0.015       0.015\n",
      "======================================================================\n",
      "topic: 24\n",
      "documents:\n",
      "  Whole Chicken Slow Cooker Recipe  0.7527778\n",
      "                 Rump Roast Au Jus  0.7205128\n",
      " Zucchini-Wrapped Halibut Scallops      0.675\n",
      " 1 teaspoon smoked paprika 1 teaspoon ground cumin -----1 tablespoon ground black pepper 1 tablespoon paprika 2 teaspoons chili powder 1/2 teaspoon celery salt 1/2 teaspoon ground cayenne pepper 1/2 teaspoon garlic powder 1/4 teaspoon mustard powder 1 (4 pound) rump roast 1/2 cup water-----4 teaspoons salt, or to taste 2 teaspoons paprika 1 teaspoon cayenne pepper 1 teaspoon onion powder 1 teaspoon ground thyme 1 teaspoon ground white pepper 1/2 teaspoon garlic powder 1/2 teaspoon ground black pepper 1 whole whole chicken\n",
      "----------------------------------------------------------------------\n",
      " garlic powder  teaspoons  powder teaspoon  teaspoon garlic  paprika  teaspoon ground  salt teaspoon  pepper teaspoon  cayenne\n",
      "         0.055      0.045            0.043            0.038    0.036            0.031          0.025            0.025    0.021\n",
      "======================================================================\n",
      "topic: 25\n",
      "documents:\n",
      " Easy Beef Strogonoff   0.444186\n",
      "     Noodles Romanoff  0.4441176\n",
      "   Great British Fool    0.44375\n",
      " 1 cup heavy whipping cream 1 tablespoon confectioners sugar 1 cup fruit compote  -----1 (8 ounce) package egg noodles 2 cups sour cream 1/2 cup grated Parmesan cheese, divided 1 tablespoon chopped fresh chives 1/2 teaspoon salt 1/8 teaspoon ground black pepper 2 tablespoons butter-----1 pound ground beef 1/2 teaspoon garlic powder 1/2 teaspoon salt 1/2 teaspoon ground black pepper 1 cube beef bouillon 1 medium onion, chopped 8 ounces fresh mushrooms, sliced 1 pint sour cream 4 ounces egg noodles, cooked and drained\n",
      "----------------------------------------------------------------------\n",
      "  sour  sour cream  heavy  heavy cream  cup sour  cup heavy  cream cup  ounces  cream cheese\n",
      " 0.054       0.053  0.047        0.035     0.028      0.027      0.026   0.020         0.019\n",
      "======================================================================\n",
      "topic: 26\n",
      "documents:\n",
      "                    Pasta Siciliano  0.5553571\n",
      "           Mediterranean Fried Rice  0.5440678\n",
      " Calamari with Roasted Tomato Sauce  0.5045455\n",
      " 2 cups whole peeled tomatoes 2 cloves garlic, chopped 2 tablespoons fine sea salt 2 tablespoons crushed red pepper -----2 tablespoons olive oil 1 clove garlic, minced 1 1/2 cups cooked rice 1 (10 ounce) package frozen chopped spinach, thawed and drained 1 (6 ounce) jar marinated artichoke hearts, drained and quartered 1 (4 ounce) jar roasted red peppers, drained and chopped 1/2 cup crumbled feta cheese with herbs-----1 (16 ounce) package uncooked farfalle pasta 1/4 cup olive oil 3 cloves chopped garlic 1 teaspoon crushed red pepper flakes 2 tablespoons lemon juice 1/2 cup pine nuts 1 (2.25 ounce) can sliced black olives 1/2 cup chopped sun-dried tomatoes 1 cup crumbled feta cheese salt and pepper to taste\n",
      "----------------------------------------------------------------------\n",
      " red pepper  flakes  pepper flakes  crushed  crushed red  drained  crumbled  olives  teaspoon crushed\n",
      "      0.053   0.053          0.046    0.038        0.027    0.022     0.020   0.019             0.018"
     ]
    },
    {
     "name": "stdout",
     "output_type": "stream",
     "text": [
      "\n",
      "======================================================================\n",
      "topic: 19\n",
      "documents:\n",
      "   Sarge\\u0027s EZ Pulled Pork BBQ  0.7772727\n",
      " My Kid\\u0027s Favorite Pork Chops  0.7346154\n",
      "                    Baby Back Ribs  0.7214286\n",
      "2 pounds pork baby back ribs 1 (18 ounce) bottle barbecue sauce-----6 pork chops 2 tablespoons steak seasoning 1 (12 fluid ounce) can or bottle beer 1 (18 ounce) bottle barbeque sauce 2 onions, sliced-----1 (5 pound) pork butt roast salt and pepper to taste 1 (14 ounce) can beef broth 1/4 cup brewed coffee\n",
      "----------------------------------------------------------------------\n",
      " worcestershire sauce  worcestershire  pounds  steak  roast  fluid  bottle   beer  sauce teaspoon\n",
      "                0.043           0.043   0.034  0.024  0.023  0.015   0.013  0.013           0.012\n",
      "======================================================================\n",
      "topic: 20\n",
      "documents:\n",
      " Fast and Friendly Meatballs  0.6565217\n",
      "    The Perfect Basic Burger  0.6409091\n",
      "            Salmon Patties I  0.6409091\n",
      "1 (14.75 ounce) can canned salmon 1 egg 1/4 cup chopped onion 1/2 cup seasoned dry bread crumbs 1 tablespoon olive oil-----1 egg 1/2 teaspoon salt 1/2 teaspoon ground black pepper 1 pound ground beef 1/2 cup fine dry bread crumbs-----2 tablespoons olive oil 1 (20 ounce) package ground turkey 1 egg, beaten 1/3 cup Italian seasoned bread crumbs\n",
      "----------------------------------------------------------------------\n",
      " crumbs  bread crumbs    egg    dry  beaten  italian  dry bread  seasoned  seasoning\n",
      "  0.067         0.062  0.036  0.028   0.023    0.023      0.023     0.021      0.020\n",
      "======================================================================\n",
      "topic: 21\n",
      "documents:\n",
      " Fava Bean and Pea Salad with Poppy Seed Dressing      0.428\n",
      "                          Scallops à La Provençal  0.4279412\n",
      "              Pea, Asparagus, and Fava Bean Salad  0.3839506\n",
      " 3 tablespoons extra-virgin olive oil 1 tablespoon finely grated Pecorino or Parmesan 1 tablespoon (or more) fresh lemon juice Kosher salt, freshly ground pepper 2 cups fresh fava beans (from about 2 pounds pods) or frozen fava beans, thawed 2 bunches asparagus, trimmed, stalks peeled if thick 1 cup shelled fresh peas (from about 1 pound pods) or frozen peas, thawed 1/2 cup vegetable oil 1 shallot, thinly sliced 4 slices bacon, cooked and crumbled ----- 5 cups cherry tomatoes 2 1/2 tablespoons chopped garlic, divided 5 teaspoons chopped fresh thyme, divided 5 teaspoons olive oil, divided 1/2 teaspoon salt, divided 1/2 teaspoon freshly ground black pepper, divided Vegetable oil cooking spray 2 cups fresh corn 1 pound sea scallops 2 teaspoons balsamic vinegar 3 tablespoons chopped fresh herbs such as parsley, basil, chives or a combination, divided 2 cups arugula ----- 2 cups shelled fava beans (from about 2 pounds pods) or frozen fava beans, thawed Kosher salt 2 cups shelled fresh peas (from about 2 pounds pods) or frozen peas, thawed 1/3 cup sour cream 1 1/2 ounces fresh goat cheese, crumbled 2 tablespoons (or more) buttermilk or whole milk 1 tablespoon fresh lemon juice Freshly ground black pepper 2 heads of Bibb lettuce, leaves separated (about 8 cups) 4 cups pea shoots (tendrils) 1 teaspoon poppy seeds \n",
      "----------------------------------------------------------------------\n",
      " thinly  thinly sliced  frozen  cooking  oil divided  spray  cooking spray  ounces  divided cup\n",
      "  0.081          0.080   0.029    0.024        0.022  0.021          0.021   0.019        0.018\n",
      "======================================================================\n",
      "topic: 22\n",
      "documents:\n",
      "       Chopstick Ready Rice       0.61\n",
      " Cucumber and Avocado Sushi  0.5923077\n",
      "      Kimbop (Korean Sushi)       0.54\n",
      "1 cup uncooked glutinous white rice (sushi rice) 1 1/2 cups water 1 tablespoon sesame oil salt, to taste 2 eggs, beaten 4 sheets sushi nori (dry seaweed) 1 cucumber, cut into thin strips 1 carrot, cut into thin strips 4 slices American processed cheese, cut into thin strips 4 slices cooked ham, cut into thin strips 2 teaspoons sesame oil-----1 1/4 cups water 1 cup uncooked glutinous white rice (sushi rice) 3 tablespoons rice vinegar 1 pinch salt 4 sheets nori (dry seaweed) 1/2 cucumber, sliced into thin strips 1 avocado - peeled, pitted and sliced----- 2 cups shortgrain white rice 2 cups water \n",
      "----------------------------------------------------------------------\n",
      " strips  water    cut  white  uncooked  cups water  white rice  cut strips  grain\n",
      "  0.053  0.043  0.035  0.035     0.029       0.028       0.027       0.026  0.019"
     ]
    },
    {
     "name": "stdout",
     "output_type": "stream",
     "text": [
      "\n",
      "======================================================================\n",
      "topic: 15\n",
      "documents:\n",
      " Chicken Pecan Quiche  0.5978723\n",
      "       Crab Quiche II  0.5923077\n",
      "   Quiche Lorraine II  0.5923077\n",
      "1 (9 inch) deep dish pie crust 2 eggs, beaten 1/2 cup milk 1/2 cup mayonnaise 1 teaspoon cornstarch 1 1/2 cups shredded Swiss cheese 1/2 pound imitation crabmeat 1 pinch ground black pepper-----1 recipe pastry for a 9 inch single crust pie 6 slices bacon 1 onion, sliced 3 eggs, beaten 1 1/2 cups milk 1/4 teaspoon salt 1 1/2 cups shredded Swiss cheese 1 tablespoon all-purpose flour-----1 cup chopped, cooked chicken 1 cup shredded Swiss cheese 1/4 cup chopped onion 1 tablespoon all-purpose flour 1/2 cup chopped pecans 1 (9 inch) unbaked deep-dish pastry shell 2 eggs, beaten 1 cup 2% milk 1/2 teaspoon brown mustard\n",
      "----------------------------------------------------------------------\n",
      " beaten  eggs beaten  shredded   milk  cooked   inch    pie  diced  teaspoon salt\n",
      "  0.048        0.025     0.024  0.023   0.020  0.018  0.018  0.017          0.015\n",
      "======================================================================\n",
      "topic: 16\n",
      "documents:\n",
      "                      Bourbon-Vanilla Marshmallows  0.8162791\n",
      " Maple-Gingerbread Layer Cake with Salted Maple...  0.8115385\n",
      "      Chocolate-Dipped Salted Caramel Marshmallows  0.7652778\n",
      " Vegetable oil for brushing pan About 1 cup confectioners sugar for coating pan and marshmallows \t\t 4 (1/4-ounce) envelopes powdered unflavored gelatin 1 1/2 cups granulated sugar 1 cup light corn syrup 1 teaspoon fine sea salt 1 tablespoon pure vanilla extract About 6 ounces bittersweet chocolate, finely chopped  1 1/2 tablespoons vegetable shortening, preferably trans-fat-free Flaky sea salt, such as Maldon, for garnish ----- 3/4 cup pecan halves, toasted 1/4 cup pure maple syrup (preferably Grade B) Coarse kosher salt ----- 3 vanilla beans, split lengthwise About 1 cup confectioners sugar for making vanilla sugar  1 tablespoon bourbon Vegetable oil for brushing pan 3 (1/4-ounce) envelopes powdered unflavored gelatin 1 1/2 cups granulated sugar 1 cup light corn syrup 1/4 teaspoon salt \n",
      "----------------------------------------------------------------------\n",
      " unsalted  unsalted butter   plus  ounces  kosher  kosher salt  temperature  room temperature   room\n",
      "    0.032            0.028  0.020   0.017   0.016        0.016        0.015             0.015  0.015\n",
      "======================================================================\n",
      "topic: 17\n",
      "documents:\n",
      " Corpse Reviver 3000  0.7947368\n",
      "       Ipanema Punch  0.7864865\n",
      "      Peach Prosecco  0.7833333\n",
      " 1 ounce vodka 1 ounce peach liqueur  1 ounce Prosecco 1/2 ounce lemon juice  1/2 ounce peach nectar\t\t\t\t\t  2 dashes Fee Brothers peach bitters (optional) ----- 1/2 cup Cointreau 2 cups light rum 3 ounces crème de banane 1 cup pink grapefruit juice 2 cups fresh orange juice 1/2 cup fresh lime juice 1 cup pineapple juice 36 frozen whole strawberries or raspberries 3 to 4 cups ginger ale ----- 3/4 ounce Tenneyson Absinthe Royale or other blanche absinthe 3/4 ounce St-Germain elderflower liqueur 3/4 ounce orange liqueuer (we used Paulas Texas Orange; Cointreau also works well) 3/4 ounce freshly squeezed lemon juice Orange coin, for garnish \n",
      "----------------------------------------------------------------------\n",
      " lemon  lemon juice  orange  fresh lemon   lime   zest  lime juice  juice cup  grated\n",
      " 0.086        0.062   0.032        0.029  0.025  0.024       0.021      0.019   0.017\n",
      "======================================================================\n",
      "topic: 18\n",
      "documents:\n",
      "          Indian Dahl with Spinach      0.762\n",
      " Indian Chicken Curry (Murgh Kari)  0.7536082\n",
      "         Rajma (Kidney Bean Curry)   0.743299\n",
      "2 cups dry red kidney beans 1 large onion, chopped 4 cloves garlic, chopped 1 (2 inch) piece fresh ginger root, chopped 2 tablespoons vegetable oil 2 teaspoons ghee (clarified butter) 2 dried red chile peppers, broken into pieces 1 teaspoon cumin seeds 6 whole cloves 1 teaspoon ground turmeric 1 teaspoon ground cumin 1 teaspoon ground coriander 2 tomatoes, chopped 2 cups water 1 teaspoon white sugar salt to taste 2 teaspoons garam masala 1 teaspoon ground red pepper 1/4 cup cilantro leaves, chopped-----2 pounds skinless, boneless chicken breast halves 2 teaspoons salt 1/2 cup cooking oil 1 1/2 cups chopped onion 1 tablespoon minced garlic 1 1/2 teaspoons minced fresh ginger root 1 tablespoon curry powder 1 teaspoon ground cumin 1 teaspoon ground turmeric 1 teaspoon ground coriander 1 teaspoon cayenne pepper 1 tablespoon water 1 (15 ounce) can crushed tomatoes 1 cup plain yogurt 1 tablespoon chopped fresh cilantro 1 teaspoon salt 1/2 cup water 1 teaspoon garam masala 1 tablespoon chopped fresh cilantro 1 tablespoon fresh lemon juice-----1 1/2 cups red lentils 3 1/2 cups water 1/2 teaspoon salt 1/2 teaspoon ground turmeric 1/2 teaspoon chili powder 1 pound spinach, rinsed and chopped 2 tablespoons butter 1 onion, chopped 1 teaspoon ground cumin 1 teaspoon mustard seed 1 teaspoon garam masala 1/2 cup coconut milk\n",
      "----------------------------------------------------------------------\n",
      " teaspoons  cumin  cloves  ginger  curry  ground cumin  paste  powder  cinnamon\n",
      "     0.022  0.022   0.018   0.018  0.017         0.017  0.016   0.014     0.013"
     ]
    },
    {
     "name": "stdout",
     "output_type": "stream",
     "text": [
      "\n",
      "======================================================================\n",
      "topic: 11\n",
      "documents:\n",
      "   Quinoa Stuffed Peppers  0.6741379\n",
      " Superb Sausage Casserole  0.6346939\n",
      "                     Tava  0.6089286\n",
      "2 pounds beef stew meat, cut into 1/2 inch pieces 1 small red onion, diced 1 medium green bell pepper, seeded and diced 2 fresh tomatoes, diced 1 green chile pepper, seeded and diced (optional) 1/2 teaspoon chile paste-----6 links pork sausage 1 large red bell pepper, chopped 1 large orange bell pepper, chopped 1 large yellow bell pepper, chopped 1 large onion, diced 1/2 cup ketchup 3/4 cup hot water salt and pepper to taste-----1 cup quinoa, rinsed and drained 2 cups water 2 tablespoons olive oil 1 small onion, diced 2 cloves garlic, minced 1 zucchini, diced 1 small eggplant, diced 1 tomato, diced 1 cup tomato sauce salt and ground black pepper to taste 6 bell peppers, tops cut off and seeded 1 cup shredded mozzarella cheese, or more to taste\n",
      "----------------------------------------------------------------------\n",
      " bell pepper  diced  green    red  green bell  red bell  pepper chopped  yellow  cup chopped\n",
      "       0.063  0.053  0.051  0.037       0.036     0.029           0.019   0.018        0.018\n",
      "======================================================================\n",
      "topic: 12\n",
      "documents:\n",
      " Honey Mustard BBQ Pork Medallions  0.5807692\n",
      "            Easy, Crunchy Hot Dogs  0.5423077\n",
      "             Chili Dog Casserole I  0.5222222\n",
      "8 hot dog buns 8 hot dogs 1 (15 ounce) can chili 1/4 cup chopped onion 1 tablespoon prepared mustard 2 cups shredded Cheddar cheese-----1/2 cup ketchup 1/4 cup prepared yellow mustard 1 cup cornflake crumbs 1 (16 ounce) package all-beef hot dogs-----1 Smithfield® Mesquite Seasoned Loin Filet 2 tablespoons honey 2 tablespoons stone ground mustard 1 1/2 cups corn flake cereal, slightly crushed 2 tablespoons olive oil\n",
      "----------------------------------------------------------------------\n",
      " mustard  prepared  honey  pepper sauce  hot pepper  crushed  yellow  crackers  cup honey\n",
      "   0.046     0.036  0.028         0.024       0.024    0.019   0.018     0.015      0.015\n",
      "======================================================================\n",
      "topic: 13\n",
      "documents:\n",
      "            Onion Ranch Burgers  0.7033333\n",
      " Three Packet Slow Cooker Roast      0.702\n",
      "           Marsha\\u0027s Garoni  0.6565217\n",
      "2 slices bologna 1 (7.25 ounce) package macaroni and cheese mix  1 (.75 ounce) packet dry brown gravy mix-----1 cup water 1 (.7 ounce) package dry Italian-style salad dressing mix 1 (1 ounce) package ranch dressing mix 1 (.75 ounce) packet dry brown gravy mix 1 (3 pound) boneless beef chuck roast-----2 pounds ground beef 3/4 cup water 1 (1 ounce) package ranch dressing mix 1 (1 ounce) package dry onion soup mix\n",
      "----------------------------------------------------------------------\n",
      " beans  drained  package  ounce package  rinsed    dry  dressing  seasoning  beans drained\n",
      " 0.042    0.041    0.035          0.032   0.025  0.024     0.018      0.016          0.014\n",
      "======================================================================\n",
      "topic: 14\n",
      "documents:\n",
      "     Filipino Lumpia  0.3916667\n",
      " Arugula Salsa Verde  0.3609375\n",
      "  Blue Crab Beignets  0.3607143\n",
      " 1/2 small shallot, finely chopped 6 ounces fresh blue or other lump crabmeat, picked over 1/3 cup mascarpone 1 tablespoon finely chopped fresh chives Kosher salt ----- 2 plum tomatoes, finely chopped (optional) Finely grated zest of 1 small lemon 1 garlic clove, finely chopped 3 cups arugula leaves, finely chopped 1/4 cup coarse fresh breadcrumbs 1 tablespoon finely chopped capers 1 tablespoon red wine vinegar 3/4 cup extra-virgin olive oil plus more 1/4 cup finely grated Parmesan -----1 lumpia wrappers 1 pound ground beef 1/2 pound ground pork 1/3 cup finely chopped onion 1/3 cup finely chopped green bell pepper 1/3 cup finely chopped carrot 1 quart oil for frying\n",
      "----------------------------------------------------------------------\n",
      " finely chopped  cup finely  balsamic  onion finely  balsamic vinegar  vinegar  chopped fresh  tablespoons finely  grated\n",
      "          0.151       0.040     0.027         0.026             0.025    0.024          0.023               0.018   0.017"
     ]
    },
    {
     "name": "stdout",
     "output_type": "stream",
     "text": [
      "\n",
      "======================================================================\n",
      "topic: 7\n",
      "documents:\n",
      " Fresh Herb, Grapefruit, and Fennel Salad     0.6275\n",
      "                 Caprese-Stuffed Zucchini  0.5772727\n",
      "          Kale Pesto with Toasted Walnuts  0.5673913\n",
      " 2 cups packed torn kale leaves, stems removed 1 cup packed fresh basil leaves 1 teaspoon sea salt 1/4 cup extra virgin olive oil 1/4 cup toasted walnuts 4 cloves garlic, chopped 1/2 cup grated Parmesan cheese -----2 large zucchinis, halved lengthwise and seeded sea salt to taste freshly ground black pepper to taste extra-virgin olive oil, or to taste 2 (1/2 inch thick) slices eggplant 1 cup cherry tomatoes, quartered 1 clove garlic, minced 1 cup fresh basil leaves, divided 1 teaspoon sea salt 1/2 teaspoon ground black pepper 3 tablespoons extra-virgin olive oil, plus more for drizzling 1 tablespoon balsamic vinegar----- 1 large ruby-red grapefruit or 3 blood oranges 2 small fresh fennel bulbs, trimmed, halved vertically, sliced paper-thin 1 cup fresh Italian parsley leaves 1/4 cup fresh mint leaves Extra-virgin olive oil Sea salt flakes \n",
      "----------------------------------------------------------------------\n",
      " virgin  extra virgin  virgin olive  leaves  tablespoons extra  tomatoes  basil    sea  sea salt\n",
      "  0.052         0.052         0.051   0.031              0.021     0.018  0.018  0.018     0.017\n",
      "======================================================================\n",
      "topic: 8\n",
      "documents:\n",
      "                 Spicy Lime Grilled Shrimp      0.684\n",
      " Garlic, Cilantro, and Lime Sauteed Shrimp   0.669697\n",
      "     Spicy Coconut and Lime Grilled Shrimp  0.6386364\n",
      "2 jalapeno peppers, seeded 1 lime, zested and juiced 2 garlic cloves 1/3 cup chopped fresh cilantro 1/3 cup shredded coconut 1/4 cup olive oil 1/4 cup soy sauce 1 pound uncooked medium shrimp, peeled and deveined skewers-----2 teaspoons olive oil 1 onion, chopped 6 cloves garlic, crushed salt and ground black pepper to taste 2 pounds shrimp, peeled and deveined 1/2 cup chopped fresh cilantro 1/2 lime, juiced, or more to taste-----3 tablespoons Cajun seasoning (such as Emerils Essence®) 1 lime, juiced 1 tablespoon vegetable oil 1 pound peeled and deveined medium shrimp (30-40 per pound)\n",
      "----------------------------------------------------------------------\n",
      " minced  shrimp  cilantro  deveined  peeled deveined  fresh cilantro  seeded  chopped fresh  shrimp peeled\n",
      "  0.033   0.028     0.025     0.022            0.020           0.020   0.019          0.019          0.016\n",
      "======================================================================\n",
      "topic: 9\n",
      "documents:\n",
      "   Best Ever Meatloaf I  0.4678571\n",
      " Cabbage Roll Casserole       0.46\n",
      "          Messy Burgers  0.4321429\n",
      "1 1/2 pounds ground chuck 1/2 teaspoon garlic pepper, or to taste 1/4 cup diced onion 2 tablespoons butter 4 slices American cheese 4 hamburger buns, split-----2 pounds ground beef 1 cup chopped onion 1 (29 ounce) can tomato sauce 3 1/2 pounds chopped cabbage 1 cup uncooked white rice 1 teaspoon salt 2 (14 ounce) cans beef broth-----1 1/2 pounds lean ground beef 1 cup tomato juice 3/4 cup rolled oats 1 egg 1/4 cup chopped onion 1/2 teaspoon salt 1/4 teaspoon ground black pepper\n",
      "----------------------------------------------------------------------\n",
      " ground beef  pound ground   lean  pounds  lean ground  tomato  pounds ground  yogurt  pound lean\n",
      "       0.083         0.045  0.037   0.034        0.032   0.031          0.024   0.019       0.019\n",
      "======================================================================\n",
      "topic: 10\n",
      "documents:\n",
      "          Ravioli Lasagna  0.8722222\n",
      " Campfire Pepperoni Pizza  0.8304348\n",
      "              Pizzaghetti  0.8230769\n",
      "1 (16 ounce) package spaghetti 1 (28 ounce) jar spaghetti sauce 1 (6 ounce) package sliced pepperoni 1 (6 ounce) can sliced black olives 1 (8 ounce) package sliced fresh mushrooms 8 ounces shredded mozzarella cheese-----1 pound refrigerated pizza dough 1/4 cup pizza sauce 1/2 cup shredded mozzarella cheese 1/2 cup sliced pepperoni-----2 cups ricotta cheese 1 (10 ounce) package frozen chopped spinach - thawed, drained and squeezed dry 1 1/2 cups grated Romano cheese 2 eggs salt and pepper to taste 1/4 cup spaghetti sauce 1 (25 ounce) package frozen cheese ravioli 1/2 cup spaghetti sauce 1/2 cup grated Romano cheese\n",
      "----------------------------------------------------------------------\n",
      " mozzarella  package  mozzarella cheese  ounce package  shredded mozzarella  frozen  cheese cup  spinach  parmesan\n",
      "      0.035    0.034              0.034          0.032                0.025   0.018       0.017    0.017     0.017"
     ]
    },
    {
     "name": "stdout",
     "output_type": "stream",
     "text": [
      "\n",
      "2 cups rice-bread crumbs (such as PaneRiso™) 1/2 cup olive oil 1 teaspoon dried oregano 1 teaspoon dried basil 1 teaspoon dried rosemary 1 teaspoon garlic powder 2 pork tenderloins-----1 (4 pound) frozen duck 6 tablespoons olive oil 2 cups dry sherry 3 teaspoons dried oregano 3 teaspoons dried rosemary 3 teaspoons dried basil-----1 lemon 2 teaspoons dried oregano 3 cloves garlic, minced 1 tablespoon olive oil 1/4 teaspoon salt 1/4 teaspoon ground black pepper 6 chicken legs\n",
      "----------------------------------------------------------------------\n",
      " teaspoon dried  oregano  dried oregano  teaspoons  dried basil  thyme  basil  dried thyme  minced\n",
      "          0.090    0.049          0.040      0.027        0.024  0.024  0.024        0.022   0.022\n",
      "======================================================================\n",
      "topic: 4\n",
      "documents:\n",
      "                          Fried Chicken with Gravy      0.724\n",
      " Witchs Finger Bread Sticks with Maple Mustard Dip  0.7033333\n",
      "                             Manicotti Pancakes II        0.7\n",
      "3 eggs 1 cup milk 1 cup all-purpose flour----- 1 1/2 cups warm water (105°F to 115°F) 1 tablespoon sugar 1 (1/4-ounce) package active dry yeast 4 cups all-purpose flour 1 1/2 teaspoons salt ----- One 3- to 3 1/2-pound broiler-fryer, cut up for frying (see Note above) 2 teaspoons salt 1/4 teaspoon black pepper 3/4 cup unsifted all-purpose flour Vegetable oil for frying or lard, if you can get it (Mrs. McCollum used lard) 1 tablespoon water \n",
      "----------------------------------------------------------------------\n",
      " purpose flour  purpose  cup purpose  tablespoons purpose  teaspoon salt   milk  frying  vegetable  flour cup\n",
      "         0.095    0.095        0.039                0.027          0.025  0.023   0.020      0.020      0.019\n",
      "======================================================================\n",
      "topic: 5\n",
      "documents:\n",
      "                       Joyce\\u0027s Granola  0.8230769\n",
      " Coconut Macaroon Sandwiches with Lime Curd  0.8212121\n",
      "                     Fruit and Nut Pancakes  0.8166667\n",
      " 1 cup whole-wheat flour  1/2 cup rolled oats  1/4 cup sliced almonds, crushed walnuts or crushed pecans  2 teaspoons baking powder  1/2 teaspoon cinnamon 2 medium bananas  1 cup nonfat or almond milk  1 egg  1 teaspoon almond extract  1 cup mixed frozen berries  Vegetable oil cooking spray ----- 1 (14-ounce) bag (5 1/3 cups) sweetened flaked coconut 1/2 cup sugar 1/2 cup all-purpose flour 1/4 teaspoon salt 4 large egg whites 1/4 teaspoon pure almond extract -----4 cups rolled oats 1 cup wheat germ 1/2 cup flax seed meal 1/2 cup sliced almonds 1/2 cup walnuts 1 teaspoon ground cinnamon 5 tablespoons unsweetened applesauce 2 tablespoons agave nectar 3 tablespoons (blank) sugar-free pancake syrup\n",
      "----------------------------------------------------------------------\n",
      " flour    egg  large  powder  extract  teaspoons  vanilla extract  baking powder   milk\n",
      " 0.026  0.026  0.025   0.023    0.022      0.022            0.020          0.017  0.017\n",
      "======================================================================\n",
      "topic: 6\n",
      "documents:\n",
      "  Zucchini and Pecan Saute  0.5055556\n",
      "     Steamed Lobster Tails  0.4357143\n",
      " Hard-Boiled Egg Casserole      0.425\n",
      "8 hard-boiled eggs, peeled and halved 1/4 cup butter 1/4 cup all-purpose flour 2 cups half-and-half 1/2 teaspoon salt 1/4 teaspoon ground black pepper 1/4 teaspoon garlic powder 1/4 teaspoon dry mustard 1 cup shredded Gruyere cheese 1/2 cup freshly grated Parmesan cheese-----1 tablespoon sea salt 4 (6 ounce) lobster tails 1/2 cup butter, melted-----3 tablespoons butter 1/3 cup chopped pecans 1 pound fresh zucchini, sliced 1 tablespoon grated Parmesan cheese\n",
      "----------------------------------------------------------------------\n",
      " parmesan  parmesan cheese  grated parmesan   half  cup grated  melted  butter melted  tablespoons butter  nutmeg\n",
      "    0.059            0.054            0.053  0.043       0.037   0.036          0.025               0.020   0.020"
     ]
    },
    {
     "name": "stdout",
     "output_type": "stream",
     "text": [
      "======================================================================\n",
      "topic: 0\n",
      "documents:\n",
      "                    Mushroom Goat Cheese Pan Sauce  0.5315789\n",
      "                                Thiebaud Pink Cake  0.5315789\n",
      " Poached Seckel Pear with Pomegranate, Cabrales...  0.5229167\n",
      " 3 cups (750 g/26.4 oz) whole milk 1 cup plus 1 Tbsp (250 g/8.8 oz) heavy cream 3 Tbsp plus 1 tsp (20 g/0.7 oz) Szechuan peppercorns 8 1/2 large (160 g/5.6 oz) egg yolks 3/4 cup plus 2 Tbsp (180 g/6.3 oz) granulated sugar ----- 1/2 pound (227 g) fresh strawberries 1/2 cup (4.3 oz / 120 g) water 1/4 cup (1.8 oz / 50 g) sugar ----- 1/4 cup canned low-sodium chicken broth 1/4 cup full-bodied red wine \n",
      "----------------------------------------------------------------------\n",
      " broth  chicken broth  celery    low      g  stock  sodium  cups chicken  cup chicken\n",
      " 0.055          0.041   0.032  0.026  0.023  0.018   0.018         0.016        0.016\n",
      "======================================================================\n",
      "topic: 1\n",
      "documents:\n",
      "                            Dinengdeng  0.5261905\n",
      " Classic Smoked Sausage \\u0026 Peppers  0.4745455\n",
      "                            Bún Bò Hue     0.4525\n",
      " 2 pounds oxtail, cut into 2- to 3-inch pieces (ask your butcher to do this) 2 pounds beef shank bones, cut into 2- to 3-inch pieces (ask your butcher to do this) 2 pounds pork neck bones 2 pounds beef marrowbones, cut into 2- to 3-inch pieces (ask your butcher to do this) 1 pound beef brisket 8 lemongrass stalks -----1 (14 ounce) package Hillshire Farm® Smoked Sausage, diagonally cut into 1/4-inch slices 2 tablespoons olive oil 1 cup onion, cut into 1-inch pieces 2 cups red and green peppers, cut into 1-inch pieces 1/2 teaspoon dried oregano 1/2 cup grated Parmesan cheese (optional)-----2 (8 ounce) fillets milkfish (bangus) 1 tomato, quartered 1 onion, chopped 2 tablespoons shrimp paste (bagoong) 1 cup water salt and pepper to taste 1/2 pound long beans, cut into bite-size pieces 1/2 pound zucchini, cut into bite-size pieces 1/2 pound fresh okra\n",
      "----------------------------------------------------------------------\n",
      " pieces   inch  inch pieces  cut inch  cut pieces   size   bite  chicken  bite size\n",
      "  0.123  0.057        0.045     0.043       0.031  0.023  0.022    0.022      0.018\n",
      "======================================================================\n",
      "topic: 2\n",
      "documents:\n",
      " Coffee-Crusted Beef Tenderloin Steak  0.5153846\n",
      "       Roasted Garlic Flat Iron Steak  0.4789474\n",
      "                    Cretons de Quebec  0.4590909\n",
      "1 pound pork sausage 2 cups milk 1 chopped onion 1 clove garlic, minced 1 teaspoon mixed spice salt and pepper to taste-----15 cloves garlic 1 tablespoon olive oil 1/2 cup olive oil 4 (8 ounce) flat iron steaks salt and ground black pepper to taste-----1/4 cup finely ground espresso beans 3 tablespoons brown sugar 2 teaspoons ground cinnamon 1 pinch ground cayenne pepper salt and ground black pepper to taste 2 (6 ounce) beef tenderloin steaks 1 tablespoon canola oil\n",
      "----------------------------------------------------------------------\n",
      " pinch  clove  clove garlic  pepper taste  garlic minced  pinch ground  salt ground  canola  pinch salt\n",
      " 0.080  0.050         0.049         0.048          0.046         0.017        0.016   0.015       0.015\n",
      "======================================================================\n",
      "topic: 3\n",
      "documents:\n",
      "   Mediterranean Lemon Chicken     0.604\n",
      "           Roasted Sherry Duck  0.583871\n",
      " Pork Tenderloin (Gluten-Free)  0.565625"
     ]
    }
   ],
   "source": [
    "show_topics(m, df, doc_probs, w)\n"
   ]
  },
  {
   "cell_type": "code",
   "execution_count": 146,
   "metadata": {
    "collapsed": false,
    "tags": [
     "worksheet-0"
    ]
   },
   "outputs": [],
   "source": []
  }
 ],
 "metadata": {},
 "nbformat": 4,
 "nbformat_minor": 0
}
